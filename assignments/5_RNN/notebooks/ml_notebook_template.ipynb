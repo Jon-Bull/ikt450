{
 "cells": [
  {
   "cell_type": "markdown",
   "metadata": {},
   "source": [
    "<!-- Notebook title -->\n",
    "# Title"
   ]
  },
  {
   "cell_type": "markdown",
   "metadata": {},
   "source": [
    "# 1. Notebook Description"
   ]
  },
  {
   "cell_type": "markdown",
   "metadata": {},
   "source": [
    "### 1.1 Task Description\n",
    "<!-- \n",
    "- A brief description of the problem you're solving with machine learning.\n",
    "- Define the objective (e.g., classification, regression, clustering, etc.).\n",
    "-->"
   ]
  },
  {
   "cell_type": "markdown",
   "metadata": {},
   "source": [
    "TODO"
   ]
  },
  {
   "cell_type": "markdown",
   "metadata": {},
   "source": [
    "### 1.2 Useful Resources\n",
    "<!--\n",
    "- Links to relevant papers, articles, or documentation.\n",
    "- Description of the datasets (if external).\n",
    "-->"
   ]
  },
  {
   "cell_type": "markdown",
   "metadata": {},
   "source": [
    "### 1.2.1 Data"
   ]
  },
  {
   "cell_type": "markdown",
   "metadata": {},
   "source": [
    "#### 1.2.1.1 Common"
   ]
  },
  {
   "cell_type": "markdown",
   "metadata": {},
   "source": [
    "* [Datasets Kaggle](https://www.kaggle.com/datasets)  \n",
    "  &nbsp;&nbsp;&nbsp;&nbsp;A vast repository of datasets across various domains provided by Kaggle, a platform for data science competitions.\n",
    "  \n",
    "* [Toy datasets from Sklearn](https://scikit-learn.org/stable/datasets/toy_dataset.html)  \n",
    "  &nbsp;&nbsp;&nbsp;&nbsp;A collection of small datasets that come with the Scikit-learn library, useful for quick prototyping and testing algorithms.\n",
    "  \n",
    "* [UCI Machine Learning Repository](https://archive.ics.uci.edu/ml/index.php)  \n",
    "  &nbsp;&nbsp;&nbsp;&nbsp;A widely-used repository for machine learning datasets, with a variety of real-world datasets available for research and experimentation.\n",
    "  \n",
    "* [Google Dataset Search](https://datasetsearch.research.google.com/)  \n",
    "  &nbsp;&nbsp;&nbsp;&nbsp;A tool from Google that helps to find datasets stored across the web, with a focus on publicly available data.\n",
    "  \n",
    "* [AWS Public Datasets](https://registry.opendata.aws/)  \n",
    "  &nbsp;&nbsp;&nbsp;&nbsp;A registry of publicly available datasets that can be analyzed on the cloud using Amazon Web Services (AWS).\n",
    "  \n",
    "* [Microsoft Azure Open Datasets](https://azure.microsoft.com/en-us/services/open-datasets/)  \n",
    "  &nbsp;&nbsp;&nbsp;&nbsp;A collection of curated datasets from various domains, made available by Microsoft Azure for use in machine learning and analytics.\n",
    "  \n",
    "* [Awesome Public Datasets](https://github.com/awesomedata/awesome-public-datasets)  \n",
    "  &nbsp;&nbsp;&nbsp;&nbsp;A GitHub repository that lists a wide variety of datasets across different domains, curated by the community.\n",
    "  \n",
    "* [Data.gov](https://www.data.gov/)  \n",
    "  &nbsp;&nbsp;&nbsp;&nbsp;A portal to the US government's open data, offering access to a wide range of datasets from various federal agencies.\n",
    "  \n",
    "* [Google BigQuery Public Datasets](https://cloud.google.com/bigquery/public-data)  \n",
    "  &nbsp;&nbsp;&nbsp;&nbsp;Public datasets hosted by Google BigQuery, allowing for quick and powerful querying of large datasets in the cloud.\n",
    "  \n",
    "* [Papers with Code](https://paperswithcode.com/datasets)  \n",
    "  &nbsp;&nbsp;&nbsp;&nbsp;A platform that links research papers with the corresponding code and datasets, helping researchers reproduce results and explore new data.\n",
    "  \n",
    "* [Zenodo](https://zenodo.org/)  \n",
    "  &nbsp;&nbsp;&nbsp;&nbsp;An open-access repository that allows researchers to share datasets, software, and other research outputs, often linked to academic publications.\n",
    "  \n",
    "* [The World Bank Open Data](https://data.worldbank.org/)  \n",
    "  &nbsp;&nbsp;&nbsp;&nbsp;A comprehensive source of global development data, with datasets covering various economic and social indicators.\n",
    "  \n",
    "* [OpenML](https://www.openml.org/)  \n",
    "  &nbsp;&nbsp;&nbsp;&nbsp;An online platform for sharing datasets, machine learning experiments, and results, fostering collaboration in the ML community.\n",
    "  \n",
    "* [Stanford Large Network Dataset Collection (SNAP)](https://snap.stanford.edu/data/)  \n",
    "  &nbsp;&nbsp;&nbsp;&nbsp;A collection of large-scale network datasets from Stanford University, useful for network analysis and graph-based machine learning.\n",
    "  \n",
    "* [KDnuggets Datasets](https://www.kdnuggets.com/datasets/index.html)  \n",
    "  &nbsp;&nbsp;&nbsp;&nbsp;A curated list of datasets for data mining and data science, compiled by the KDnuggets community.\n"
   ]
  },
  {
   "cell_type": "markdown",
   "metadata": {},
   "source": [
    "#### 1.2.1.2 Project"
   ]
  },
  {
   "cell_type": "markdown",
   "metadata": {},
   "source": []
  },
  {
   "cell_type": "markdown",
   "metadata": {},
   "source": [
    "### 1.2.2 Learning"
   ]
  },
  {
   "cell_type": "markdown",
   "metadata": {},
   "source": [
    "* [K-Nearest Neighbors on Kaggle](https://www.kaggle.com/code/mmdatainfo/k-nearest-neighbors)\n",
    "\n",
    "* [Complete Guide to K-Nearest-Neighbors](https://kevinzakka.github.io/2016/07/13/k-nearest-neighbor)"
   ]
  },
  {
   "cell_type": "markdown",
   "metadata": {},
   "source": [
    "### 1.2.3 Documentation"
   ]
  },
  {
   "cell_type": "markdown",
   "metadata": {},
   "source": [
    "---"
   ]
  },
  {
   "cell_type": "markdown",
   "metadata": {},
   "source": [
    "# 2. Setup"
   ]
  },
  {
   "cell_type": "code",
   "execution_count": 28,
   "metadata": {},
   "outputs": [],
   "source": [
    "from ikt450.src.common_imports import *\n",
    "from ikt450.src.config import get_paths\n",
    "from ikt450.src.common_func import load_dataset, save_dataframe, ensure_dir_exists"
   ]
  },
  {
   "cell_type": "code",
   "execution_count": 29,
   "metadata": {},
   "outputs": [],
   "source": [
    "paths = get_paths()"
   ]
  },
  {
   "cell_type": "code",
   "execution_count": 30,
   "metadata": {},
   "outputs": [],
   "source": [
    "RANDOM_SEED = 7"
   ]
  },
  {
   "cell_type": "code",
   "execution_count": 31,
   "metadata": {},
   "outputs": [],
   "source": [
    "SPLITRATIO = 0.8"
   ]
  },
  {
   "cell_type": "markdown",
   "metadata": {},
   "source": [
    "---"
   ]
  },
  {
   "cell_type": "markdown",
   "metadata": {},
   "source": [
    "## 4.1 Data loading\n",
    "<!--\n",
    "- Load datasets from files or other sources.\n",
    "-->"
   ]
  },
  {
   "cell_type": "code",
   "execution_count": 32,
   "metadata": {},
   "outputs": [],
   "source": [
    "questions_df = pd.read_csv(f\"{paths['PATH_COMMON_DATASETS']}/pythonQuestions/Questions.csv\", delimiter=\",\", encoding=\"latin-1\")\n",
    "tags_df = pd.read_csv(f\"{paths['PATH_COMMON_DATASETS']}/pythonQuestions/Tags.csv\", delimiter=\",\", encoding=\"latin-1\")\n",
    "answers_df = pd.read_csv(f\"{paths['PATH_COMMON_DATASETS']}/pythonQuestions/Answers.csv\", delimiter=\",\", encoding=\"latin-1\")"
   ]
  },
  {
   "cell_type": "markdown",
   "metadata": {},
   "source": [
    "### 4.2.1 Info"
   ]
  },
  {
   "cell_type": "code",
   "execution_count": 33,
   "metadata": {},
   "outputs": [
    {
     "name": "stdout",
     "output_type": "stream",
     "text": [
      "<class 'pandas.core.frame.DataFrame'>\n",
      "RangeIndex: 1885078 entries, 0 to 1885077\n",
      "Data columns (total 2 columns):\n",
      " #   Column  Dtype \n",
      "---  ------  ----- \n",
      " 0   Id      int64 \n",
      " 1   Tag     object\n",
      "dtypes: int64(1), object(1)\n",
      "memory usage: 28.8+ MB\n",
      "None\n",
      "<class 'pandas.core.frame.DataFrame'>\n",
      "RangeIndex: 607282 entries, 0 to 607281\n",
      "Data columns (total 6 columns):\n",
      " #   Column        Non-Null Count   Dtype  \n",
      "---  ------        --------------   -----  \n",
      " 0   Id            607282 non-null  int64  \n",
      " 1   OwnerUserId   601070 non-null  float64\n",
      " 2   CreationDate  607282 non-null  object \n",
      " 3   Score         607282 non-null  int64  \n",
      " 4   Title         607282 non-null  object \n",
      " 5   Body          607282 non-null  object \n",
      "dtypes: float64(1), int64(2), object(3)\n",
      "memory usage: 27.8+ MB\n",
      "None\n",
      "<class 'pandas.core.frame.DataFrame'>\n",
      "RangeIndex: 987122 entries, 0 to 987121\n",
      "Data columns (total 6 columns):\n",
      " #   Column        Non-Null Count   Dtype  \n",
      "---  ------        --------------   -----  \n",
      " 0   Id            987122 non-null  int64  \n",
      " 1   OwnerUserId   981755 non-null  float64\n",
      " 2   CreationDate  987122 non-null  object \n",
      " 3   ParentId      987122 non-null  int64  \n",
      " 4   Score         987122 non-null  int64  \n",
      " 5   Body          987122 non-null  object \n",
      "dtypes: float64(1), int64(3), object(2)\n",
      "memory usage: 45.2+ MB\n",
      "None\n"
     ]
    }
   ],
   "source": [
    "print(tags_df.info())\n",
    "print(questions_df.info())\n",
    "print(answers_df.info())"
   ]
  },
  {
   "cell_type": "code",
   "execution_count": 34,
   "metadata": {},
   "outputs": [],
   "source": [
    "# Merge the tags and questions dataframes\n",
    "\n"
   ]
  },
  {
   "cell_type": "markdown",
   "metadata": {},
   "source": [
    "### 4.2.2 Describe"
   ]
  },
  {
   "cell_type": "code",
   "execution_count": 35,
   "metadata": {},
   "outputs": [],
   "source": [
    "num_tags = len(list(tags_df[\"Tag\"].unique()))\n",
    "unique_tags = list(tags_df[\"Tag\"].unique())"
   ]
  },
  {
   "cell_type": "code",
   "execution_count": 36,
   "metadata": {},
   "outputs": [
    {
     "data": {
      "text/plain": [
       "16896"
      ]
     },
     "execution_count": 36,
     "metadata": {},
     "output_type": "execute_result"
    }
   ],
   "source": [
    "num_tags"
   ]
  },
  {
   "cell_type": "code",
   "execution_count": 37,
   "metadata": {},
   "outputs": [
    {
     "data": {
      "text/html": [
       "<div>\n",
       "<style scoped>\n",
       "    .dataframe tbody tr th:only-of-type {\n",
       "        vertical-align: middle;\n",
       "    }\n",
       "\n",
       "    .dataframe tbody tr th {\n",
       "        vertical-align: top;\n",
       "    }\n",
       "\n",
       "    .dataframe thead th {\n",
       "        text-align: right;\n",
       "    }\n",
       "</style>\n",
       "<table border=\"1\" class=\"dataframe\">\n",
       "  <thead>\n",
       "    <tr style=\"text-align: right;\">\n",
       "      <th></th>\n",
       "      <th>Id</th>\n",
       "      <th>OwnerUserId</th>\n",
       "      <th>CreationDate</th>\n",
       "      <th>Score</th>\n",
       "      <th>Title</th>\n",
       "      <th>Body</th>\n",
       "    </tr>\n",
       "  </thead>\n",
       "  <tbody>\n",
       "    <tr>\n",
       "      <th>0</th>\n",
       "      <td>469</td>\n",
       "      <td>147.0</td>\n",
       "      <td>2008-08-02T15:11:16Z</td>\n",
       "      <td>21</td>\n",
       "      <td>How can I find the full path to a font from it...</td>\n",
       "      <td>&lt;p&gt;I am using the Photoshop's javascript API t...</td>\n",
       "    </tr>\n",
       "    <tr>\n",
       "      <th>1</th>\n",
       "      <td>502</td>\n",
       "      <td>147.0</td>\n",
       "      <td>2008-08-02T17:01:58Z</td>\n",
       "      <td>27</td>\n",
       "      <td>Get a preview JPEG of a PDF on Windows?</td>\n",
       "      <td>&lt;p&gt;I have a cross-platform (Python) applicatio...</td>\n",
       "    </tr>\n",
       "    <tr>\n",
       "      <th>2</th>\n",
       "      <td>535</td>\n",
       "      <td>154.0</td>\n",
       "      <td>2008-08-02T18:43:54Z</td>\n",
       "      <td>40</td>\n",
       "      <td>Continuous Integration System for a Python Cod...</td>\n",
       "      <td>&lt;p&gt;I'm starting work on a hobby project with a...</td>\n",
       "    </tr>\n",
       "    <tr>\n",
       "      <th>3</th>\n",
       "      <td>594</td>\n",
       "      <td>116.0</td>\n",
       "      <td>2008-08-03T01:15:08Z</td>\n",
       "      <td>25</td>\n",
       "      <td>cx_Oracle: How do I iterate over a result set?</td>\n",
       "      <td>&lt;p&gt;There are several ways to iterate over a re...</td>\n",
       "    </tr>\n",
       "    <tr>\n",
       "      <th>4</th>\n",
       "      <td>683</td>\n",
       "      <td>199.0</td>\n",
       "      <td>2008-08-03T13:19:16Z</td>\n",
       "      <td>28</td>\n",
       "      <td>Using 'in' to match an attribute of Python obj...</td>\n",
       "      <td>&lt;p&gt;I don't remember whether I was dreaming or ...</td>\n",
       "    </tr>\n",
       "    <tr>\n",
       "      <th>...</th>\n",
       "      <td>...</td>\n",
       "      <td>...</td>\n",
       "      <td>...</td>\n",
       "      <td>...</td>\n",
       "      <td>...</td>\n",
       "      <td>...</td>\n",
       "    </tr>\n",
       "    <tr>\n",
       "      <th>607277</th>\n",
       "      <td>40143190</td>\n",
       "      <td>333403.0</td>\n",
       "      <td>2016-10-19T23:36:01Z</td>\n",
       "      <td>1</td>\n",
       "      <td>How to execute multiline python code from a ba...</td>\n",
       "      <td>&lt;p&gt;I need to extend a shell script (bash). As ...</td>\n",
       "    </tr>\n",
       "    <tr>\n",
       "      <th>607278</th>\n",
       "      <td>40143228</td>\n",
       "      <td>6662462.0</td>\n",
       "      <td>2016-10-19T23:40:00Z</td>\n",
       "      <td>0</td>\n",
       "      <td>How to get google reCaptcha image source using...</td>\n",
       "      <td>&lt;p&gt;I understood that reCaptcha loads a new fra...</td>\n",
       "    </tr>\n",
       "    <tr>\n",
       "      <th>607279</th>\n",
       "      <td>40143267</td>\n",
       "      <td>4064680.0</td>\n",
       "      <td>2016-10-19T23:44:07Z</td>\n",
       "      <td>0</td>\n",
       "      <td>Updating an ManyToMany field with Django rest</td>\n",
       "      <td>&lt;p&gt;I'm trying to set up this API so I can use ...</td>\n",
       "    </tr>\n",
       "    <tr>\n",
       "      <th>607280</th>\n",
       "      <td>40143338</td>\n",
       "      <td>7044980.0</td>\n",
       "      <td>2016-10-19T23:52:27Z</td>\n",
       "      <td>2</td>\n",
       "      <td>Most possible pairs</td>\n",
       "      <td>&lt;p&gt;Given a list of values, and information on ...</td>\n",
       "    </tr>\n",
       "    <tr>\n",
       "      <th>607281</th>\n",
       "      <td>40143365</td>\n",
       "      <td>4133131.0</td>\n",
       "      <td>2016-10-19T23:55:49Z</td>\n",
       "      <td>0</td>\n",
       "      <td>Theano operations returning odd results</td>\n",
       "      <td>&lt;p&gt;So I'm trying to learn how to use Theano an...</td>\n",
       "    </tr>\n",
       "  </tbody>\n",
       "</table>\n",
       "<p>607282 rows × 6 columns</p>\n",
       "</div>"
      ],
      "text/plain": [
       "              Id  OwnerUserId          CreationDate  Score  \\\n",
       "0            469        147.0  2008-08-02T15:11:16Z     21   \n",
       "1            502        147.0  2008-08-02T17:01:58Z     27   \n",
       "2            535        154.0  2008-08-02T18:43:54Z     40   \n",
       "3            594        116.0  2008-08-03T01:15:08Z     25   \n",
       "4            683        199.0  2008-08-03T13:19:16Z     28   \n",
       "...          ...          ...                   ...    ...   \n",
       "607277  40143190     333403.0  2016-10-19T23:36:01Z      1   \n",
       "607278  40143228    6662462.0  2016-10-19T23:40:00Z      0   \n",
       "607279  40143267    4064680.0  2016-10-19T23:44:07Z      0   \n",
       "607280  40143338    7044980.0  2016-10-19T23:52:27Z      2   \n",
       "607281  40143365    4133131.0  2016-10-19T23:55:49Z      0   \n",
       "\n",
       "                                                    Title  \\\n",
       "0       How can I find the full path to a font from it...   \n",
       "1                 Get a preview JPEG of a PDF on Windows?   \n",
       "2       Continuous Integration System for a Python Cod...   \n",
       "3          cx_Oracle: How do I iterate over a result set?   \n",
       "4       Using 'in' to match an attribute of Python obj...   \n",
       "...                                                   ...   \n",
       "607277  How to execute multiline python code from a ba...   \n",
       "607278  How to get google reCaptcha image source using...   \n",
       "607279      Updating an ManyToMany field with Django rest   \n",
       "607280                                Most possible pairs   \n",
       "607281            Theano operations returning odd results   \n",
       "\n",
       "                                                     Body  \n",
       "0       <p>I am using the Photoshop's javascript API t...  \n",
       "1       <p>I have a cross-platform (Python) applicatio...  \n",
       "2       <p>I'm starting work on a hobby project with a...  \n",
       "3       <p>There are several ways to iterate over a re...  \n",
       "4       <p>I don't remember whether I was dreaming or ...  \n",
       "...                                                   ...  \n",
       "607277  <p>I need to extend a shell script (bash). As ...  \n",
       "607278  <p>I understood that reCaptcha loads a new fra...  \n",
       "607279  <p>I'm trying to set up this API so I can use ...  \n",
       "607280  <p>Given a list of values, and information on ...  \n",
       "607281  <p>So I'm trying to learn how to use Theano an...  \n",
       "\n",
       "[607282 rows x 6 columns]"
      ]
     },
     "execution_count": 37,
     "metadata": {},
     "output_type": "execute_result"
    }
   ],
   "source": [
    "questions_df"
   ]
  },
  {
   "cell_type": "code",
   "execution_count": 38,
   "metadata": {},
   "outputs": [],
   "source": [
    "tags_grouped = tags_df.groupby('Id')['Tag'].apply(list).reset_index(name='Tags')\n",
    "questions_and_tags_df = questions_df.merge(tags_grouped,on=\"Id\")\n",
    "\n"
   ]
  },
  {
   "cell_type": "code",
   "execution_count": 39,
   "metadata": {},
   "outputs": [
    {
     "data": {
      "text/html": [
       "<div>\n",
       "<style scoped>\n",
       "    .dataframe tbody tr th:only-of-type {\n",
       "        vertical-align: middle;\n",
       "    }\n",
       "\n",
       "    .dataframe tbody tr th {\n",
       "        vertical-align: top;\n",
       "    }\n",
       "\n",
       "    .dataframe thead th {\n",
       "        text-align: right;\n",
       "    }\n",
       "</style>\n",
       "<table border=\"1\" class=\"dataframe\">\n",
       "  <thead>\n",
       "    <tr style=\"text-align: right;\">\n",
       "      <th></th>\n",
       "      <th>Id_answer</th>\n",
       "      <th>OwnerUserId_answer</th>\n",
       "      <th>CreationDate_answer</th>\n",
       "      <th>ParentId</th>\n",
       "      <th>Score_answer</th>\n",
       "      <th>Body_answer</th>\n",
       "      <th>Id_question</th>\n",
       "      <th>OwnerUserId_question</th>\n",
       "      <th>CreationDate_question</th>\n",
       "      <th>Score_question</th>\n",
       "      <th>Title</th>\n",
       "      <th>Body_question</th>\n",
       "      <th>Tags_answer</th>\n",
       "      <th>Id</th>\n",
       "      <th>Tags_question</th>\n",
       "    </tr>\n",
       "  </thead>\n",
       "  <tbody>\n",
       "    <tr>\n",
       "      <th>0</th>\n",
       "      <td>497</td>\n",
       "      <td>50.0</td>\n",
       "      <td>2008-08-02T16:56:53Z</td>\n",
       "      <td>469</td>\n",
       "      <td>4</td>\n",
       "      <td>&lt;p&gt;open up a terminal (Applications-&amp;gt;Utilit...</td>\n",
       "      <td>469</td>\n",
       "      <td>147.0</td>\n",
       "      <td>2008-08-02T15:11:16Z</td>\n",
       "      <td>21</td>\n",
       "      <td>How can I find the full path to a font from it...</td>\n",
       "      <td>&lt;p&gt;I am using the Photoshop's javascript API t...</td>\n",
       "      <td>[python, osx, fonts, photoshop]</td>\n",
       "      <td>469</td>\n",
       "      <td>[python, osx, fonts, photoshop]</td>\n",
       "    </tr>\n",
       "    <tr>\n",
       "      <th>1</th>\n",
       "      <td>518</td>\n",
       "      <td>153.0</td>\n",
       "      <td>2008-08-02T17:42:28Z</td>\n",
       "      <td>469</td>\n",
       "      <td>2</td>\n",
       "      <td>&lt;p&gt;I haven't been able to find anything that d...</td>\n",
       "      <td>469</td>\n",
       "      <td>147.0</td>\n",
       "      <td>2008-08-02T15:11:16Z</td>\n",
       "      <td>21</td>\n",
       "      <td>How can I find the full path to a font from it...</td>\n",
       "      <td>&lt;p&gt;I am using the Photoshop's javascript API t...</td>\n",
       "      <td>[python, osx, fonts, photoshop]</td>\n",
       "      <td>469</td>\n",
       "      <td>[python, osx, fonts, photoshop]</td>\n",
       "    </tr>\n",
       "    <tr>\n",
       "      <th>2</th>\n",
       "      <td>3040</td>\n",
       "      <td>457.0</td>\n",
       "      <td>2008-08-06T03:01:23Z</td>\n",
       "      <td>469</td>\n",
       "      <td>12</td>\n",
       "      <td>&lt;p&gt;Unfortunately the only API that isn't depre...</td>\n",
       "      <td>469</td>\n",
       "      <td>147.0</td>\n",
       "      <td>2008-08-02T15:11:16Z</td>\n",
       "      <td>21</td>\n",
       "      <td>How can I find the full path to a font from it...</td>\n",
       "      <td>&lt;p&gt;I am using the Photoshop's javascript API t...</td>\n",
       "      <td>[python, osx, fonts, photoshop]</td>\n",
       "      <td>469</td>\n",
       "      <td>[python, osx, fonts, photoshop]</td>\n",
       "    </tr>\n",
       "    <tr>\n",
       "      <th>3</th>\n",
       "      <td>195170</td>\n",
       "      <td>745.0</td>\n",
       "      <td>2008-10-12T07:02:40Z</td>\n",
       "      <td>469</td>\n",
       "      <td>1</td>\n",
       "      <td>&lt;p&gt;There must be a method in Cocoa to get a li...</td>\n",
       "      <td>469</td>\n",
       "      <td>147.0</td>\n",
       "      <td>2008-08-02T15:11:16Z</td>\n",
       "      <td>21</td>\n",
       "      <td>How can I find the full path to a font from it...</td>\n",
       "      <td>&lt;p&gt;I am using the Photoshop's javascript API t...</td>\n",
       "      <td>[python, osx, fonts, photoshop]</td>\n",
       "      <td>469</td>\n",
       "      <td>[python, osx, fonts, photoshop]</td>\n",
       "    </tr>\n",
       "    <tr>\n",
       "      <th>4</th>\n",
       "      <td>536</td>\n",
       "      <td>161.0</td>\n",
       "      <td>2008-08-02T18:49:07Z</td>\n",
       "      <td>502</td>\n",
       "      <td>9</td>\n",
       "      <td>&lt;p&gt;You can use ImageMagick's convert utility f...</td>\n",
       "      <td>502</td>\n",
       "      <td>147.0</td>\n",
       "      <td>2008-08-02T17:01:58Z</td>\n",
       "      <td>27</td>\n",
       "      <td>Get a preview JPEG of a PDF on Windows?</td>\n",
       "      <td>&lt;p&gt;I have a cross-platform (Python) applicatio...</td>\n",
       "      <td>[python, windows, image, pdf]</td>\n",
       "      <td>502</td>\n",
       "      <td>[python, windows, image, pdf]</td>\n",
       "    </tr>\n",
       "    <tr>\n",
       "      <th>...</th>\n",
       "      <td>...</td>\n",
       "      <td>...</td>\n",
       "      <td>...</td>\n",
       "      <td>...</td>\n",
       "      <td>...</td>\n",
       "      <td>...</td>\n",
       "      <td>...</td>\n",
       "      <td>...</td>\n",
       "      <td>...</td>\n",
       "      <td>...</td>\n",
       "      <td>...</td>\n",
       "      <td>...</td>\n",
       "      <td>...</td>\n",
       "      <td>...</td>\n",
       "      <td>...</td>\n",
       "    </tr>\n",
       "    <tr>\n",
       "      <th>987117</th>\n",
       "      <td>40143239</td>\n",
       "      <td>6640099.0</td>\n",
       "      <td>2016-10-19T23:41:38Z</td>\n",
       "      <td>40142731</td>\n",
       "      <td>2</td>\n",
       "      <td>&lt;p&gt;Well there are many different ways to detec...</td>\n",
       "      <td>40142731</td>\n",
       "      <td>6875348.0</td>\n",
       "      <td>2016-10-19T22:46:59Z</td>\n",
       "      <td>0</td>\n",
       "      <td>Collision Between two sprites - Python 3.5.2</td>\n",
       "      <td>&lt;p&gt;I have an image of a ufo and a missile. I'm...</td>\n",
       "      <td>[python, pygame, collision-detection]</td>\n",
       "      <td>40142731</td>\n",
       "      <td>[python, pygame, collision-detection]</td>\n",
       "    </tr>\n",
       "    <tr>\n",
       "      <th>987118</th>\n",
       "      <td>40143315</td>\n",
       "      <td>3125566.0</td>\n",
       "      <td>2016-10-19T23:49:43Z</td>\n",
       "      <td>40143166</td>\n",
       "      <td>2</td>\n",
       "      <td>&lt;p&gt;First thing, you should use &lt;code&gt;if/elif&lt;/...</td>\n",
       "      <td>40143166</td>\n",
       "      <td>7044992.0</td>\n",
       "      <td>2016-10-19T23:33:31Z</td>\n",
       "      <td>1</td>\n",
       "      <td>finding cubed root using delta and epsilon in ...</td>\n",
       "      <td>&lt;p&gt;I am trying to write a program that finds c...</td>\n",
       "      <td>[python, python-3.x]</td>\n",
       "      <td>40143166</td>\n",
       "      <td>[python, python-3.x]</td>\n",
       "    </tr>\n",
       "    <tr>\n",
       "      <th>987119</th>\n",
       "      <td>40143317</td>\n",
       "      <td>2350575.0</td>\n",
       "      <td>2016-10-19T23:50:04Z</td>\n",
       "      <td>40142194</td>\n",
       "      <td>0</td>\n",
       "      <td>&lt;p&gt;If you are using firefox ver &gt;47.0.1 you ne...</td>\n",
       "      <td>40142194</td>\n",
       "      <td>7044759.0</td>\n",
       "      <td>2016-10-19T21:58:32Z</td>\n",
       "      <td>1</td>\n",
       "      <td>errors with webdriver.Firefox() with selenium</td>\n",
       "      <td>&lt;p&gt;I am using python 3.5, firefox 45 (also tri...</td>\n",
       "      <td>[python, selenium, firefox]</td>\n",
       "      <td>40142194</td>\n",
       "      <td>[python, selenium, firefox]</td>\n",
       "    </tr>\n",
       "    <tr>\n",
       "      <th>987120</th>\n",
       "      <td>40143349</td>\n",
       "      <td>6934347.0</td>\n",
       "      <td>2016-10-19T23:54:02Z</td>\n",
       "      <td>40077010</td>\n",
       "      <td>0</td>\n",
       "      <td>&lt;p&gt;I solved my own problem defining the follow...</td>\n",
       "      <td>40077010</td>\n",
       "      <td>6934347.0</td>\n",
       "      <td>2016-10-17T00:33:51Z</td>\n",
       "      <td>2</td>\n",
       "      <td>Can't pass random variable to tf.image.central...</td>\n",
       "      <td>&lt;p&gt;In Tensorflow I am training from a set of P...</td>\n",
       "      <td>[python, tensorflow]</td>\n",
       "      <td>40077010</td>\n",
       "      <td>[python, tensorflow]</td>\n",
       "    </tr>\n",
       "    <tr>\n",
       "      <th>987121</th>\n",
       "      <td>40143370</td>\n",
       "      <td>6502500.0</td>\n",
       "      <td>2016-10-19T23:56:31Z</td>\n",
       "      <td>40142538</td>\n",
       "      <td>0</td>\n",
       "      <td>&lt;p&gt;I can't seem to reproduce your error but up...</td>\n",
       "      <td>40142538</td>\n",
       "      <td>5992039.0</td>\n",
       "      <td>2016-10-19T22:28:03Z</td>\n",
       "      <td>0</td>\n",
       "      <td>Scrapy spider for JSON response is giving me e...</td>\n",
       "      <td>&lt;pre&gt;&lt;code&gt;import json\\nimport scrapy\\n\\nclass...</td>\n",
       "      <td>[python, json, python-2.7, scrapy, scrapy-spider]</td>\n",
       "      <td>40142538</td>\n",
       "      <td>[python, json, python-2.7, scrapy, scrapy-spider]</td>\n",
       "    </tr>\n",
       "  </tbody>\n",
       "</table>\n",
       "<p>987122 rows × 15 columns</p>\n",
       "</div>"
      ],
      "text/plain": [
       "        Id_answer  OwnerUserId_answer   CreationDate_answer  ParentId  \\\n",
       "0             497                50.0  2008-08-02T16:56:53Z       469   \n",
       "1             518               153.0  2008-08-02T17:42:28Z       469   \n",
       "2            3040               457.0  2008-08-06T03:01:23Z       469   \n",
       "3          195170               745.0  2008-10-12T07:02:40Z       469   \n",
       "4             536               161.0  2008-08-02T18:49:07Z       502   \n",
       "...           ...                 ...                   ...       ...   \n",
       "987117   40143239           6640099.0  2016-10-19T23:41:38Z  40142731   \n",
       "987118   40143315           3125566.0  2016-10-19T23:49:43Z  40143166   \n",
       "987119   40143317           2350575.0  2016-10-19T23:50:04Z  40142194   \n",
       "987120   40143349           6934347.0  2016-10-19T23:54:02Z  40077010   \n",
       "987121   40143370           6502500.0  2016-10-19T23:56:31Z  40142538   \n",
       "\n",
       "        Score_answer                                        Body_answer  \\\n",
       "0                  4  <p>open up a terminal (Applications-&gt;Utilit...   \n",
       "1                  2  <p>I haven't been able to find anything that d...   \n",
       "2                 12  <p>Unfortunately the only API that isn't depre...   \n",
       "3                  1  <p>There must be a method in Cocoa to get a li...   \n",
       "4                  9  <p>You can use ImageMagick's convert utility f...   \n",
       "...              ...                                                ...   \n",
       "987117             2  <p>Well there are many different ways to detec...   \n",
       "987118             2  <p>First thing, you should use <code>if/elif</...   \n",
       "987119             0  <p>If you are using firefox ver >47.0.1 you ne...   \n",
       "987120             0  <p>I solved my own problem defining the follow...   \n",
       "987121             0  <p>I can't seem to reproduce your error but up...   \n",
       "\n",
       "        Id_question  OwnerUserId_question CreationDate_question  \\\n",
       "0               469                 147.0  2008-08-02T15:11:16Z   \n",
       "1               469                 147.0  2008-08-02T15:11:16Z   \n",
       "2               469                 147.0  2008-08-02T15:11:16Z   \n",
       "3               469                 147.0  2008-08-02T15:11:16Z   \n",
       "4               502                 147.0  2008-08-02T17:01:58Z   \n",
       "...             ...                   ...                   ...   \n",
       "987117     40142731             6875348.0  2016-10-19T22:46:59Z   \n",
       "987118     40143166             7044992.0  2016-10-19T23:33:31Z   \n",
       "987119     40142194             7044759.0  2016-10-19T21:58:32Z   \n",
       "987120     40077010             6934347.0  2016-10-17T00:33:51Z   \n",
       "987121     40142538             5992039.0  2016-10-19T22:28:03Z   \n",
       "\n",
       "        Score_question                                              Title  \\\n",
       "0                   21  How can I find the full path to a font from it...   \n",
       "1                   21  How can I find the full path to a font from it...   \n",
       "2                   21  How can I find the full path to a font from it...   \n",
       "3                   21  How can I find the full path to a font from it...   \n",
       "4                   27            Get a preview JPEG of a PDF on Windows?   \n",
       "...                ...                                                ...   \n",
       "987117               0       Collision Between two sprites - Python 3.5.2   \n",
       "987118               1  finding cubed root using delta and epsilon in ...   \n",
       "987119               1      errors with webdriver.Firefox() with selenium   \n",
       "987120               2  Can't pass random variable to tf.image.central...   \n",
       "987121               0  Scrapy spider for JSON response is giving me e...   \n",
       "\n",
       "                                            Body_question  \\\n",
       "0       <p>I am using the Photoshop's javascript API t...   \n",
       "1       <p>I am using the Photoshop's javascript API t...   \n",
       "2       <p>I am using the Photoshop's javascript API t...   \n",
       "3       <p>I am using the Photoshop's javascript API t...   \n",
       "4       <p>I have a cross-platform (Python) applicatio...   \n",
       "...                                                   ...   \n",
       "987117  <p>I have an image of a ufo and a missile. I'm...   \n",
       "987118  <p>I am trying to write a program that finds c...   \n",
       "987119  <p>I am using python 3.5, firefox 45 (also tri...   \n",
       "987120  <p>In Tensorflow I am training from a set of P...   \n",
       "987121  <pre><code>import json\\nimport scrapy\\n\\nclass...   \n",
       "\n",
       "                                              Tags_answer        Id  \\\n",
       "0                         [python, osx, fonts, photoshop]       469   \n",
       "1                         [python, osx, fonts, photoshop]       469   \n",
       "2                         [python, osx, fonts, photoshop]       469   \n",
       "3                         [python, osx, fonts, photoshop]       469   \n",
       "4                           [python, windows, image, pdf]       502   \n",
       "...                                                   ...       ...   \n",
       "987117              [python, pygame, collision-detection]  40142731   \n",
       "987118                               [python, python-3.x]  40143166   \n",
       "987119                        [python, selenium, firefox]  40142194   \n",
       "987120                               [python, tensorflow]  40077010   \n",
       "987121  [python, json, python-2.7, scrapy, scrapy-spider]  40142538   \n",
       "\n",
       "                                            Tags_question  \n",
       "0                         [python, osx, fonts, photoshop]  \n",
       "1                         [python, osx, fonts, photoshop]  \n",
       "2                         [python, osx, fonts, photoshop]  \n",
       "3                         [python, osx, fonts, photoshop]  \n",
       "4                           [python, windows, image, pdf]  \n",
       "...                                                   ...  \n",
       "987117              [python, pygame, collision-detection]  \n",
       "987118                               [python, python-3.x]  \n",
       "987119                        [python, selenium, firefox]  \n",
       "987120                               [python, tensorflow]  \n",
       "987121  [python, json, python-2.7, scrapy, scrapy-spider]  \n",
       "\n",
       "[987122 rows x 15 columns]"
      ]
     },
     "execution_count": 39,
     "metadata": {},
     "output_type": "execute_result"
    }
   ],
   "source": [
    "answers_and_questions_df = answers_df.merge(questions_and_tags_df, left_on=\"ParentId\", right_on=\"Id\", suffixes=('_answer', '_question'))\n",
    "answers_and_questions_df\n",
    "# merge the answers and questions with tags dataframes\n",
    "answers_and_questions_df = answers_and_questions_df.merge(tags_grouped, left_on=\"ParentId\", right_on=\"Id\", suffixes=('_answer', '_question'))\n",
    "answers_and_questions_df"
   ]
  },
  {
   "cell_type": "code",
   "execution_count": 40,
   "metadata": {},
   "outputs": [
    {
     "data": {
      "text/html": [
       "<div>\n",
       "<style scoped>\n",
       "    .dataframe tbody tr th:only-of-type {\n",
       "        vertical-align: middle;\n",
       "    }\n",
       "\n",
       "    .dataframe tbody tr th {\n",
       "        vertical-align: top;\n",
       "    }\n",
       "\n",
       "    .dataframe thead th {\n",
       "        text-align: right;\n",
       "    }\n",
       "</style>\n",
       "<table border=\"1\" class=\"dataframe\">\n",
       "  <thead>\n",
       "    <tr style=\"text-align: right;\">\n",
       "      <th></th>\n",
       "      <th>Body_answer</th>\n",
       "      <th>Tags_question</th>\n",
       "    </tr>\n",
       "  </thead>\n",
       "  <tbody>\n",
       "    <tr>\n",
       "      <th>0</th>\n",
       "      <td>&lt;p&gt;open up a terminal (Applications-&amp;gt;Utilit...</td>\n",
       "      <td>[python, osx, fonts, photoshop]</td>\n",
       "    </tr>\n",
       "    <tr>\n",
       "      <th>1</th>\n",
       "      <td>&lt;p&gt;I haven't been able to find anything that d...</td>\n",
       "      <td>[python, osx, fonts, photoshop]</td>\n",
       "    </tr>\n",
       "    <tr>\n",
       "      <th>2</th>\n",
       "      <td>&lt;p&gt;Unfortunately the only API that isn't depre...</td>\n",
       "      <td>[python, osx, fonts, photoshop]</td>\n",
       "    </tr>\n",
       "    <tr>\n",
       "      <th>3</th>\n",
       "      <td>&lt;p&gt;There must be a method in Cocoa to get a li...</td>\n",
       "      <td>[python, osx, fonts, photoshop]</td>\n",
       "    </tr>\n",
       "    <tr>\n",
       "      <th>4</th>\n",
       "      <td>&lt;p&gt;You can use ImageMagick's convert utility f...</td>\n",
       "      <td>[python, windows, image, pdf]</td>\n",
       "    </tr>\n",
       "    <tr>\n",
       "      <th>...</th>\n",
       "      <td>...</td>\n",
       "      <td>...</td>\n",
       "    </tr>\n",
       "    <tr>\n",
       "      <th>987117</th>\n",
       "      <td>&lt;p&gt;Well there are many different ways to detec...</td>\n",
       "      <td>[python, pygame, collision-detection]</td>\n",
       "    </tr>\n",
       "    <tr>\n",
       "      <th>987118</th>\n",
       "      <td>&lt;p&gt;First thing, you should use &lt;code&gt;if/elif&lt;/...</td>\n",
       "      <td>[python, python-3.x]</td>\n",
       "    </tr>\n",
       "    <tr>\n",
       "      <th>987119</th>\n",
       "      <td>&lt;p&gt;If you are using firefox ver &gt;47.0.1 you ne...</td>\n",
       "      <td>[python, selenium, firefox]</td>\n",
       "    </tr>\n",
       "    <tr>\n",
       "      <th>987120</th>\n",
       "      <td>&lt;p&gt;I solved my own problem defining the follow...</td>\n",
       "      <td>[python, tensorflow]</td>\n",
       "    </tr>\n",
       "    <tr>\n",
       "      <th>987121</th>\n",
       "      <td>&lt;p&gt;I can't seem to reproduce your error but up...</td>\n",
       "      <td>[python, json, python-2.7, scrapy, scrapy-spider]</td>\n",
       "    </tr>\n",
       "  </tbody>\n",
       "</table>\n",
       "<p>987122 rows × 2 columns</p>\n",
       "</div>"
      ],
      "text/plain": [
       "                                              Body_answer  \\\n",
       "0       <p>open up a terminal (Applications-&gt;Utilit...   \n",
       "1       <p>I haven't been able to find anything that d...   \n",
       "2       <p>Unfortunately the only API that isn't depre...   \n",
       "3       <p>There must be a method in Cocoa to get a li...   \n",
       "4       <p>You can use ImageMagick's convert utility f...   \n",
       "...                                                   ...   \n",
       "987117  <p>Well there are many different ways to detec...   \n",
       "987118  <p>First thing, you should use <code>if/elif</...   \n",
       "987119  <p>If you are using firefox ver >47.0.1 you ne...   \n",
       "987120  <p>I solved my own problem defining the follow...   \n",
       "987121  <p>I can't seem to reproduce your error but up...   \n",
       "\n",
       "                                            Tags_question  \n",
       "0                         [python, osx, fonts, photoshop]  \n",
       "1                         [python, osx, fonts, photoshop]  \n",
       "2                         [python, osx, fonts, photoshop]  \n",
       "3                         [python, osx, fonts, photoshop]  \n",
       "4                           [python, windows, image, pdf]  \n",
       "...                                                   ...  \n",
       "987117              [python, pygame, collision-detection]  \n",
       "987118                               [python, python-3.x]  \n",
       "987119                        [python, selenium, firefox]  \n",
       "987120                               [python, tensorflow]  \n",
       "987121  [python, json, python-2.7, scrapy, scrapy-spider]  \n",
       "\n",
       "[987122 rows x 2 columns]"
      ]
     },
     "execution_count": 40,
     "metadata": {},
     "output_type": "execute_result"
    }
   ],
   "source": [
    "# keep only the columns we need\n",
    "# answers body and tag\n",
    "answers_and_questions_df = answers_and_questions_df[[\"Body_answer\", \"Tags_question\"]]\n",
    "answers_and_questions_df"
   ]
  },
  {
   "cell_type": "code",
   "execution_count": 41,
   "metadata": {},
   "outputs": [],
   "source": [
    "\n",
    "# find the most common tags\n",
    "tag_count = {}\n",
    "for tags in questions_and_tags_df[\"Tags\"]:\n",
    "    for tag in tags:\n",
    "        if tag in tag_count:\n",
    "            tag_count[tag] += 1\n",
    "        else:\n",
    "            tag_count[tag] = 1\n",
    "            \n",
    "\n"
   ]
  },
  {
   "cell_type": "code",
   "execution_count": 42,
   "metadata": {},
   "outputs": [
    {
     "data": {
      "text/plain": [
       "['tkinter',\n",
       " 'string',\n",
       " 'flask',\n",
       " 'google-app-engine',\n",
       " 'csv',\n",
       " 'arrays',\n",
       " 'json',\n",
       " 'mysql',\n",
       " 'linux',\n",
       " 'html']"
      ]
     },
     "execution_count": 42,
     "metadata": {},
     "output_type": "execute_result"
    }
   ],
   "source": [
    "tag_count\n",
    "# sort the tags by count\n",
    "sorted_tags = sorted(tag_count.items(), key=lambda x: x[1], reverse=True)\n",
    "sorted_tags\n",
    "\n",
    "# get the top 10 tags\n",
    "\n",
    "# \n",
    "class_count = 10\n",
    "# get the top 100 with out the top 10\n",
    "top_100_tags = [tag for tag, count in sorted_tags[10:(10+class_count)]]\n",
    "top_100_tags\n",
    "\n",
    "\n"
   ]
  },
  {
   "cell_type": "code",
   "execution_count": 43,
   "metadata": {},
   "outputs": [
    {
     "name": "stderr",
     "output_type": "stream",
     "text": [
      "C:\\Users\\jonin\\AppData\\Local\\Temp\\ipykernel_84708\\1080352315.py:6: SettingWithCopyWarning: \n",
      "A value is trying to be set on a copy of a slice from a DataFrame.\n",
      "Try using .loc[row_indexer,col_indexer] = value instead\n",
      "\n",
      "See the caveats in the documentation: https://pandas.pydata.org/pandas-docs/stable/user_guide/indexing.html#returning-a-view-versus-a-copy\n",
      "  answers_and_questions_df[\"Tags_question\"] = answers_and_questions_df[\"Tags_question\"].apply(lambda tags: [tag for tag in tags if tag in top_100_tags])\n"
     ]
    },
    {
     "data": {
      "text/html": [
       "<div>\n",
       "<style scoped>\n",
       "    .dataframe tbody tr th:only-of-type {\n",
       "        vertical-align: middle;\n",
       "    }\n",
       "\n",
       "    .dataframe tbody tr th {\n",
       "        vertical-align: top;\n",
       "    }\n",
       "\n",
       "    .dataframe thead th {\n",
       "        text-align: right;\n",
       "    }\n",
       "</style>\n",
       "<table border=\"1\" class=\"dataframe\">\n",
       "  <thead>\n",
       "    <tr style=\"text-align: right;\">\n",
       "      <th></th>\n",
       "      <th>Body_answer</th>\n",
       "      <th>Tags_question</th>\n",
       "    </tr>\n",
       "  </thead>\n",
       "  <tbody>\n",
       "    <tr>\n",
       "      <th>0</th>\n",
       "      <td>&lt;p&gt;open up a terminal (Applications-&amp;gt;Utilit...</td>\n",
       "      <td>[]</td>\n",
       "    </tr>\n",
       "    <tr>\n",
       "      <th>1</th>\n",
       "      <td>&lt;p&gt;I haven't been able to find anything that d...</td>\n",
       "      <td>[]</td>\n",
       "    </tr>\n",
       "    <tr>\n",
       "      <th>2</th>\n",
       "      <td>&lt;p&gt;Unfortunately the only API that isn't depre...</td>\n",
       "      <td>[]</td>\n",
       "    </tr>\n",
       "    <tr>\n",
       "      <th>3</th>\n",
       "      <td>&lt;p&gt;There must be a method in Cocoa to get a li...</td>\n",
       "      <td>[]</td>\n",
       "    </tr>\n",
       "    <tr>\n",
       "      <th>4</th>\n",
       "      <td>&lt;p&gt;You can use ImageMagick's convert utility f...</td>\n",
       "      <td>[]</td>\n",
       "    </tr>\n",
       "    <tr>\n",
       "      <th>...</th>\n",
       "      <td>...</td>\n",
       "      <td>...</td>\n",
       "    </tr>\n",
       "    <tr>\n",
       "      <th>987117</th>\n",
       "      <td>&lt;p&gt;Well there are many different ways to detec...</td>\n",
       "      <td>[]</td>\n",
       "    </tr>\n",
       "    <tr>\n",
       "      <th>987118</th>\n",
       "      <td>&lt;p&gt;First thing, you should use &lt;code&gt;if/elif&lt;/...</td>\n",
       "      <td>[]</td>\n",
       "    </tr>\n",
       "    <tr>\n",
       "      <th>987119</th>\n",
       "      <td>&lt;p&gt;If you are using firefox ver &gt;47.0.1 you ne...</td>\n",
       "      <td>[]</td>\n",
       "    </tr>\n",
       "    <tr>\n",
       "      <th>987120</th>\n",
       "      <td>&lt;p&gt;I solved my own problem defining the follow...</td>\n",
       "      <td>[]</td>\n",
       "    </tr>\n",
       "    <tr>\n",
       "      <th>987121</th>\n",
       "      <td>&lt;p&gt;I can't seem to reproduce your error but up...</td>\n",
       "      <td>[json]</td>\n",
       "    </tr>\n",
       "  </tbody>\n",
       "</table>\n",
       "<p>987122 rows × 2 columns</p>\n",
       "</div>"
      ],
      "text/plain": [
       "                                              Body_answer Tags_question\n",
       "0       <p>open up a terminal (Applications-&gt;Utilit...            []\n",
       "1       <p>I haven't been able to find anything that d...            []\n",
       "2       <p>Unfortunately the only API that isn't depre...            []\n",
       "3       <p>There must be a method in Cocoa to get a li...            []\n",
       "4       <p>You can use ImageMagick's convert utility f...            []\n",
       "...                                                   ...           ...\n",
       "987117  <p>Well there are many different ways to detec...            []\n",
       "987118  <p>First thing, you should use <code>if/elif</...            []\n",
       "987119  <p>If you are using firefox ver >47.0.1 you ne...            []\n",
       "987120  <p>I solved my own problem defining the follow...            []\n",
       "987121  <p>I can't seem to reproduce your error but up...        [json]\n",
       "\n",
       "[987122 rows x 2 columns]"
      ]
     },
     "execution_count": 43,
     "metadata": {},
     "output_type": "execute_result"
    }
   ],
   "source": [
    "# filter the questions to only include the top 100 tags\n",
    "\n",
    "questions_and_tags_df[\"Tags\"] = questions_and_tags_df[\"Tags\"].apply(lambda tags: [tag for tag in tags if tag in top_100_tags])\n",
    "\n",
    "# filter the answers to only include the top 100 tags\n",
    "answers_and_questions_df[\"Tags_question\"] = answers_and_questions_df[\"Tags_question\"].apply(lambda tags: [tag for tag in tags if tag in top_100_tags])\n",
    "answers_and_questions_df"
   ]
  },
  {
   "cell_type": "code",
   "execution_count": 44,
   "metadata": {},
   "outputs": [
    {
     "data": {
      "text/html": [
       "<div>\n",
       "<style scoped>\n",
       "    .dataframe tbody tr th:only-of-type {\n",
       "        vertical-align: middle;\n",
       "    }\n",
       "\n",
       "    .dataframe tbody tr th {\n",
       "        vertical-align: top;\n",
       "    }\n",
       "\n",
       "    .dataframe thead th {\n",
       "        text-align: right;\n",
       "    }\n",
       "</style>\n",
       "<table border=\"1\" class=\"dataframe\">\n",
       "  <thead>\n",
       "    <tr style=\"text-align: right;\">\n",
       "      <th></th>\n",
       "      <th>Body_answer</th>\n",
       "      <th>Tags_question</th>\n",
       "    </tr>\n",
       "  </thead>\n",
       "  <tbody>\n",
       "    <tr>\n",
       "      <th>17</th>\n",
       "      <td>&lt;p&gt;No, you were not dreaming.  Python has a pr...</td>\n",
       "      <td>[arrays]</td>\n",
       "    </tr>\n",
       "    <tr>\n",
       "      <th>18</th>\n",
       "      <td>&lt;p&gt;I think:&lt;/p&gt;\\r\\n\\r\\n&lt;pre&gt;&lt;code&gt;#!/bin/pytho...</td>\n",
       "      <td>[arrays]</td>\n",
       "    </tr>\n",
       "    <tr>\n",
       "      <th>19</th>\n",
       "      <td>&lt;p&gt;Are you looking to get a list of objects th...</td>\n",
       "      <td>[arrays]</td>\n",
       "    </tr>\n",
       "    <tr>\n",
       "      <th>20</th>\n",
       "      <td>&lt;p&gt;What I was thinking of can be achieved usin...</td>\n",
       "      <td>[arrays]</td>\n",
       "    </tr>\n",
       "    <tr>\n",
       "      <th>21</th>\n",
       "      <td>&lt;p&gt;you could always write one yourself:&lt;/p&gt;\\n\\...</td>\n",
       "      <td>[arrays]</td>\n",
       "    </tr>\n",
       "    <tr>\n",
       "      <th>...</th>\n",
       "      <td>...</td>\n",
       "      <td>...</td>\n",
       "    </tr>\n",
       "    <tr>\n",
       "      <th>987094</th>\n",
       "      <td>&lt;p&gt;try this:&lt;/p&gt;\\n\\n&lt;pre&gt;&lt;code&gt;my_list.sort(ke...</td>\n",
       "      <td>[arrays]</td>\n",
       "    </tr>\n",
       "    <tr>\n",
       "      <th>987095</th>\n",
       "      <td>&lt;p&gt;For &lt;strong&gt;&lt;em&gt;storing the sorted list as ...</td>\n",
       "      <td>[arrays]</td>\n",
       "    </tr>\n",
       "    <tr>\n",
       "      <th>987104</th>\n",
       "      <td>&lt;p&gt;That is actually how your data is:&lt;/p&gt;\\n\\n&lt;...</td>\n",
       "      <td>[json]</td>\n",
       "    </tr>\n",
       "    <tr>\n",
       "      <th>987105</th>\n",
       "      <td>&lt;p&gt;Editting based on the &lt;em&gt;edit&lt;/em&gt; in the ...</td>\n",
       "      <td>[json]</td>\n",
       "    </tr>\n",
       "    <tr>\n",
       "      <th>987121</th>\n",
       "      <td>&lt;p&gt;I can't seem to reproduce your error but up...</td>\n",
       "      <td>[json]</td>\n",
       "    </tr>\n",
       "  </tbody>\n",
       "</table>\n",
       "<p>133810 rows × 2 columns</p>\n",
       "</div>"
      ],
      "text/plain": [
       "                                              Body_answer Tags_question\n",
       "17      <p>No, you were not dreaming.  Python has a pr...      [arrays]\n",
       "18      <p>I think:</p>\\r\\n\\r\\n<pre><code>#!/bin/pytho...      [arrays]\n",
       "19      <p>Are you looking to get a list of objects th...      [arrays]\n",
       "20      <p>What I was thinking of can be achieved usin...      [arrays]\n",
       "21      <p>you could always write one yourself:</p>\\n\\...      [arrays]\n",
       "...                                                   ...           ...\n",
       "987094  <p>try this:</p>\\n\\n<pre><code>my_list.sort(ke...      [arrays]\n",
       "987095  <p>For <strong><em>storing the sorted list as ...      [arrays]\n",
       "987104  <p>That is actually how your data is:</p>\\n\\n<...        [json]\n",
       "987105  <p>Editting based on the <em>edit</em> in the ...        [json]\n",
       "987121  <p>I can't seem to reproduce your error but up...        [json]\n",
       "\n",
       "[133810 rows x 2 columns]"
      ]
     },
     "execution_count": 44,
     "metadata": {},
     "output_type": "execute_result"
    }
   ],
   "source": [
    "\n",
    "# remove questions with no tags \n",
    "questions_and_tags_df = questions_and_tags_df[questions_and_tags_df[\"Tags\"].apply(len) > 0]\n",
    "questions_and_tags_df\n",
    "\n",
    "# remove questions with two or more tags\n",
    "questions_and_tags_df = questions_and_tags_df[questions_and_tags_df[\"Tags\"].apply(len) == 1]\n",
    "questions_and_tags_df\n",
    "\n",
    "# remove answers with no tags\n",
    "answers_and_questions_df = answers_and_questions_df[answers_and_questions_df[\"Tags_question\"].apply(len) > 0]\n",
    "answers_and_questions_df\n",
    "\n",
    "# remove answers with two or more tags\n",
    "answers_and_questions_df = answers_and_questions_df[answers_and_questions_df[\"Tags_question\"].apply(len) == 1]\n",
    "answers_and_questions_df\n",
    "\n",
    "\n",
    "\n"
   ]
  },
  {
   "cell_type": "code",
   "execution_count": 45,
   "metadata": {},
   "outputs": [
    {
     "data": {
      "text/html": [
       "<div>\n",
       "<style scoped>\n",
       "    .dataframe tbody tr th:only-of-type {\n",
       "        vertical-align: middle;\n",
       "    }\n",
       "\n",
       "    .dataframe tbody tr th {\n",
       "        vertical-align: top;\n",
       "    }\n",
       "\n",
       "    .dataframe thead th {\n",
       "        text-align: right;\n",
       "    }\n",
       "</style>\n",
       "<table border=\"1\" class=\"dataframe\">\n",
       "  <thead>\n",
       "    <tr style=\"text-align: right;\">\n",
       "      <th></th>\n",
       "      <th>Body</th>\n",
       "      <th>Tags</th>\n",
       "    </tr>\n",
       "  </thead>\n",
       "  <tbody>\n",
       "    <tr>\n",
       "      <th>4</th>\n",
       "      <td>&lt;p&gt;I don't remember whether I was dreaming or ...</td>\n",
       "      <td>[arrays]</td>\n",
       "    </tr>\n",
       "    <tr>\n",
       "      <th>6</th>\n",
       "      <td>&lt;p&gt;I can get Python to work with Postgresql bu...</td>\n",
       "      <td>[mysql]</td>\n",
       "    </tr>\n",
       "    <tr>\n",
       "      <th>15</th>\n",
       "      <td>&lt;p&gt;Python works on multiple platforms and can ...</td>\n",
       "      <td>[tkinter]</td>\n",
       "    </tr>\n",
       "    <tr>\n",
       "      <th>17</th>\n",
       "      <td>&lt;p&gt;I have a Prolite LED sign that I like to se...</td>\n",
       "      <td>[linux]</td>\n",
       "    </tr>\n",
       "    <tr>\n",
       "      <th>26</th>\n",
       "      <td>&lt;p&gt;[I hope this isn't too obscure&amp;hellip; I'll...</td>\n",
       "      <td>[mysql]</td>\n",
       "    </tr>\n",
       "    <tr>\n",
       "      <th>...</th>\n",
       "      <td>...</td>\n",
       "      <td>...</td>\n",
       "    </tr>\n",
       "    <tr>\n",
       "      <th>607252</th>\n",
       "      <td>&lt;p&gt;I would like make a website that shows cont...</td>\n",
       "      <td>[html]</td>\n",
       "    </tr>\n",
       "    <tr>\n",
       "      <th>607255</th>\n",
       "      <td>&lt;p&gt;So I'm trying to make a little battle scene...</td>\n",
       "      <td>[tkinter]</td>\n",
       "    </tr>\n",
       "    <tr>\n",
       "      <th>607261</th>\n",
       "      <td>&lt;p&gt;I have the following json:&lt;/p&gt;\\n\\n&lt;p&gt;{&lt;/p&gt;\\...</td>\n",
       "      <td>[json]</td>\n",
       "    </tr>\n",
       "    <tr>\n",
       "      <th>607263</th>\n",
       "      <td>&lt;p&gt;&lt;strong&gt;EDIT:&lt;/strong&gt;\\nAs @Alfe suggested ...</td>\n",
       "      <td>[json]</td>\n",
       "    </tr>\n",
       "    <tr>\n",
       "      <th>607270</th>\n",
       "      <td>&lt;p&gt;I came across &lt;a href=\"http://stackoverflow...</td>\n",
       "      <td>[csv]</td>\n",
       "    </tr>\n",
       "  </tbody>\n",
       "</table>\n",
       "<p>83511 rows × 2 columns</p>\n",
       "</div>"
      ],
      "text/plain": [
       "                                                     Body       Tags\n",
       "4       <p>I don't remember whether I was dreaming or ...   [arrays]\n",
       "6       <p>I can get Python to work with Postgresql bu...    [mysql]\n",
       "15      <p>Python works on multiple platforms and can ...  [tkinter]\n",
       "17      <p>I have a Prolite LED sign that I like to se...    [linux]\n",
       "26      <p>[I hope this isn't too obscure&hellip; I'll...    [mysql]\n",
       "...                                                   ...        ...\n",
       "607252  <p>I would like make a website that shows cont...     [html]\n",
       "607255  <p>So I'm trying to make a little battle scene...  [tkinter]\n",
       "607261  <p>I have the following json:</p>\\n\\n<p>{</p>\\...     [json]\n",
       "607263  <p><strong>EDIT:</strong>\\nAs @Alfe suggested ...     [json]\n",
       "607270  <p>I came across <a href=\"http://stackoverflow...      [csv]\n",
       "\n",
       "[83511 rows x 2 columns]"
      ]
     },
     "execution_count": 45,
     "metadata": {},
     "output_type": "execute_result"
    }
   ],
   "source": [
    "# remove id, owneruserid,creationdate,scoure \n",
    "questions_and_tags_df = questions_and_tags_df.drop(columns=[\"Id\",\"OwnerUserId\",\"CreationDate\",\"Score\",\"Title\"])\n",
    "questions_and_tags_df"
   ]
  },
  {
   "cell_type": "code",
   "execution_count": 46,
   "metadata": {},
   "outputs": [
    {
     "data": {
      "text/html": [
       "<div>\n",
       "<style scoped>\n",
       "    .dataframe tbody tr th:only-of-type {\n",
       "        vertical-align: middle;\n",
       "    }\n",
       "\n",
       "    .dataframe tbody tr th {\n",
       "        vertical-align: top;\n",
       "    }\n",
       "\n",
       "    .dataframe thead th {\n",
       "        text-align: right;\n",
       "    }\n",
       "</style>\n",
       "<table border=\"1\" class=\"dataframe\">\n",
       "  <thead>\n",
       "    <tr style=\"text-align: right;\">\n",
       "      <th></th>\n",
       "      <th>Question</th>\n",
       "      <th>Class</th>\n",
       "    </tr>\n",
       "  </thead>\n",
       "  <tbody>\n",
       "    <tr>\n",
       "      <th>4</th>\n",
       "      <td>&lt;p&gt;I don't remember whether I was dreaming or ...</td>\n",
       "      <td>[arrays]</td>\n",
       "    </tr>\n",
       "    <tr>\n",
       "      <th>6</th>\n",
       "      <td>&lt;p&gt;I can get Python to work with Postgresql bu...</td>\n",
       "      <td>[mysql]</td>\n",
       "    </tr>\n",
       "    <tr>\n",
       "      <th>15</th>\n",
       "      <td>&lt;p&gt;Python works on multiple platforms and can ...</td>\n",
       "      <td>[tkinter]</td>\n",
       "    </tr>\n",
       "    <tr>\n",
       "      <th>17</th>\n",
       "      <td>&lt;p&gt;I have a Prolite LED sign that I like to se...</td>\n",
       "      <td>[linux]</td>\n",
       "    </tr>\n",
       "    <tr>\n",
       "      <th>26</th>\n",
       "      <td>&lt;p&gt;[I hope this isn't too obscure&amp;hellip; I'll...</td>\n",
       "      <td>[mysql]</td>\n",
       "    </tr>\n",
       "    <tr>\n",
       "      <th>...</th>\n",
       "      <td>...</td>\n",
       "      <td>...</td>\n",
       "    </tr>\n",
       "    <tr>\n",
       "      <th>607252</th>\n",
       "      <td>&lt;p&gt;I would like make a website that shows cont...</td>\n",
       "      <td>[html]</td>\n",
       "    </tr>\n",
       "    <tr>\n",
       "      <th>607255</th>\n",
       "      <td>&lt;p&gt;So I'm trying to make a little battle scene...</td>\n",
       "      <td>[tkinter]</td>\n",
       "    </tr>\n",
       "    <tr>\n",
       "      <th>607261</th>\n",
       "      <td>&lt;p&gt;I have the following json:&lt;/p&gt;\\n\\n&lt;p&gt;{&lt;/p&gt;\\...</td>\n",
       "      <td>[json]</td>\n",
       "    </tr>\n",
       "    <tr>\n",
       "      <th>607263</th>\n",
       "      <td>&lt;p&gt;&lt;strong&gt;EDIT:&lt;/strong&gt;\\nAs @Alfe suggested ...</td>\n",
       "      <td>[json]</td>\n",
       "    </tr>\n",
       "    <tr>\n",
       "      <th>607270</th>\n",
       "      <td>&lt;p&gt;I came across &lt;a href=\"http://stackoverflow...</td>\n",
       "      <td>[csv]</td>\n",
       "    </tr>\n",
       "  </tbody>\n",
       "</table>\n",
       "<p>83511 rows × 2 columns</p>\n",
       "</div>"
      ],
      "text/plain": [
       "                                                 Question      Class\n",
       "4       <p>I don't remember whether I was dreaming or ...   [arrays]\n",
       "6       <p>I can get Python to work with Postgresql bu...    [mysql]\n",
       "15      <p>Python works on multiple platforms and can ...  [tkinter]\n",
       "17      <p>I have a Prolite LED sign that I like to se...    [linux]\n",
       "26      <p>[I hope this isn't too obscure&hellip; I'll...    [mysql]\n",
       "...                                                   ...        ...\n",
       "607252  <p>I would like make a website that shows cont...     [html]\n",
       "607255  <p>So I'm trying to make a little battle scene...  [tkinter]\n",
       "607261  <p>I have the following json:</p>\\n\\n<p>{</p>\\...     [json]\n",
       "607263  <p><strong>EDIT:</strong>\\nAs @Alfe suggested ...     [json]\n",
       "607270  <p>I came across <a href=\"http://stackoverflow...      [csv]\n",
       "\n",
       "[83511 rows x 2 columns]"
      ]
     },
     "execution_count": 46,
     "metadata": {},
     "output_type": "execute_result"
    }
   ],
   "source": [
    "questions_and_tags_df = questions_and_tags_df.rename(columns={\"Body\":\"Question\"})\n",
    "questions_and_tags_df = questions_and_tags_df.rename(columns={\"Tags\":\"Class\"})\n",
    "questions_and_tags_df"
   ]
  },
  {
   "cell_type": "code",
   "execution_count": 47,
   "metadata": {},
   "outputs": [
    {
     "data": {
      "text/html": [
       "<div>\n",
       "<style scoped>\n",
       "    .dataframe tbody tr th:only-of-type {\n",
       "        vertical-align: middle;\n",
       "    }\n",
       "\n",
       "    .dataframe tbody tr th {\n",
       "        vertical-align: top;\n",
       "    }\n",
       "\n",
       "    .dataframe thead th {\n",
       "        text-align: right;\n",
       "    }\n",
       "</style>\n",
       "<table border=\"1\" class=\"dataframe\">\n",
       "  <thead>\n",
       "    <tr style=\"text-align: right;\">\n",
       "      <th></th>\n",
       "      <th>Body_answer</th>\n",
       "      <th>Tags_question</th>\n",
       "    </tr>\n",
       "  </thead>\n",
       "  <tbody>\n",
       "    <tr>\n",
       "      <th>17</th>\n",
       "      <td>&lt;p&gt;No, you were not dreaming.  Python has a pr...</td>\n",
       "      <td>[arrays]</td>\n",
       "    </tr>\n",
       "    <tr>\n",
       "      <th>18</th>\n",
       "      <td>&lt;p&gt;I think:&lt;/p&gt;\\r\\n\\r\\n&lt;pre&gt;&lt;code&gt;#!/bin/pytho...</td>\n",
       "      <td>[arrays]</td>\n",
       "    </tr>\n",
       "    <tr>\n",
       "      <th>19</th>\n",
       "      <td>&lt;p&gt;Are you looking to get a list of objects th...</td>\n",
       "      <td>[arrays]</td>\n",
       "    </tr>\n",
       "    <tr>\n",
       "      <th>20</th>\n",
       "      <td>&lt;p&gt;What I was thinking of can be achieved usin...</td>\n",
       "      <td>[arrays]</td>\n",
       "    </tr>\n",
       "    <tr>\n",
       "      <th>21</th>\n",
       "      <td>&lt;p&gt;you could always write one yourself:&lt;/p&gt;\\n\\...</td>\n",
       "      <td>[arrays]</td>\n",
       "    </tr>\n",
       "    <tr>\n",
       "      <th>...</th>\n",
       "      <td>...</td>\n",
       "      <td>...</td>\n",
       "    </tr>\n",
       "    <tr>\n",
       "      <th>208787</th>\n",
       "      <td>&lt;p&gt;Let's assume your words are bounded at a re...</td>\n",
       "      <td>[string]</td>\n",
       "    </tr>\n",
       "    <tr>\n",
       "      <th>208788</th>\n",
       "      <td>&lt;p&gt;There are specialized index structures for ...</td>\n",
       "      <td>[string]</td>\n",
       "    </tr>\n",
       "    <tr>\n",
       "      <th>208789</th>\n",
       "      <td>&lt;p&gt;A very fast way to search for a lot of stri...</td>\n",
       "      <td>[string]</td>\n",
       "    </tr>\n",
       "    <tr>\n",
       "      <th>208802</th>\n",
       "      <td>&lt;p&gt;You can rely on neither of these two proper...</td>\n",
       "      <td>[string]</td>\n",
       "    </tr>\n",
       "    <tr>\n",
       "      <th>208803</th>\n",
       "      <td>&lt;p&gt;The &lt;code&gt;dict&lt;/code&gt; built-in type does no...</td>\n",
       "      <td>[string]</td>\n",
       "    </tr>\n",
       "  </tbody>\n",
       "</table>\n",
       "<p>25000 rows × 2 columns</p>\n",
       "</div>"
      ],
      "text/plain": [
       "                                              Body_answer Tags_question\n",
       "17      <p>No, you were not dreaming.  Python has a pr...      [arrays]\n",
       "18      <p>I think:</p>\\r\\n\\r\\n<pre><code>#!/bin/pytho...      [arrays]\n",
       "19      <p>Are you looking to get a list of objects th...      [arrays]\n",
       "20      <p>What I was thinking of can be achieved usin...      [arrays]\n",
       "21      <p>you could always write one yourself:</p>\\n\\...      [arrays]\n",
       "...                                                   ...           ...\n",
       "208787  <p>Let's assume your words are bounded at a re...      [string]\n",
       "208788  <p>There are specialized index structures for ...      [string]\n",
       "208789  <p>A very fast way to search for a lot of stri...      [string]\n",
       "208802  <p>You can rely on neither of these two proper...      [string]\n",
       "208803  <p>The <code>dict</code> built-in type does no...      [string]\n",
       "\n",
       "[25000 rows x 2 columns]"
      ]
     },
     "execution_count": 47,
     "metadata": {},
     "output_type": "execute_result"
    }
   ],
   "source": [
    "# select first 10000 rows\n",
    "questions_and_tags_df = questions_and_tags_df[:25000]\n",
    "questions_and_tags_df\n",
    "\n",
    "# select first 10000 rows\n",
    "answers_and_questions_df = answers_and_questions_df[:25000]\n",
    "answers_and_questions_df\n"
   ]
  },
  {
   "cell_type": "code",
   "execution_count": 48,
   "metadata": {},
   "outputs": [
    {
     "name": "stderr",
     "output_type": "stream",
     "text": [
      "C:\\Users\\jonin\\AppData\\Local\\Temp\\ipykernel_84708\\3172280837.py:21: SettingWithCopyWarning: \n",
      "A value is trying to be set on a copy of a slice from a DataFrame.\n",
      "Try using .loc[row_indexer,col_indexer] = value instead\n",
      "\n",
      "See the caveats in the documentation: https://pandas.pydata.org/pandas-docs/stable/user_guide/indexing.html#returning-a-view-versus-a-copy\n",
      "  questions_and_tags_df['processed_text'] = questions_and_tags_df['Question'].apply(preprocess_text)\n"
     ]
    }
   ],
   "source": [
    "\n",
    "import re\n",
    "from nltk.corpus import stopwords\n",
    "from nltk.stem import WordNetLemmatizer\n",
    "\n",
    "# Initialize lemmatizer and stopwords\n",
    "lemmatizer = WordNetLemmatizer()\n",
    "stop_words = set(stopwords.words(\"english\"))\n",
    "\n",
    "def preprocess_text(text):\n",
    "    # Remove leading <p> tags\n",
    "    text = re.sub(r'^<p>', '', text)\n",
    "    # Lowercase the text\n",
    "    text = text.lower()\n",
    "    # Remove punctuation\n",
    "    text = re.sub(r'[^\\w\\s]', '', text)\n",
    "    # Tokenize, remove stopwords, then lemmatize words\n",
    "    text = \" \".join(lemmatizer.lemmatize(word) for word in text.split() if word not in stop_words)\n",
    "    return text\n",
    "\n",
    "# Apply preprocessing to the 'text' column\n",
    "questions_and_tags_df['processed_text'] = questions_and_tags_df['Question'].apply(preprocess_text)"
   ]
  },
  {
   "cell_type": "code",
   "execution_count": 49,
   "metadata": {},
   "outputs": [
    {
     "data": {
      "text/html": [
       "<div>\n",
       "<style scoped>\n",
       "    .dataframe tbody tr th:only-of-type {\n",
       "        vertical-align: middle;\n",
       "    }\n",
       "\n",
       "    .dataframe tbody tr th {\n",
       "        vertical-align: top;\n",
       "    }\n",
       "\n",
       "    .dataframe thead th {\n",
       "        text-align: right;\n",
       "    }\n",
       "</style>\n",
       "<table border=\"1\" class=\"dataframe\">\n",
       "  <thead>\n",
       "    <tr style=\"text-align: right;\">\n",
       "      <th></th>\n",
       "      <th>Question</th>\n",
       "      <th>Class</th>\n",
       "      <th>processed_text</th>\n",
       "    </tr>\n",
       "  </thead>\n",
       "  <tbody>\n",
       "    <tr>\n",
       "      <th>4</th>\n",
       "      <td>&lt;p&gt;I don't remember whether I was dreaming or ...</td>\n",
       "      <td>[arrays]</td>\n",
       "      <td>dont remember whether dreaming seem recall fun...</td>\n",
       "    </tr>\n",
       "    <tr>\n",
       "      <th>6</th>\n",
       "      <td>&lt;p&gt;I can get Python to work with Postgresql bu...</td>\n",
       "      <td>[mysql]</td>\n",
       "      <td>get python work postgresql cannot get work mys...</td>\n",
       "    </tr>\n",
       "    <tr>\n",
       "      <th>15</th>\n",
       "      <td>&lt;p&gt;Python works on multiple platforms and can ...</td>\n",
       "      <td>[tkinter]</td>\n",
       "      <td>python work multiple platform used desktop web...</td>\n",
       "    </tr>\n",
       "    <tr>\n",
       "      <th>17</th>\n",
       "      <td>&lt;p&gt;I have a Prolite LED sign that I like to se...</td>\n",
       "      <td>[linux]</td>\n",
       "      <td>prolite led sign like set show scrolling searc...</td>\n",
       "    </tr>\n",
       "    <tr>\n",
       "      <th>26</th>\n",
       "      <td>&lt;p&gt;[I hope this isn't too obscure&amp;hellip; I'll...</td>\n",
       "      <td>[mysql]</td>\n",
       "      <td>hope isnt obscurehellip ill ask newsgroup nobo...</td>\n",
       "    </tr>\n",
       "    <tr>\n",
       "      <th>...</th>\n",
       "      <td>...</td>\n",
       "      <td>...</td>\n",
       "      <td>...</td>\n",
       "    </tr>\n",
       "    <tr>\n",
       "      <th>195004</th>\n",
       "      <td>&lt;p&gt;I'm running a program which is processing 3...</td>\n",
       "      <td>[csv]</td>\n",
       "      <td>im running program processing 30000 similar fi...</td>\n",
       "    </tr>\n",
       "    <tr>\n",
       "      <th>195009</th>\n",
       "      <td>&lt;p&gt;How do you use Scrapy to scrape web request...</td>\n",
       "      <td>[json]</td>\n",
       "      <td>use scrapy scrape web request return json exam...</td>\n",
       "    </tr>\n",
       "    <tr>\n",
       "      <th>195015</th>\n",
       "      <td>&lt;p&gt;I would like to ask some guidelines on a sm...</td>\n",
       "      <td>[google-app-engine]</td>\n",
       "      <td>would like ask guideline small task trying sol...</td>\n",
       "    </tr>\n",
       "    <tr>\n",
       "      <th>195051</th>\n",
       "      <td>&lt;p&gt;I have this simple program made with Python...</td>\n",
       "      <td>[tkinter]</td>\n",
       "      <td>simple program made python code275code basical...</td>\n",
       "    </tr>\n",
       "    <tr>\n",
       "      <th>195055</th>\n",
       "      <td>&lt;p&gt;This is my code :&lt;/p&gt;\\n\\n&lt;pre&gt;&lt;code&gt;import ...</td>\n",
       "      <td>[tkinter]</td>\n",
       "      <td>code p precodeimport sys tkinter import first ...</td>\n",
       "    </tr>\n",
       "  </tbody>\n",
       "</table>\n",
       "<p>25000 rows × 3 columns</p>\n",
       "</div>"
      ],
      "text/plain": [
       "                                                 Question  \\\n",
       "4       <p>I don't remember whether I was dreaming or ...   \n",
       "6       <p>I can get Python to work with Postgresql bu...   \n",
       "15      <p>Python works on multiple platforms and can ...   \n",
       "17      <p>I have a Prolite LED sign that I like to se...   \n",
       "26      <p>[I hope this isn't too obscure&hellip; I'll...   \n",
       "...                                                   ...   \n",
       "195004  <p>I'm running a program which is processing 3...   \n",
       "195009  <p>How do you use Scrapy to scrape web request...   \n",
       "195015  <p>I would like to ask some guidelines on a sm...   \n",
       "195051  <p>I have this simple program made with Python...   \n",
       "195055  <p>This is my code :</p>\\n\\n<pre><code>import ...   \n",
       "\n",
       "                      Class                                     processed_text  \n",
       "4                  [arrays]  dont remember whether dreaming seem recall fun...  \n",
       "6                   [mysql]  get python work postgresql cannot get work mys...  \n",
       "15                [tkinter]  python work multiple platform used desktop web...  \n",
       "17                  [linux]  prolite led sign like set show scrolling searc...  \n",
       "26                  [mysql]  hope isnt obscurehellip ill ask newsgroup nobo...  \n",
       "...                     ...                                                ...  \n",
       "195004                [csv]  im running program processing 30000 similar fi...  \n",
       "195009               [json]  use scrapy scrape web request return json exam...  \n",
       "195015  [google-app-engine]  would like ask guideline small task trying sol...  \n",
       "195051            [tkinter]  simple program made python code275code basical...  \n",
       "195055            [tkinter]  code p precodeimport sys tkinter import first ...  \n",
       "\n",
       "[25000 rows x 3 columns]"
      ]
     },
     "execution_count": 49,
     "metadata": {},
     "output_type": "execute_result"
    }
   ],
   "source": [
    "questions_and_tags_df"
   ]
  },
  {
   "cell_type": "code",
   "execution_count": 50,
   "metadata": {},
   "outputs": [
    {
     "name": "stderr",
     "output_type": "stream",
     "text": [
      "C:\\Users\\jonin\\AppData\\Local\\Temp\\ipykernel_84708\\394700114.py:20: SettingWithCopyWarning: \n",
      "A value is trying to be set on a copy of a slice from a DataFrame.\n",
      "Try using .loc[row_indexer,col_indexer] = value instead\n",
      "\n",
      "See the caveats in the documentation: https://pandas.pydata.org/pandas-docs/stable/user_guide/indexing.html#returning-a-view-versus-a-copy\n",
      "  questions_and_tags_df['encoded_text'] = tokenized_texts.apply(\n",
      "C:\\Users\\jonin\\AppData\\Local\\Temp\\ipykernel_84708\\394700114.py:25: SettingWithCopyWarning: \n",
      "A value is trying to be set on a copy of a slice from a DataFrame.\n",
      "Try using .loc[row_indexer,col_indexer] = value instead\n",
      "\n",
      "See the caveats in the documentation: https://pandas.pydata.org/pandas-docs/stable/user_guide/indexing.html#returning-a-view-versus-a-copy\n",
      "  questions_and_tags_df['padded_text'] = questions_and_tags_df['encoded_text'].apply(\n"
     ]
    }
   ],
   "source": [
    "from collections import Counter\n",
    "from itertools import chain\n",
    "from torch.nn.utils.rnn import pad_sequence\n",
    "import torch\n",
    "\n",
    "# Set threshold for minimum word frequency\n",
    "min_freq = 5  # or a suitable value based on your data\n",
    "max_length = 50  # Maximum sequence length\n",
    "\n",
    "# Step 1: Tokenize and Build Vocabulary with a Frequency Filter\n",
    "tokenized_texts = questions_and_tags_df['processed_text'].apply(lambda x: x.split())\n",
    "word_counts = Counter(chain(*tokenized_texts))\n",
    "\n",
    "# Build vocabulary with words meeting the min frequency requirement\n",
    "vocab = {word: idx + 2 for idx, (word, count) in enumerate(word_counts.items()) if count >= min_freq}  # Start at 2\n",
    "vocab['<PAD>'] = 0\n",
    "vocab['<UNK>'] = 1  # Unknown token for rare words\n",
    "\n",
    "# Step 2: Encode Texts with Unknown Token Handling\n",
    "questions_and_tags_df['encoded_text'] = tokenized_texts.apply(\n",
    "    lambda x: [vocab.get(word, vocab['<UNK>']) for word in x]  # Use <UNK> for words not in vocab\n",
    ")\n",
    "\n",
    "# Step 3: Pad or Truncate Sequences\n",
    "questions_and_tags_df['padded_text'] = questions_and_tags_df['encoded_text'].apply(\n",
    "    lambda x: x[:max_length] + [vocab['<PAD>']] * (max_length - len(x)) if len(x) < max_length else x[:max_length]\n",
    ")\n",
    "\n",
    "# Convert to tensor\n",
    "x = torch.tensor(questions_and_tags_df['padded_text'].tolist())\n"
   ]
  },
  {
   "cell_type": "code",
   "execution_count": 51,
   "metadata": {},
   "outputs": [
    {
     "name": "stdout",
     "output_type": "stream",
     "text": [
      "Found 58674 invalid indices, setting them to '<UNK>' token.\n"
     ]
    },
    {
     "data": {
      "text/plain": [
       "26056"
      ]
     },
     "execution_count": 51,
     "metadata": {},
     "output_type": "execute_result"
    }
   ],
   "source": [
    "# find max value in x\n",
    "max_value = x.max().item()\n",
    "max_value\n",
    "\n",
    "invalid_indices = x >= len(vocab)\n",
    "if invalid_indices.any():\n",
    "    print(f\"Found {invalid_indices.sum().item()} invalid indices, setting them to '<UNK>' token.\")\n",
    "    x[invalid_indices] = vocab['<UNK>']\n",
    "\n",
    "max_value = x.max().item()\n",
    "max_value\n"
   ]
  },
  {
   "cell_type": "code",
   "execution_count": 52,
   "metadata": {},
   "outputs": [
    {
     "data": {
      "text/plain": [
       "26072"
      ]
     },
     "execution_count": 52,
     "metadata": {},
     "output_type": "execute_result"
    }
   ],
   "source": [
    "len(vocab)"
   ]
  },
  {
   "cell_type": "code",
   "execution_count": 53,
   "metadata": {},
   "outputs": [],
   "source": [
    "\n",
    "\n",
    "\n",
    "y = questions_and_tags_df['Class']"
   ]
  },
  {
   "cell_type": "code",
   "execution_count": 54,
   "metadata": {},
   "outputs": [
    {
     "data": {
      "text/plain": [
       "3.95012"
      ]
     },
     "execution_count": 54,
     "metadata": {},
     "output_type": "execute_result"
    }
   ],
   "source": [
    "\n",
    "y = y.apply(lambda x: x[0])\n",
    "y = y.apply(lambda x: top_100_tags.index(x))\n",
    "y = y.to_numpy()\n",
    "\n",
    "np.mean(y)"
   ]
  },
  {
   "cell_type": "code",
   "execution_count": 55,
   "metadata": {},
   "outputs": [
    {
     "name": "stderr",
     "output_type": "stream",
     "text": [
      "C:\\Users\\jonin\\AppData\\Local\\Temp\\ipykernel_84708\\548485312.py:2: SettingWithCopyWarning: \n",
      "A value is trying to be set on a copy of a slice from a DataFrame.\n",
      "Try using .loc[row_indexer,col_indexer] = value instead\n",
      "\n",
      "See the caveats in the documentation: https://pandas.pydata.org/pandas-docs/stable/user_guide/indexing.html#returning-a-view-versus-a-copy\n",
      "  answers_and_questions_df[\"processed_text\"] = answers_and_questions_df[\"Body_answer\"]\n",
      "C:\\Users\\jonin\\AppData\\Local\\Temp\\ipykernel_84708\\548485312.py:5: SettingWithCopyWarning: \n",
      "A value is trying to be set on a copy of a slice from a DataFrame.\n",
      "Try using .loc[row_indexer,col_indexer] = value instead\n",
      "\n",
      "See the caveats in the documentation: https://pandas.pydata.org/pandas-docs/stable/user_guide/indexing.html#returning-a-view-versus-a-copy\n",
      "  answers_and_questions_df[\"Class\"] = answers_and_questions_df[\"Tags_question\"].apply(lambda tags: tags[0])\n",
      "C:\\Users\\jonin\\AppData\\Local\\Temp\\ipykernel_84708\\548485312.py:6: SettingWithCopyWarning: \n",
      "A value is trying to be set on a copy of a slice from a DataFrame.\n",
      "Try using .loc[row_indexer,col_indexer] = value instead\n",
      "\n",
      "See the caveats in the documentation: https://pandas.pydata.org/pandas-docs/stable/user_guide/indexing.html#returning-a-view-versus-a-copy\n",
      "  answers_and_questions_df[\"Class\"] = answers_and_questions_df[\"Class\"].apply(lambda x: top_100_tags.index(x))\n"
     ]
    }
   ],
   "source": [
    "# apply the same preprocessing to tags in answers dataframe \n",
    "answers_and_questions_df[\"processed_text\"] = answers_and_questions_df[\"Body_answer\"]\n",
    "\n",
    "# to tags\n",
    "answers_and_questions_df[\"Class\"] = answers_and_questions_df[\"Tags_question\"].apply(lambda tags: tags[0])\n",
    "answers_and_questions_df[\"Class\"] = answers_and_questions_df[\"Class\"].apply(lambda x: top_100_tags.index(x))"
   ]
  },
  {
   "cell_type": "code",
   "execution_count": 56,
   "metadata": {},
   "outputs": [
    {
     "data": {
      "text/html": [
       "<div>\n",
       "<style scoped>\n",
       "    .dataframe tbody tr th:only-of-type {\n",
       "        vertical-align: middle;\n",
       "    }\n",
       "\n",
       "    .dataframe tbody tr th {\n",
       "        vertical-align: top;\n",
       "    }\n",
       "\n",
       "    .dataframe thead th {\n",
       "        text-align: right;\n",
       "    }\n",
       "</style>\n",
       "<table border=\"1\" class=\"dataframe\">\n",
       "  <thead>\n",
       "    <tr style=\"text-align: right;\">\n",
       "      <th></th>\n",
       "      <th>Body_answer</th>\n",
       "      <th>Tags_question</th>\n",
       "      <th>processed_text</th>\n",
       "      <th>Class</th>\n",
       "    </tr>\n",
       "  </thead>\n",
       "  <tbody>\n",
       "    <tr>\n",
       "      <th>17</th>\n",
       "      <td>&lt;p&gt;No, you were not dreaming.  Python has a pr...</td>\n",
       "      <td>[arrays]</td>\n",
       "      <td>&lt;p&gt;No, you were not dreaming.  Python has a pr...</td>\n",
       "      <td>5</td>\n",
       "    </tr>\n",
       "    <tr>\n",
       "      <th>18</th>\n",
       "      <td>&lt;p&gt;I think:&lt;/p&gt;\\r\\n\\r\\n&lt;pre&gt;&lt;code&gt;#!/bin/pytho...</td>\n",
       "      <td>[arrays]</td>\n",
       "      <td>&lt;p&gt;I think:&lt;/p&gt;\\r\\n\\r\\n&lt;pre&gt;&lt;code&gt;#!/bin/pytho...</td>\n",
       "      <td>5</td>\n",
       "    </tr>\n",
       "    <tr>\n",
       "      <th>19</th>\n",
       "      <td>&lt;p&gt;Are you looking to get a list of objects th...</td>\n",
       "      <td>[arrays]</td>\n",
       "      <td>&lt;p&gt;Are you looking to get a list of objects th...</td>\n",
       "      <td>5</td>\n",
       "    </tr>\n",
       "    <tr>\n",
       "      <th>20</th>\n",
       "      <td>&lt;p&gt;What I was thinking of can be achieved usin...</td>\n",
       "      <td>[arrays]</td>\n",
       "      <td>&lt;p&gt;What I was thinking of can be achieved usin...</td>\n",
       "      <td>5</td>\n",
       "    </tr>\n",
       "    <tr>\n",
       "      <th>21</th>\n",
       "      <td>&lt;p&gt;you could always write one yourself:&lt;/p&gt;\\n\\...</td>\n",
       "      <td>[arrays]</td>\n",
       "      <td>&lt;p&gt;you could always write one yourself:&lt;/p&gt;\\n\\...</td>\n",
       "      <td>5</td>\n",
       "    </tr>\n",
       "    <tr>\n",
       "      <th>...</th>\n",
       "      <td>...</td>\n",
       "      <td>...</td>\n",
       "      <td>...</td>\n",
       "      <td>...</td>\n",
       "    </tr>\n",
       "    <tr>\n",
       "      <th>208787</th>\n",
       "      <td>&lt;p&gt;Let's assume your words are bounded at a re...</td>\n",
       "      <td>[string]</td>\n",
       "      <td>&lt;p&gt;Let's assume your words are bounded at a re...</td>\n",
       "      <td>1</td>\n",
       "    </tr>\n",
       "    <tr>\n",
       "      <th>208788</th>\n",
       "      <td>&lt;p&gt;There are specialized index structures for ...</td>\n",
       "      <td>[string]</td>\n",
       "      <td>&lt;p&gt;There are specialized index structures for ...</td>\n",
       "      <td>1</td>\n",
       "    </tr>\n",
       "    <tr>\n",
       "      <th>208789</th>\n",
       "      <td>&lt;p&gt;A very fast way to search for a lot of stri...</td>\n",
       "      <td>[string]</td>\n",
       "      <td>&lt;p&gt;A very fast way to search for a lot of stri...</td>\n",
       "      <td>1</td>\n",
       "    </tr>\n",
       "    <tr>\n",
       "      <th>208802</th>\n",
       "      <td>&lt;p&gt;You can rely on neither of these two proper...</td>\n",
       "      <td>[string]</td>\n",
       "      <td>&lt;p&gt;You can rely on neither of these two proper...</td>\n",
       "      <td>1</td>\n",
       "    </tr>\n",
       "    <tr>\n",
       "      <th>208803</th>\n",
       "      <td>&lt;p&gt;The &lt;code&gt;dict&lt;/code&gt; built-in type does no...</td>\n",
       "      <td>[string]</td>\n",
       "      <td>&lt;p&gt;The &lt;code&gt;dict&lt;/code&gt; built-in type does no...</td>\n",
       "      <td>1</td>\n",
       "    </tr>\n",
       "  </tbody>\n",
       "</table>\n",
       "<p>25000 rows × 4 columns</p>\n",
       "</div>"
      ],
      "text/plain": [
       "                                              Body_answer Tags_question  \\\n",
       "17      <p>No, you were not dreaming.  Python has a pr...      [arrays]   \n",
       "18      <p>I think:</p>\\r\\n\\r\\n<pre><code>#!/bin/pytho...      [arrays]   \n",
       "19      <p>Are you looking to get a list of objects th...      [arrays]   \n",
       "20      <p>What I was thinking of can be achieved usin...      [arrays]   \n",
       "21      <p>you could always write one yourself:</p>\\n\\...      [arrays]   \n",
       "...                                                   ...           ...   \n",
       "208787  <p>Let's assume your words are bounded at a re...      [string]   \n",
       "208788  <p>There are specialized index structures for ...      [string]   \n",
       "208789  <p>A very fast way to search for a lot of stri...      [string]   \n",
       "208802  <p>You can rely on neither of these two proper...      [string]   \n",
       "208803  <p>The <code>dict</code> built-in type does no...      [string]   \n",
       "\n",
       "                                           processed_text  Class  \n",
       "17      <p>No, you were not dreaming.  Python has a pr...      5  \n",
       "18      <p>I think:</p>\\r\\n\\r\\n<pre><code>#!/bin/pytho...      5  \n",
       "19      <p>Are you looking to get a list of objects th...      5  \n",
       "20      <p>What I was thinking of can be achieved usin...      5  \n",
       "21      <p>you could always write one yourself:</p>\\n\\...      5  \n",
       "...                                                   ...    ...  \n",
       "208787  <p>Let's assume your words are bounded at a re...      1  \n",
       "208788  <p>There are specialized index structures for ...      1  \n",
       "208789  <p>A very fast way to search for a lot of stri...      1  \n",
       "208802  <p>You can rely on neither of these two proper...      1  \n",
       "208803  <p>The <code>dict</code> built-in type does no...      1  \n",
       "\n",
       "[25000 rows x 4 columns]"
      ]
     },
     "execution_count": 56,
     "metadata": {},
     "output_type": "execute_result"
    }
   ],
   "source": [
    "answers_and_questions_df"
   ]
  },
  {
   "cell_type": "code",
   "execution_count": 57,
   "metadata": {},
   "outputs": [
    {
     "name": "stderr",
     "output_type": "stream",
     "text": [
      "C:\\Users\\jonin\\AppData\\Local\\Temp\\ipykernel_84708\\1370979797.py:1: UserWarning: To copy construct from a tensor, it is recommended to use sourceTensor.clone().detach() or sourceTensor.clone().detach().requires_grad_(True), rather than torch.tensor(sourceTensor).\n",
      "  x = torch.tensor(x)\n"
     ]
    }
   ],
   "source": [
    "x = torch.tensor(x)\n",
    "y = torch.tensor(y)\n"
   ]
  },
  {
   "cell_type": "code",
   "execution_count": 58,
   "metadata": {},
   "outputs": [
    {
     "data": {
      "text/plain": [
       "(torch.Size([25000, 50]), torch.Size([25000]))"
      ]
     },
     "execution_count": 58,
     "metadata": {},
     "output_type": "execute_result"
    }
   ],
   "source": [
    "x.shape, y.shape"
   ]
  },
  {
   "cell_type": "code",
   "execution_count": 59,
   "metadata": {},
   "outputs": [
    {
     "data": {
      "text/plain": [
       "(torch.Size([20000, 50]),\n",
       " torch.Size([5000, 50]),\n",
       " torch.Size([20000]),\n",
       " torch.Size([5000]))"
      ]
     },
     "execution_count": 59,
     "metadata": {},
     "output_type": "execute_result"
    }
   ],
   "source": [
    "# Split the data into training and testing sets\n",
    "from sklearn.model_selection import train_test_split\n",
    "\n",
    "x_train, x_test, y_train, y_test = train_test_split(x, y, test_size=0.2, random_state=RANDOM_SEED)\n",
    "\n",
    "x_train.shape, x_test.shape, y_train.shape, y_test.shape"
   ]
  },
  {
   "cell_type": "code",
   "execution_count": 60,
   "metadata": {},
   "outputs": [],
   "source": [
    "train_dataset = torch.utils.data.TensorDataset(x_train, y_train)\n",
    "test_dataset = torch.utils.data.TensorDataset(x_test, y_test)\n",
    "\n",
    "train_loader = torch.utils.data.DataLoader(train_dataset, batch_size=32, shuffle=True)\n",
    "test_loader = torch.utils.data.DataLoader(test_dataset, batch_size=32, shuffle=False)\n"
   ]
  },
  {
   "cell_type": "markdown",
   "metadata": {},
   "source": [
    "### 4.2.3 Head"
   ]
  },
  {
   "cell_type": "markdown",
   "metadata": {},
   "source": [
    "## 4.3 Data Visualization"
   ]
  },
  {
   "cell_type": "markdown",
   "metadata": {},
   "source": [
    "## 4.4 Data Cleaning\n",
    "<!--\n",
    "- Handle missing values, outliers, and inconsistencies.\n",
    "- Remove or impute missing data.\n",
    "-->"
   ]
  },
  {
   "cell_type": "markdown",
   "metadata": {},
   "source": [
    "### 4.4.1 NULL, NaN, Missing values"
   ]
  },
  {
   "cell_type": "markdown",
   "metadata": {},
   "source": [
    "## 4.5 Feature Engineering\n",
    "<!--\n",
    "- Create new features from existing data.\n",
    "- Normalize or standardize features.\n",
    "- Encode categorical variables.\n",
    "-->"
   ]
  },
  {
   "cell_type": "markdown",
   "metadata": {},
   "source": [
    "### 4.5.1 Normalize"
   ]
  },
  {
   "cell_type": "markdown",
   "metadata": {},
   "source": [
    "#### 4.5.1.1 Feature Selection / Data Separation"
   ]
  },
  {
   "cell_type": "markdown",
   "metadata": {},
   "source": [
    "<details>\n",
    "<br>\n",
    "<details>\n",
    "<summary>What does it?</summary>\n",
    "<br>\n",
    "This line removes the `` column from the DataFrame `df` and assigns the remaining columns to `X`.\n",
    "</details>\n",
    "<br>\n",
    "<details>\n",
    "<summary>Why do we do it?</summary>\n",
    "<br>\n",
    "We do this to separate the input features (which are stored in `X`) from the target variable (which will be stored in `y`). This separation is essential in supervised learning tasks where the goal is to predict the target variable based on the input features.\n",
    "</details>\n",
    "</details>"
   ]
  },
  {
   "cell_type": "markdown",
   "metadata": {},
   "source": [
    "#### 4.5.1.3 Feature Scaling / Standardization / Z-score Normalization"
   ]
  },
  {
   "cell_type": "markdown",
   "metadata": {},
   "source": [
    "<details>\n",
    "<br>\n",
    "<details>\n",
    "<summary>What does it?</summary>\n",
    "<br>\n",
    "This line standardizes the features in `X` by subtracting the mean of each feature and dividing by the standard deviation of that feature. This transforms the data so that each feature has a mean of 0 and a standard deviation of 1.\n",
    "</details>\n",
    "<br>\n",
    "<details>\n",
    "<summary>Why do we do it?</summary>\n",
    "<br>\n",
    "Standardization is crucial when using machine learning algorithms that rely on distance calculations (like K-Nearest Neighbors, SVM, or Neural Networks). Without standardization, features with larger scales could dominate the distance calculation, leading to biased model behavior. By standardizing, all features contribute equally to the model, regardless of their original scale.\n",
    "</details>\n",
    "</details>"
   ]
  },
  {
   "cell_type": "markdown",
   "metadata": {},
   "source": [
    "## 4.6 Data Splitting\n",
    "<!--\n",
    "- Split data into training, validation, and test sets.\n",
    "-->"
   ]
  },
  {
   "cell_type": "code",
   "execution_count": 61,
   "metadata": {},
   "outputs": [],
   "source": [
    "# Sklearn train_test_split\n",
    "# X_train, X_test, y_train, y_test = train_test_split(X, y, test_size=(1-SPLITRATIO), random_state=RANDOM_SEED)"
   ]
  },
  {
   "cell_type": "markdown",
   "metadata": {},
   "source": [
    "---"
   ]
  },
  {
   "cell_type": "markdown",
   "metadata": {},
   "source": [
    "# 5. Model Development"
   ]
  },
  {
   "cell_type": "markdown",
   "metadata": {},
   "source": [
    "## 5.1 Model Selection\n",
    "<!--\n",
    "- Choose the model(s) to be trained (e.g., linear regression, decision trees, neural networks).\n",
    "-->"
   ]
  },
  {
   "cell_type": "code",
   "execution_count": 62,
   "metadata": {},
   "outputs": [],
   "source": [
    "import torch\n",
    "import torch.nn as nn\n",
    "import torch.nn.functional as F\n",
    "\n",
    "class ClassificationModel(nn.Module):\n",
    "    def __init__(self, num_tags, vocab_size, embedding_dim=100):\n",
    "        super(ClassificationModel, self).__init__()\n",
    "        \n",
    "        # Embedding layer with randomly initialized embeddings\n",
    "        self.embedding = nn.Embedding(vocab_size, embedding_dim, padding_idx=0)  # Set padding_idx to 0 to ignore padding token\n",
    "        \n",
    "        # LSTM layer\n",
    "        self.lstm = nn.LSTM(input_size=embedding_dim, hidden_size=512, num_layers=1, batch_first=True, bidirectional=True)\n",
    "        \n",
    "        # Fully connected layers\n",
    "        self.fc1 = nn.Linear(512 * 2, 512)\n",
    "        self.fc2 = nn.Linear(512, num_tags)\n",
    "    \n",
    "    def forward(self, input):\n",
    "        # Pass input through embedding layer\n",
    "        x = self.embedding(input)  # Shape: [batch_size, sequence_length, embedding_dim]\n",
    "        \n",
    "        # LSTM layer\n",
    "        output, _ = self.lstm(x)  # output shape: [batch_size, sequence_length, hidden_size * 2]\n",
    "        \n",
    "        # Extract the output at the last time step\n",
    "        x = self.fc1(output[:, -1, :])  # Shape: [batch_size, 512]\n",
    "        \n",
    "        # Apply ReLU activation\n",
    "        x = F.relu(x)\n",
    "        \n",
    "        # Pass through the final layer to get class scores\n",
    "        x = self.fc2(x)\n",
    "        \n",
    "        # Apply sigmoid for multi-label classification; for single-label, use softmax\n",
    "        x = torch.sigmoid(x)\n",
    "        \n",
    "        return x\n"
   ]
  },
  {
   "cell_type": "markdown",
   "metadata": {},
   "source": [
    "## 5.2 Model Training\n",
    "<!--\n",
    "- Train the selected model(s) using the training data.\n",
    "-->"
   ]
  },
  {
   "cell_type": "code",
   "execution_count": 63,
   "metadata": {},
   "outputs": [
    {
     "data": {
      "text/plain": [
       "ClassificationModel(\n",
       "  (embedding): Embedding(26072, 100, padding_idx=0)\n",
       "  (lstm): LSTM(100, 512, batch_first=True, bidirectional=True)\n",
       "  (fc1): Linear(in_features=1024, out_features=512, bias=True)\n",
       "  (fc2): Linear(in_features=512, out_features=10, bias=True)\n",
       ")"
      ]
     },
     "execution_count": 63,
     "metadata": {},
     "output_type": "execute_result"
    }
   ],
   "source": [
    "# Define the loss function and optimizer\n",
    "import torch.optim as optim\n",
    "vocab_size = len(vocab)  # Size of the vocabulary\n",
    "embedding_dim = 100      # Dimension of the embedding vectors\n",
    "num_tags = len(top_100_tags)  # Number of tags\n",
    "\n",
    "model = ClassificationModel(num_tags, vocab_size, embedding_dim)\n",
    "\n",
    "\n",
    "\n",
    "\n",
    "criterion = nn.CrossEntropyLoss()\n",
    "optimizer = optim.Adam(model.parameters(), lr=0.0003)\n",
    "\n",
    "model"
   ]
  },
  {
   "cell_type": "code",
   "execution_count": 64,
   "metadata": {},
   "outputs": [
    {
     "data": {
      "text/plain": [
       "26072"
      ]
     },
     "execution_count": 64,
     "metadata": {},
     "output_type": "execute_result"
    }
   ],
   "source": [
    "vocab_size"
   ]
  },
  {
   "cell_type": "code",
   "execution_count": 65,
   "metadata": {},
   "outputs": [
    {
     "name": "stdout",
     "output_type": "stream",
     "text": [
      "Epoch 1, Loss: 2.200465757751465\n",
      "Epoch 2, Loss: 2.1753180652618407\n",
      "Epoch 3, Loss: 2.1521447032928465\n",
      "Epoch 4, Loss: 2.1160340604782104\n",
      "Epoch 5, Loss: 2.0206469820022583\n",
      "Epoch 6, Loss: 1.9620017696380616\n",
      "Epoch 7, Loss: 1.9150386213302613\n",
      "Epoch 8, Loss: 1.8536129451751708\n",
      "Epoch 9, Loss: 1.8152563228607177\n",
      "Epoch 10, Loss: 1.7970488634109496\n",
      "Epoch 11, Loss: 1.7840364030838012\n",
      "Epoch 12, Loss: 1.7746731422424316\n",
      "Epoch 13, Loss: 1.7652589473724365\n",
      "Epoch 14, Loss: 1.76026398563385\n",
      "Epoch 15, Loss: 1.7547171394348144\n",
      "Epoch 16, Loss: 1.6992574754714966\n",
      "Epoch 17, Loss: 1.6821757265090942\n",
      "Epoch 18, Loss: 1.6717980459213257\n",
      "Epoch 19, Loss: 1.665675400352478\n",
      "Epoch 20, Loss: 1.6534924655914307\n",
      "Finished Training\n"
     ]
    }
   ],
   "source": [
    "# Train the model\n",
    "num_epochs = 20\n",
    "\n",
    "for epoch in range(num_epochs):\n",
    "    running_loss = 0.0\n",
    "    for i, data in enumerate(train_loader, 0):\n",
    "        inputs, labels = data\n",
    "        optimizer.zero_grad()\n",
    "        outputs = model(inputs)\n",
    "        loss = criterion(outputs, labels)\n",
    "        loss.backward()\n",
    "        optimizer.step()\n",
    "        running_loss += loss.item()\n",
    "    \n",
    "    print(f\"Epoch {epoch + 1}, Loss: {running_loss / len(train_loader)}\")\n",
    "           \n",
    "    \n",
    "print(\"Finished Training\")\n"
   ]
  },
  {
   "cell_type": "code",
   "execution_count": 66,
   "metadata": {},
   "outputs": [
    {
     "name": "stdout",
     "output_type": "stream",
     "text": [
      "              precision    recall  f1-score   support\n",
      "\n",
      "           0       0.92      0.83      0.87       597\n",
      "           1       0.63      0.85      0.72       726\n",
      "           2       0.55      0.41      0.47       342\n",
      "           3       0.65      0.87      0.74      1166\n",
      "           4       0.00      0.00      0.00       295\n",
      "           5       0.65      0.77      0.70       297\n",
      "           6       0.00      0.00      0.00       276\n",
      "           7       0.76      0.80      0.78       460\n",
      "           8       0.62      0.67      0.64       494\n",
      "           9       0.70      0.55      0.62       347\n",
      "\n",
      "    accuracy                           0.68      5000\n",
      "   macro avg       0.55      0.58      0.55      5000\n",
      "weighted avg       0.61      0.68      0.63      5000\n",
      "\n"
     ]
    },
    {
     "name": "stderr",
     "output_type": "stream",
     "text": [
      "C:\\Users\\jonin\\AppData\\Roaming\\Python\\Python310\\site-packages\\sklearn\\metrics\\_classification.py:1497: UndefinedMetricWarning: Precision is ill-defined and being set to 0.0 in labels with no predicted samples. Use `zero_division` parameter to control this behavior.\n",
      "  _warn_prf(average, modifier, f\"{metric.capitalize()} is\", len(result))\n",
      "C:\\Users\\jonin\\AppData\\Roaming\\Python\\Python310\\site-packages\\sklearn\\metrics\\_classification.py:1497: UndefinedMetricWarning: Precision is ill-defined and being set to 0.0 in labels with no predicted samples. Use `zero_division` parameter to control this behavior.\n",
      "  _warn_prf(average, modifier, f\"{metric.capitalize()} is\", len(result))\n",
      "C:\\Users\\jonin\\AppData\\Roaming\\Python\\Python310\\site-packages\\sklearn\\metrics\\_classification.py:1497: UndefinedMetricWarning: Precision is ill-defined and being set to 0.0 in labels with no predicted samples. Use `zero_division` parameter to control this behavior.\n",
      "  _warn_prf(average, modifier, f\"{metric.capitalize()} is\", len(result))\n",
      "C:\\Users\\jonin\\AppData\\Roaming\\Python\\Python310\\site-packages\\sklearn\\metrics\\_classification.py:1497: UndefinedMetricWarning: Precision is ill-defined and being set to 0.0 in labels with no predicted samples. Use `zero_division` parameter to control this behavior.\n",
      "  _warn_prf(average, modifier, f\"{metric.capitalize()} is\", len(result))\n"
     ]
    }
   ],
   "source": [
    "# Evaluate the model\n",
    "from sklearn.metrics import accuracy_score, f1_score, precision_score, recall_score, classification_report\n",
    "\n",
    "model.eval()\n",
    "\n",
    "y_pred = []\n",
    "y_true = []\n",
    "\n",
    "with torch.no_grad():\n",
    "    for data in test_loader:\n",
    "        inputs, labels = data\n",
    "        outputs = model(inputs)\n",
    "        _, predicted = torch.max(outputs, 1)\n",
    "        y_pred.extend(predicted.tolist())\n",
    "        y_true.extend(labels.tolist())\n",
    "\n",
    "accuracy = accuracy_score(y_true, y_pred)\n",
    "precision = precision_score(y_true, y_pred, average='macro')\n",
    "recall = recall_score(y_true, y_pred, average='macro')\n",
    "f1 = f1_score(y_true, y_pred, average='macro')\n",
    "\n",
    "print(classification_report(y_true, y_pred)) "
   ]
  },
  {
   "cell_type": "code",
   "execution_count": 67,
   "metadata": {},
   "outputs": [],
   "source": [
    "# create a chatbot wich recieves a question and returns the tag\n",
    "\n",
    "def predict_tag(question):\n",
    "    # Preprocess the question\n",
    "    processed_text = preprocess_text(question)\n",
    "\n",
    "    # Tokenize the question\n",
    "    encoded_text = [vocab.get(word, vocab['<UNK>']) for word in processed_text.split()]\n",
    "    padded_text = encoded_text[:max_length] + [vocab['<PAD>']] * (max_length - len(encoded_text))\n",
    "    x = torch.tensor(padded_text).unsqueeze(0)  # Add batch dimension\n",
    "\n",
    "    # Get the model's prediction\n",
    "    with torch.no_grad():\n",
    "        output = model(x)\n",
    "        _, predicted = torch.max(output, 1)\n",
    "    \n",
    "    return predicted.item()"
   ]
  },
  {
   "cell_type": "code",
   "execution_count": 71,
   "metadata": {},
   "outputs": [
    {
     "name": "stdout",
     "output_type": "stream",
     "text": [
      "Predicted tag: linux\n",
      "<p>have you tried watching the traffic between the GUI and the serial port to see if there is some kind of special command being sent across?  Also just curious, Python is sending ASCII and not UTF-8 or something else right?  The reason I ask is because I noticed your quote changes for the strings and in some languages that actually is the difference between ASCII and UTF-8.</p>\n",
      "\n"
     ]
    }
   ],
   "source": [
    "\n",
    "# Test the chatbot\n",
    "question = \"linux command to list files in a directory\"\n",
    "tag = predict_tag(question)\n",
    "print(f\"Predicted tag: {top_100_tags[tag]}\")\n",
    "\n",
    "# get a answer for the question\n",
    "answer = answers_and_questions_df[answers_and_questions_df[\"Tags_question\"].apply(lambda tags: tags[0] == top_100_tags[tag])][\"Body_answer\"].iloc[0]\n",
    "print(answer)"
   ]
  },
  {
   "cell_type": "code",
   "execution_count": null,
   "metadata": {},
   "outputs": [
    {
     "name": "stdout",
     "output_type": "stream",
     "text": [
      "Predicted tag: linux\n",
      "<p>Fewer characters and guaranteed to work:</p>\n",
      "\n",
      "<pre><code>sh -c 'echo $PPID'\n",
      "</code></pre>\n",
      "\n",
      "Predicted tag: linux\n",
      "<p>Various widget toolkits (GTK+, Qt, etc.) can run on <a href=\"http://directfb.org/\" rel=\"nofollow\">DirectFB</a> instead of X11, which will allow you to have a GUI running on the Linux framebuffer device instead of requiring a full X server.</p>\n",
      "\n",
      "Predicted tag: linux\n",
      "<p><a href=\"http://manpages.debian.net/cgi-bin/man.cgi?query=udevadm&amp;sektion=8\" rel=\"nofollow\"><code>udevadm monitor</code></a> (the udev administration binary) or <a href=\"http://www.kernel.org/pub/linux/utils/kernel/hotplug/libudev/libudev-udev-monitor.html\" rel=\"nofollow\"><code>udev_monitor</code></a> (in libudev).</p>\n",
      "\n",
      "<p>Alternately, if you're running in X11 with input hotplugging, you can listen for the XI extension event <code>DevicePresenceNotify</code>.</p>\n",
      "\n"
     ]
    }
   ],
   "source": [
    "import random\n",
    "\n",
    "while True:\n",
    "    question = input(\"Enter a question: \")\n",
    "    tag = predict_tag(question)\n",
    "    print(f\"Predicted tag: {top_100_tags[tag]}\")\n",
    "    # shuffle the answers\n",
    "    answers_and_questions_df = answers_and_questions_df\n",
    "    answer = answers_and_questions_df[\n",
    "    answers_and_questions_df[\"Tags_question\"].apply(lambda tags: tags[0] == top_100_tags[tag])\n",
    "][\"Body_answer\"].sample(n=1, random_state=random.randint(0, 1000)).iloc[0]\n",
    "    print(answer)"
   ]
  },
  {
   "cell_type": "markdown",
   "metadata": {},
   "source": [
    "## 5.3 Model Evaluation\n",
    "<!--\n",
    "- Evaluate model performance on validation data.\n",
    "- Use appropriate metrics (e.g., accuracy, precision, recall, RMSE).\n",
    "-->"
   ]
  },
  {
   "cell_type": "markdown",
   "metadata": {},
   "source": [
    "## 5.4 Hyperparameter Tuning\n",
    "<!--\n",
    "- Fine-tune the model using techniques like Grid Search or Random Search.\n",
    "- Evaluate the impact of different hyperparameters.\n",
    "-->"
   ]
  },
  {
   "cell_type": "markdown",
   "metadata": {},
   "source": [
    "## 5.5 Model Testing\n",
    "<!--\n",
    "- Evaluate the final model on the test dataset.\n",
    "- Ensure that the model generalizes well to unseen data.\n",
    "-->"
   ]
  },
  {
   "cell_type": "markdown",
   "metadata": {},
   "source": [
    "## 5.6 Model Interpretation (Optional)\n",
    "<!--\n",
    "- Interpret the model results (e.g., feature importance, SHAP values).\n",
    "- Discuss the strengths and limitations of the model.\n",
    "-->"
   ]
  },
  {
   "cell_type": "markdown",
   "metadata": {},
   "source": [
    "---"
   ]
  },
  {
   "cell_type": "markdown",
   "metadata": {},
   "source": [
    "# 6. Predictions\n"
   ]
  },
  {
   "cell_type": "markdown",
   "metadata": {},
   "source": [
    "## 6.1 Make Predictions\n",
    "<!--\n",
    "- Use the trained model to make predictions on new/unseen data.\n",
    "-->"
   ]
  },
  {
   "cell_type": "markdown",
   "metadata": {},
   "source": [
    "## 6.2 Save Model and Results\n",
    "<!--\n",
    "- Save the trained model to disk for future use.\n",
    "- Export prediction results for further analysis.\n",
    "-->"
   ]
  },
  {
   "cell_type": "markdown",
   "metadata": {},
   "source": [
    "---"
   ]
  },
  {
   "cell_type": "markdown",
   "metadata": {},
   "source": [
    "# 7. Documentation and Reporting"
   ]
  },
  {
   "cell_type": "markdown",
   "metadata": {},
   "source": [
    "## 7.1 Summary of Findings\n",
    "<!--\n",
    "- Summarize the results and findings of the analysis.\n",
    "-->"
   ]
  },
  {
   "cell_type": "markdown",
   "metadata": {},
   "source": [
    "## 7.2 Next Steps\n",
    "<!--\n",
    "- Suggest further improvements, alternative models, or future work.\n",
    "-->"
   ]
  },
  {
   "cell_type": "markdown",
   "metadata": {},
   "source": [
    "## 7.3 References\n",
    "<!--\n",
    "- Cite any resources, papers, or documentation used.\n",
    "-->"
   ]
  }
 ],
 "metadata": {
  "kernelspec": {
   "display_name": "pytorch",
   "language": "python",
   "name": "python3"
  },
  "language_info": {
   "codemirror_mode": {
    "name": "ipython",
    "version": 3
   },
   "file_extension": ".py",
   "mimetype": "text/x-python",
   "name": "python",
   "nbconvert_exporter": "python",
   "pygments_lexer": "ipython3",
   "version": "3.10.13"
  }
 },
 "nbformat": 4,
 "nbformat_minor": 2
}
