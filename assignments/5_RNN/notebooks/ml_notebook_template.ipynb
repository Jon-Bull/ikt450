{
 "cells": [
  {
   "cell_type": "markdown",
   "metadata": {},
   "source": [
    "<!-- Notebook title -->\n",
    "# Title"
   ]
  },
  {
   "cell_type": "markdown",
   "metadata": {},
   "source": [
    "# 1. Notebook Description"
   ]
  },
  {
   "cell_type": "markdown",
   "metadata": {},
   "source": [
    "### 1.1 Task Description\n",
    "<!-- \n",
    "- A brief description of the problem you're solving with machine learning.\n",
    "- Define the objective (e.g., classification, regression, clustering, etc.).\n",
    "-->"
   ]
  },
  {
   "cell_type": "markdown",
   "metadata": {},
   "source": [
    "TODO"
   ]
  },
  {
   "cell_type": "markdown",
   "metadata": {},
   "source": [
    "### 1.2 Useful Resources\n",
    "<!--\n",
    "- Links to relevant papers, articles, or documentation.\n",
    "- Description of the datasets (if external).\n",
    "-->"
   ]
  },
  {
   "cell_type": "markdown",
   "metadata": {},
   "source": [
    "### 1.2.1 Data"
   ]
  },
  {
   "cell_type": "markdown",
   "metadata": {},
   "source": [
    "#### 1.2.1.1 Common"
   ]
  },
  {
   "cell_type": "markdown",
   "metadata": {},
   "source": [
    "* [Datasets Kaggle](https://www.kaggle.com/datasets)  \n",
    "  &nbsp;&nbsp;&nbsp;&nbsp;A vast repository of datasets across various domains provided by Kaggle, a platform for data science competitions.\n",
    "  \n",
    "* [Toy datasets from Sklearn](https://scikit-learn.org/stable/datasets/toy_dataset.html)  \n",
    "  &nbsp;&nbsp;&nbsp;&nbsp;A collection of small datasets that come with the Scikit-learn library, useful for quick prototyping and testing algorithms.\n",
    "  \n",
    "* [UCI Machine Learning Repository](https://archive.ics.uci.edu/ml/index.php)  \n",
    "  &nbsp;&nbsp;&nbsp;&nbsp;A widely-used repository for machine learning datasets, with a variety of real-world datasets available for research and experimentation.\n",
    "  \n",
    "* [Google Dataset Search](https://datasetsearch.research.google.com/)  \n",
    "  &nbsp;&nbsp;&nbsp;&nbsp;A tool from Google that helps to find datasets stored across the web, with a focus on publicly available data.\n",
    "  \n",
    "* [AWS Public Datasets](https://registry.opendata.aws/)  \n",
    "  &nbsp;&nbsp;&nbsp;&nbsp;A registry of publicly available datasets that can be analyzed on the cloud using Amazon Web Services (AWS).\n",
    "  \n",
    "* [Microsoft Azure Open Datasets](https://azure.microsoft.com/en-us/services/open-datasets/)  \n",
    "  &nbsp;&nbsp;&nbsp;&nbsp;A collection of curated datasets from various domains, made available by Microsoft Azure for use in machine learning and analytics.\n",
    "  \n",
    "* [Awesome Public Datasets](https://github.com/awesomedata/awesome-public-datasets)  \n",
    "  &nbsp;&nbsp;&nbsp;&nbsp;A GitHub repository that lists a wide variety of datasets across different domains, curated by the community.\n",
    "  \n",
    "* [Data.gov](https://www.data.gov/)  \n",
    "  &nbsp;&nbsp;&nbsp;&nbsp;A portal to the US government's open data, offering access to a wide range of datasets from various federal agencies.\n",
    "  \n",
    "* [Google BigQuery Public Datasets](https://cloud.google.com/bigquery/public-data)  \n",
    "  &nbsp;&nbsp;&nbsp;&nbsp;Public datasets hosted by Google BigQuery, allowing for quick and powerful querying of large datasets in the cloud.\n",
    "  \n",
    "* [Papers with Code](https://paperswithcode.com/datasets)  \n",
    "  &nbsp;&nbsp;&nbsp;&nbsp;A platform that links research papers with the corresponding code and datasets, helping researchers reproduce results and explore new data.\n",
    "  \n",
    "* [Zenodo](https://zenodo.org/)  \n",
    "  &nbsp;&nbsp;&nbsp;&nbsp;An open-access repository that allows researchers to share datasets, software, and other research outputs, often linked to academic publications.\n",
    "  \n",
    "* [The World Bank Open Data](https://data.worldbank.org/)  \n",
    "  &nbsp;&nbsp;&nbsp;&nbsp;A comprehensive source of global development data, with datasets covering various economic and social indicators.\n",
    "  \n",
    "* [OpenML](https://www.openml.org/)  \n",
    "  &nbsp;&nbsp;&nbsp;&nbsp;An online platform for sharing datasets, machine learning experiments, and results, fostering collaboration in the ML community.\n",
    "  \n",
    "* [Stanford Large Network Dataset Collection (SNAP)](https://snap.stanford.edu/data/)  \n",
    "  &nbsp;&nbsp;&nbsp;&nbsp;A collection of large-scale network datasets from Stanford University, useful for network analysis and graph-based machine learning.\n",
    "  \n",
    "* [KDnuggets Datasets](https://www.kdnuggets.com/datasets/index.html)  \n",
    "  &nbsp;&nbsp;&nbsp;&nbsp;A curated list of datasets for data mining and data science, compiled by the KDnuggets community.\n"
   ]
  },
  {
   "cell_type": "markdown",
   "metadata": {},
   "source": [
    "#### 1.2.1.2 Project"
   ]
  },
  {
   "cell_type": "markdown",
   "metadata": {},
   "source": []
  },
  {
   "cell_type": "markdown",
   "metadata": {},
   "source": [
    "### 1.2.2 Learning"
   ]
  },
  {
   "cell_type": "markdown",
   "metadata": {},
   "source": [
    "* [K-Nearest Neighbors on Kaggle](https://www.kaggle.com/code/mmdatainfo/k-nearest-neighbors)\n",
    "\n",
    "* [Complete Guide to K-Nearest-Neighbors](https://kevinzakka.github.io/2016/07/13/k-nearest-neighbor)"
   ]
  },
  {
   "cell_type": "markdown",
   "metadata": {},
   "source": [
    "### 1.2.3 Documentation"
   ]
  },
  {
   "cell_type": "markdown",
   "metadata": {},
   "source": [
    "---"
   ]
  },
  {
   "cell_type": "markdown",
   "metadata": {},
   "source": [
    "# 2. Setup"
   ]
  },
  {
   "cell_type": "code",
   "execution_count": 1,
   "metadata": {},
   "outputs": [],
   "source": [
    "from ikt450.src.common_imports import *\n",
    "from ikt450.src.config import get_paths\n",
    "from ikt450.src.common_func import load_dataset, save_dataframe, ensure_dir_exists"
   ]
  },
  {
   "cell_type": "code",
   "execution_count": 2,
   "metadata": {},
   "outputs": [],
   "source": [
    "paths = get_paths()"
   ]
  },
  {
   "cell_type": "code",
   "execution_count": 3,
   "metadata": {},
   "outputs": [],
   "source": [
    "RANDOM_SEED = 7"
   ]
  },
  {
   "cell_type": "code",
   "execution_count": 4,
   "metadata": {},
   "outputs": [],
   "source": [
    "SPLITRATIO = 0.8"
   ]
  },
  {
   "cell_type": "markdown",
   "metadata": {},
   "source": [
    "---"
   ]
  },
  {
   "cell_type": "markdown",
   "metadata": {},
   "source": [
    "## 4.1 Data loading\n",
    "<!--\n",
    "- Load datasets from files or other sources.\n",
    "-->"
   ]
  },
  {
   "cell_type": "code",
   "execution_count": 5,
   "metadata": {},
   "outputs": [],
   "source": [
    "questions_df = pd.read_csv(f\"{paths['PATH_COMMON_DATASETS']}/pythonQuestions/Questions.csv\", delimiter=\",\", encoding=\"latin-1\")\n",
    "tags_df = pd.read_csv(f\"{paths['PATH_COMMON_DATASETS']}/pythonQuestions/Tags.csv\", delimiter=\",\", encoding=\"latin-1\")\n",
    "answers_df = pd.read_csv(f\"{paths['PATH_COMMON_DATASETS']}/pythonQuestions/Answers.csv\", delimiter=\",\", encoding=\"latin-1\")"
   ]
  },
  {
   "cell_type": "markdown",
   "metadata": {},
   "source": [
    "### 4.2.1 Info"
   ]
  },
  {
   "cell_type": "code",
   "execution_count": 6,
   "metadata": {},
   "outputs": [
    {
     "name": "stdout",
     "output_type": "stream",
     "text": [
      "<class 'pandas.core.frame.DataFrame'>\n",
      "RangeIndex: 1885078 entries, 0 to 1885077\n",
      "Data columns (total 2 columns):\n",
      " #   Column  Dtype \n",
      "---  ------  ----- \n",
      " 0   Id      int64 \n",
      " 1   Tag     object\n",
      "dtypes: int64(1), object(1)\n",
      "memory usage: 28.8+ MB\n",
      "None\n",
      "<class 'pandas.core.frame.DataFrame'>\n",
      "RangeIndex: 607282 entries, 0 to 607281\n",
      "Data columns (total 6 columns):\n",
      " #   Column        Non-Null Count   Dtype  \n",
      "---  ------        --------------   -----  \n",
      " 0   Id            607282 non-null  int64  \n",
      " 1   OwnerUserId   601070 non-null  float64\n",
      " 2   CreationDate  607282 non-null  object \n",
      " 3   Score         607282 non-null  int64  \n",
      " 4   Title         607282 non-null  object \n",
      " 5   Body          607282 non-null  object \n",
      "dtypes: float64(1), int64(2), object(3)\n",
      "memory usage: 27.8+ MB\n",
      "None\n",
      "<class 'pandas.core.frame.DataFrame'>\n",
      "RangeIndex: 987122 entries, 0 to 987121\n",
      "Data columns (total 6 columns):\n",
      " #   Column        Non-Null Count   Dtype  \n",
      "---  ------        --------------   -----  \n",
      " 0   Id            987122 non-null  int64  \n",
      " 1   OwnerUserId   981755 non-null  float64\n",
      " 2   CreationDate  987122 non-null  object \n",
      " 3   ParentId      987122 non-null  int64  \n",
      " 4   Score         987122 non-null  int64  \n",
      " 5   Body          987122 non-null  object \n",
      "dtypes: float64(1), int64(3), object(2)\n",
      "memory usage: 45.2+ MB\n",
      "None\n"
     ]
    }
   ],
   "source": [
    "print(tags_df.info())\n",
    "print(questions_df.info())\n",
    "print(answers_df.info())"
   ]
  },
  {
   "cell_type": "code",
   "execution_count": 7,
   "metadata": {},
   "outputs": [],
   "source": [
    "# Merge the tags and questions dataframes\n",
    "\n"
   ]
  },
  {
   "cell_type": "markdown",
   "metadata": {},
   "source": [
    "### 4.2.2 Describe"
   ]
  },
  {
   "cell_type": "code",
   "execution_count": 8,
   "metadata": {},
   "outputs": [],
   "source": [
    "num_tags = len(list(tags_df[\"Tag\"].unique()))\n",
    "unique_tags = list(tags_df[\"Tag\"].unique())"
   ]
  },
  {
   "cell_type": "code",
   "execution_count": 9,
   "metadata": {},
   "outputs": [
    {
     "data": {
      "text/plain": [
       "16896"
      ]
     },
     "execution_count": 9,
     "metadata": {},
     "output_type": "execute_result"
    }
   ],
   "source": [
    "num_tags"
   ]
  },
  {
   "cell_type": "code",
   "execution_count": 10,
   "metadata": {},
   "outputs": [
    {
     "data": {
      "text/html": [
       "<div>\n",
       "<style scoped>\n",
       "    .dataframe tbody tr th:only-of-type {\n",
       "        vertical-align: middle;\n",
       "    }\n",
       "\n",
       "    .dataframe tbody tr th {\n",
       "        vertical-align: top;\n",
       "    }\n",
       "\n",
       "    .dataframe thead th {\n",
       "        text-align: right;\n",
       "    }\n",
       "</style>\n",
       "<table border=\"1\" class=\"dataframe\">\n",
       "  <thead>\n",
       "    <tr style=\"text-align: right;\">\n",
       "      <th></th>\n",
       "      <th>Id</th>\n",
       "      <th>OwnerUserId</th>\n",
       "      <th>CreationDate</th>\n",
       "      <th>ParentId</th>\n",
       "      <th>Score</th>\n",
       "      <th>Body</th>\n",
       "    </tr>\n",
       "  </thead>\n",
       "  <tbody>\n",
       "    <tr>\n",
       "      <th>0</th>\n",
       "      <td>497</td>\n",
       "      <td>50.0</td>\n",
       "      <td>2008-08-02T16:56:53Z</td>\n",
       "      <td>469</td>\n",
       "      <td>4</td>\n",
       "      <td>&lt;p&gt;open up a terminal (Applications-&amp;gt;Utilit...</td>\n",
       "    </tr>\n",
       "    <tr>\n",
       "      <th>1</th>\n",
       "      <td>518</td>\n",
       "      <td>153.0</td>\n",
       "      <td>2008-08-02T17:42:28Z</td>\n",
       "      <td>469</td>\n",
       "      <td>2</td>\n",
       "      <td>&lt;p&gt;I haven't been able to find anything that d...</td>\n",
       "    </tr>\n",
       "    <tr>\n",
       "      <th>2</th>\n",
       "      <td>536</td>\n",
       "      <td>161.0</td>\n",
       "      <td>2008-08-02T18:49:07Z</td>\n",
       "      <td>502</td>\n",
       "      <td>9</td>\n",
       "      <td>&lt;p&gt;You can use ImageMagick's convert utility f...</td>\n",
       "    </tr>\n",
       "    <tr>\n",
       "      <th>3</th>\n",
       "      <td>538</td>\n",
       "      <td>156.0</td>\n",
       "      <td>2008-08-02T18:56:56Z</td>\n",
       "      <td>535</td>\n",
       "      <td>23</td>\n",
       "      <td>&lt;p&gt;One possibility is Hudson.  It's written in...</td>\n",
       "    </tr>\n",
       "    <tr>\n",
       "      <th>4</th>\n",
       "      <td>541</td>\n",
       "      <td>157.0</td>\n",
       "      <td>2008-08-02T19:06:40Z</td>\n",
       "      <td>535</td>\n",
       "      <td>20</td>\n",
       "      <td>&lt;p&gt;We run &lt;a href=\"http://buildbot.net/trac\"&gt;B...</td>\n",
       "    </tr>\n",
       "    <tr>\n",
       "      <th>...</th>\n",
       "      <td>...</td>\n",
       "      <td>...</td>\n",
       "      <td>...</td>\n",
       "      <td>...</td>\n",
       "      <td>...</td>\n",
       "      <td>...</td>\n",
       "    </tr>\n",
       "    <tr>\n",
       "      <th>987117</th>\n",
       "      <td>40143290</td>\n",
       "      <td>3831.0</td>\n",
       "      <td>2016-10-19T23:46:58Z</td>\n",
       "      <td>40142906</td>\n",
       "      <td>0</td>\n",
       "      <td>&lt;p&gt;I am fairly certain your problem is your us...</td>\n",
       "    </tr>\n",
       "    <tr>\n",
       "      <th>987118</th>\n",
       "      <td>40143315</td>\n",
       "      <td>3125566.0</td>\n",
       "      <td>2016-10-19T23:49:43Z</td>\n",
       "      <td>40143166</td>\n",
       "      <td>2</td>\n",
       "      <td>&lt;p&gt;First thing, you should use &lt;code&gt;if/elif&lt;/...</td>\n",
       "    </tr>\n",
       "    <tr>\n",
       "      <th>987119</th>\n",
       "      <td>40143317</td>\n",
       "      <td>2350575.0</td>\n",
       "      <td>2016-10-19T23:50:04Z</td>\n",
       "      <td>40142194</td>\n",
       "      <td>0</td>\n",
       "      <td>&lt;p&gt;If you are using firefox ver &gt;47.0.1 you ne...</td>\n",
       "    </tr>\n",
       "    <tr>\n",
       "      <th>987120</th>\n",
       "      <td>40143349</td>\n",
       "      <td>6934347.0</td>\n",
       "      <td>2016-10-19T23:54:02Z</td>\n",
       "      <td>40077010</td>\n",
       "      <td>0</td>\n",
       "      <td>&lt;p&gt;I solved my own problem defining the follow...</td>\n",
       "    </tr>\n",
       "    <tr>\n",
       "      <th>987121</th>\n",
       "      <td>40143370</td>\n",
       "      <td>6502500.0</td>\n",
       "      <td>2016-10-19T23:56:31Z</td>\n",
       "      <td>40142538</td>\n",
       "      <td>0</td>\n",
       "      <td>&lt;p&gt;I can't seem to reproduce your error but up...</td>\n",
       "    </tr>\n",
       "  </tbody>\n",
       "</table>\n",
       "<p>987122 rows × 6 columns</p>\n",
       "</div>"
      ],
      "text/plain": [
       "              Id  OwnerUserId          CreationDate  ParentId  Score  \\\n",
       "0            497         50.0  2008-08-02T16:56:53Z       469      4   \n",
       "1            518        153.0  2008-08-02T17:42:28Z       469      2   \n",
       "2            536        161.0  2008-08-02T18:49:07Z       502      9   \n",
       "3            538        156.0  2008-08-02T18:56:56Z       535     23   \n",
       "4            541        157.0  2008-08-02T19:06:40Z       535     20   \n",
       "...          ...          ...                   ...       ...    ...   \n",
       "987117  40143290       3831.0  2016-10-19T23:46:58Z  40142906      0   \n",
       "987118  40143315    3125566.0  2016-10-19T23:49:43Z  40143166      2   \n",
       "987119  40143317    2350575.0  2016-10-19T23:50:04Z  40142194      0   \n",
       "987120  40143349    6934347.0  2016-10-19T23:54:02Z  40077010      0   \n",
       "987121  40143370    6502500.0  2016-10-19T23:56:31Z  40142538      0   \n",
       "\n",
       "                                                     Body  \n",
       "0       <p>open up a terminal (Applications-&gt;Utilit...  \n",
       "1       <p>I haven't been able to find anything that d...  \n",
       "2       <p>You can use ImageMagick's convert utility f...  \n",
       "3       <p>One possibility is Hudson.  It's written in...  \n",
       "4       <p>We run <a href=\"http://buildbot.net/trac\">B...  \n",
       "...                                                   ...  \n",
       "987117  <p>I am fairly certain your problem is your us...  \n",
       "987118  <p>First thing, you should use <code>if/elif</...  \n",
       "987119  <p>If you are using firefox ver >47.0.1 you ne...  \n",
       "987120  <p>I solved my own problem defining the follow...  \n",
       "987121  <p>I can't seem to reproduce your error but up...  \n",
       "\n",
       "[987122 rows x 6 columns]"
      ]
     },
     "execution_count": 10,
     "metadata": {},
     "output_type": "execute_result"
    }
   ],
   "source": [
    "answers_df"
   ]
  },
  {
   "cell_type": "code",
   "execution_count": 11,
   "metadata": {},
   "outputs": [],
   "source": [
    "tags_grouped = tags_df.groupby('Id')['Tag'].apply(list).reset_index(name='Tags')\n",
    "questions_and_tags_df = questions_df.merge(tags_grouped,on=\"Id\")\n",
    "\n"
   ]
  },
  {
   "cell_type": "code",
   "execution_count": 12,
   "metadata": {},
   "outputs": [],
   "source": [
    "\n",
    "# find the most common tags\n",
    "tag_count = {}\n",
    "for tags in questions_and_tags_df[\"Tags\"]:\n",
    "    for tag in tags:\n",
    "        if tag in tag_count:\n",
    "            tag_count[tag] += 1\n",
    "        else:\n",
    "            tag_count[tag] = 1\n",
    "            \n",
    "\n"
   ]
  },
  {
   "cell_type": "code",
   "execution_count": 13,
   "metadata": {},
   "outputs": [
    {
     "data": {
      "text/plain": [
       "['tkinter', 'string', 'flask']"
      ]
     },
     "execution_count": 13,
     "metadata": {},
     "output_type": "execute_result"
    }
   ],
   "source": [
    "tag_count\n",
    "# sort the tags by count\n",
    "sorted_tags = sorted(tag_count.items(), key=lambda x: x[1], reverse=True)\n",
    "sorted_tags\n",
    "\n",
    "# get the top 10 tags\n",
    "\n",
    "# \n",
    "class_count = 2\n",
    "# get the top 100 with out the top 10\n",
    "top_100_tags = [tag for tag, count in sorted_tags[10:13]]\n",
    "top_100_tags\n"
   ]
  },
  {
   "cell_type": "code",
   "execution_count": 14,
   "metadata": {},
   "outputs": [],
   "source": [
    "# filter the questions to only include the top 100 tags\n",
    "\n",
    "questions_and_tags_df[\"Tags\"] = questions_and_tags_df[\"Tags\"].apply(lambda tags: [tag for tag in tags if tag in top_100_tags])"
   ]
  },
  {
   "cell_type": "code",
   "execution_count": 15,
   "metadata": {},
   "outputs": [
    {
     "data": {
      "text/html": [
       "<div>\n",
       "<style scoped>\n",
       "    .dataframe tbody tr th:only-of-type {\n",
       "        vertical-align: middle;\n",
       "    }\n",
       "\n",
       "    .dataframe tbody tr th {\n",
       "        vertical-align: top;\n",
       "    }\n",
       "\n",
       "    .dataframe thead th {\n",
       "        text-align: right;\n",
       "    }\n",
       "</style>\n",
       "<table border=\"1\" class=\"dataframe\">\n",
       "  <thead>\n",
       "    <tr style=\"text-align: right;\">\n",
       "      <th></th>\n",
       "      <th>Id</th>\n",
       "      <th>OwnerUserId</th>\n",
       "      <th>CreationDate</th>\n",
       "      <th>Score</th>\n",
       "      <th>Title</th>\n",
       "      <th>Body</th>\n",
       "      <th>Tags</th>\n",
       "    </tr>\n",
       "  </thead>\n",
       "  <tbody>\n",
       "    <tr>\n",
       "      <th>15</th>\n",
       "      <td>2933</td>\n",
       "      <td>1384652.0</td>\n",
       "      <td>2008-08-05T22:26:00Z</td>\n",
       "      <td>171</td>\n",
       "      <td>How can I create a directly-executable cross-p...</td>\n",
       "      <td>&lt;p&gt;Python works on multiple platforms and can ...</td>\n",
       "      <td>[tkinter]</td>\n",
       "    </tr>\n",
       "    <tr>\n",
       "      <th>34</th>\n",
       "      <td>13454</td>\n",
       "      <td>NaN</td>\n",
       "      <td>2008-08-17T01:23:50Z</td>\n",
       "      <td>9</td>\n",
       "      <td>Python version of PHP's stripslashes</td>\n",
       "      <td>&lt;p&gt;I wrote a piece of code to convert PHP's st...</td>\n",
       "      <td>[string]</td>\n",
       "    </tr>\n",
       "    <tr>\n",
       "      <th>69</th>\n",
       "      <td>28165</td>\n",
       "      <td>305.0</td>\n",
       "      <td>2008-08-26T14:20:48Z</td>\n",
       "      <td>10</td>\n",
       "      <td>Does PHP have an equivalent to this type of Py...</td>\n",
       "      <td>&lt;p&gt;Python has this wonderful way of handling s...</td>\n",
       "      <td>[string]</td>\n",
       "    </tr>\n",
       "    <tr>\n",
       "      <th>101</th>\n",
       "      <td>36139</td>\n",
       "      <td>3205.0</td>\n",
       "      <td>2008-08-30T17:03:09Z</td>\n",
       "      <td>211</td>\n",
       "      <td>How do I sort a list of strings in Python?</td>\n",
       "      <td>&lt;p&gt;What is the best way of creating an alphabe...</td>\n",
       "      <td>[string]</td>\n",
       "    </tr>\n",
       "    <tr>\n",
       "      <th>149</th>\n",
       "      <td>45540</td>\n",
       "      <td>4717.0</td>\n",
       "      <td>2008-09-05T11:07:06Z</td>\n",
       "      <td>5</td>\n",
       "      <td>How to know whether a window with a given titl...</td>\n",
       "      <td>&lt;p&gt;Iâve writen a little python script that j...</td>\n",
       "      <td>[tkinter]</td>\n",
       "    </tr>\n",
       "    <tr>\n",
       "      <th>...</th>\n",
       "      <td>...</td>\n",
       "      <td>...</td>\n",
       "      <td>...</td>\n",
       "      <td>...</td>\n",
       "      <td>...</td>\n",
       "      <td>...</td>\n",
       "      <td>...</td>\n",
       "    </tr>\n",
       "    <tr>\n",
       "      <th>607172</th>\n",
       "      <td>40140574</td>\n",
       "      <td>7043471.0</td>\n",
       "      <td>2016-10-19T20:05:57Z</td>\n",
       "      <td>0</td>\n",
       "      <td>Problems with unsing TKinter and RPi.GPIO toge...</td>\n",
       "      <td>&lt;p&gt;I'm trying to make a program with Python th...</td>\n",
       "      <td>[tkinter]</td>\n",
       "    </tr>\n",
       "    <tr>\n",
       "      <th>607176</th>\n",
       "      <td>40140817</td>\n",
       "      <td>7044354.0</td>\n",
       "      <td>2016-10-19T20:20:50Z</td>\n",
       "      <td>0</td>\n",
       "      <td>Tkinter open with 1Button the directory of 2 B...</td>\n",
       "      <td>&lt;p&gt;I want to make a code to search for file na...</td>\n",
       "      <td>[tkinter]</td>\n",
       "    </tr>\n",
       "    <tr>\n",
       "      <th>607204</th>\n",
       "      <td>40141540</td>\n",
       "      <td>3799576.0</td>\n",
       "      <td>2016-10-19T21:06:36Z</td>\n",
       "      <td>1</td>\n",
       "      <td>Easier way to check if a string contains only ...</td>\n",
       "      <td>&lt;p&gt;I have a string &lt;code&gt;'829383&amp;amp;&amp;amp;*&amp;am...</td>\n",
       "      <td>[string]</td>\n",
       "    </tr>\n",
       "    <tr>\n",
       "      <th>607208</th>\n",
       "      <td>40141620</td>\n",
       "      <td>1356863.0</td>\n",
       "      <td>2016-10-19T21:12:54Z</td>\n",
       "      <td>-1</td>\n",
       "      <td>Application not picking up CSS file (python/fl...</td>\n",
       "      <td>&lt;p&gt;I am rendering a template, that I am attemp...</td>\n",
       "      <td>[flask]</td>\n",
       "    </tr>\n",
       "    <tr>\n",
       "      <th>607255</th>\n",
       "      <td>40142668</td>\n",
       "      <td>6941910.0</td>\n",
       "      <td>2016-10-19T22:40:52Z</td>\n",
       "      <td>0</td>\n",
       "      <td>how can I exit a tkinter window after changing...</td>\n",
       "      <td>&lt;p&gt;So I'm trying to make a little battle scene...</td>\n",
       "      <td>[tkinter]</td>\n",
       "    </tr>\n",
       "  </tbody>\n",
       "</table>\n",
       "<p>31764 rows × 7 columns</p>\n",
       "</div>"
      ],
      "text/plain": [
       "              Id  OwnerUserId          CreationDate  Score  \\\n",
       "15          2933    1384652.0  2008-08-05T22:26:00Z    171   \n",
       "34         13454          NaN  2008-08-17T01:23:50Z      9   \n",
       "69         28165        305.0  2008-08-26T14:20:48Z     10   \n",
       "101        36139       3205.0  2008-08-30T17:03:09Z    211   \n",
       "149        45540       4717.0  2008-09-05T11:07:06Z      5   \n",
       "...          ...          ...                   ...    ...   \n",
       "607172  40140574    7043471.0  2016-10-19T20:05:57Z      0   \n",
       "607176  40140817    7044354.0  2016-10-19T20:20:50Z      0   \n",
       "607204  40141540    3799576.0  2016-10-19T21:06:36Z      1   \n",
       "607208  40141620    1356863.0  2016-10-19T21:12:54Z     -1   \n",
       "607255  40142668    6941910.0  2016-10-19T22:40:52Z      0   \n",
       "\n",
       "                                                    Title  \\\n",
       "15      How can I create a directly-executable cross-p...   \n",
       "34                   Python version of PHP's stripslashes   \n",
       "69      Does PHP have an equivalent to this type of Py...   \n",
       "101            How do I sort a list of strings in Python?   \n",
       "149     How to know whether a window with a given titl...   \n",
       "...                                                   ...   \n",
       "607172  Problems with unsing TKinter and RPi.GPIO toge...   \n",
       "607176  Tkinter open with 1Button the directory of 2 B...   \n",
       "607204  Easier way to check if a string contains only ...   \n",
       "607208  Application not picking up CSS file (python/fl...   \n",
       "607255  how can I exit a tkinter window after changing...   \n",
       "\n",
       "                                                     Body       Tags  \n",
       "15      <p>Python works on multiple platforms and can ...  [tkinter]  \n",
       "34      <p>I wrote a piece of code to convert PHP's st...   [string]  \n",
       "69      <p>Python has this wonderful way of handling s...   [string]  \n",
       "101     <p>What is the best way of creating an alphabe...   [string]  \n",
       "149     <p>Iâve writen a little python script that j...  [tkinter]  \n",
       "...                                                   ...        ...  \n",
       "607172  <p>I'm trying to make a program with Python th...  [tkinter]  \n",
       "607176  <p>I want to make a code to search for file na...  [tkinter]  \n",
       "607204  <p>I have a string <code>'829383&amp;&amp;*&am...   [string]  \n",
       "607208  <p>I am rendering a template, that I am attemp...    [flask]  \n",
       "607255  <p>So I'm trying to make a little battle scene...  [tkinter]  \n",
       "\n",
       "[31764 rows x 7 columns]"
      ]
     },
     "execution_count": 15,
     "metadata": {},
     "output_type": "execute_result"
    }
   ],
   "source": [
    "\n",
    "# remove questions with no tags \n",
    "questions_and_tags_df = questions_and_tags_df[questions_and_tags_df[\"Tags\"].apply(len) > 0]\n",
    "questions_and_tags_df\n",
    "\n",
    "# remove questions with two or more tags\n",
    "questions_and_tags_df = questions_and_tags_df[questions_and_tags_df[\"Tags\"].apply(len) == 1]\n",
    "questions_and_tags_df\n",
    "\n"
   ]
  },
  {
   "cell_type": "code",
   "execution_count": 16,
   "metadata": {},
   "outputs": [
    {
     "data": {
      "text/html": [
       "<div>\n",
       "<style scoped>\n",
       "    .dataframe tbody tr th:only-of-type {\n",
       "        vertical-align: middle;\n",
       "    }\n",
       "\n",
       "    .dataframe tbody tr th {\n",
       "        vertical-align: top;\n",
       "    }\n",
       "\n",
       "    .dataframe thead th {\n",
       "        text-align: right;\n",
       "    }\n",
       "</style>\n",
       "<table border=\"1\" class=\"dataframe\">\n",
       "  <thead>\n",
       "    <tr style=\"text-align: right;\">\n",
       "      <th></th>\n",
       "      <th>Body</th>\n",
       "      <th>Tags</th>\n",
       "    </tr>\n",
       "  </thead>\n",
       "  <tbody>\n",
       "    <tr>\n",
       "      <th>15</th>\n",
       "      <td>&lt;p&gt;Python works on multiple platforms and can ...</td>\n",
       "      <td>[tkinter]</td>\n",
       "    </tr>\n",
       "    <tr>\n",
       "      <th>34</th>\n",
       "      <td>&lt;p&gt;I wrote a piece of code to convert PHP's st...</td>\n",
       "      <td>[string]</td>\n",
       "    </tr>\n",
       "    <tr>\n",
       "      <th>69</th>\n",
       "      <td>&lt;p&gt;Python has this wonderful way of handling s...</td>\n",
       "      <td>[string]</td>\n",
       "    </tr>\n",
       "    <tr>\n",
       "      <th>101</th>\n",
       "      <td>&lt;p&gt;What is the best way of creating an alphabe...</td>\n",
       "      <td>[string]</td>\n",
       "    </tr>\n",
       "    <tr>\n",
       "      <th>149</th>\n",
       "      <td>&lt;p&gt;Iâve writen a little python script that j...</td>\n",
       "      <td>[tkinter]</td>\n",
       "    </tr>\n",
       "    <tr>\n",
       "      <th>...</th>\n",
       "      <td>...</td>\n",
       "      <td>...</td>\n",
       "    </tr>\n",
       "    <tr>\n",
       "      <th>607172</th>\n",
       "      <td>&lt;p&gt;I'm trying to make a program with Python th...</td>\n",
       "      <td>[tkinter]</td>\n",
       "    </tr>\n",
       "    <tr>\n",
       "      <th>607176</th>\n",
       "      <td>&lt;p&gt;I want to make a code to search for file na...</td>\n",
       "      <td>[tkinter]</td>\n",
       "    </tr>\n",
       "    <tr>\n",
       "      <th>607204</th>\n",
       "      <td>&lt;p&gt;I have a string &lt;code&gt;'829383&amp;amp;&amp;amp;*&amp;am...</td>\n",
       "      <td>[string]</td>\n",
       "    </tr>\n",
       "    <tr>\n",
       "      <th>607208</th>\n",
       "      <td>&lt;p&gt;I am rendering a template, that I am attemp...</td>\n",
       "      <td>[flask]</td>\n",
       "    </tr>\n",
       "    <tr>\n",
       "      <th>607255</th>\n",
       "      <td>&lt;p&gt;So I'm trying to make a little battle scene...</td>\n",
       "      <td>[tkinter]</td>\n",
       "    </tr>\n",
       "  </tbody>\n",
       "</table>\n",
       "<p>31764 rows × 2 columns</p>\n",
       "</div>"
      ],
      "text/plain": [
       "                                                     Body       Tags\n",
       "15      <p>Python works on multiple platforms and can ...  [tkinter]\n",
       "34      <p>I wrote a piece of code to convert PHP's st...   [string]\n",
       "69      <p>Python has this wonderful way of handling s...   [string]\n",
       "101     <p>What is the best way of creating an alphabe...   [string]\n",
       "149     <p>Iâve writen a little python script that j...  [tkinter]\n",
       "...                                                   ...        ...\n",
       "607172  <p>I'm trying to make a program with Python th...  [tkinter]\n",
       "607176  <p>I want to make a code to search for file na...  [tkinter]\n",
       "607204  <p>I have a string <code>'829383&amp;&amp;*&am...   [string]\n",
       "607208  <p>I am rendering a template, that I am attemp...    [flask]\n",
       "607255  <p>So I'm trying to make a little battle scene...  [tkinter]\n",
       "\n",
       "[31764 rows x 2 columns]"
      ]
     },
     "execution_count": 16,
     "metadata": {},
     "output_type": "execute_result"
    }
   ],
   "source": [
    "# remove id, owneruserid,creationdate,scoure \n",
    "questions_and_tags_df = questions_and_tags_df.drop(columns=[\"Id\",\"OwnerUserId\",\"CreationDate\",\"Score\",\"Title\"])\n",
    "questions_and_tags_df"
   ]
  },
  {
   "cell_type": "code",
   "execution_count": 17,
   "metadata": {},
   "outputs": [
    {
     "data": {
      "text/html": [
       "<div>\n",
       "<style scoped>\n",
       "    .dataframe tbody tr th:only-of-type {\n",
       "        vertical-align: middle;\n",
       "    }\n",
       "\n",
       "    .dataframe tbody tr th {\n",
       "        vertical-align: top;\n",
       "    }\n",
       "\n",
       "    .dataframe thead th {\n",
       "        text-align: right;\n",
       "    }\n",
       "</style>\n",
       "<table border=\"1\" class=\"dataframe\">\n",
       "  <thead>\n",
       "    <tr style=\"text-align: right;\">\n",
       "      <th></th>\n",
       "      <th>Question</th>\n",
       "      <th>Class</th>\n",
       "    </tr>\n",
       "  </thead>\n",
       "  <tbody>\n",
       "    <tr>\n",
       "      <th>15</th>\n",
       "      <td>&lt;p&gt;Python works on multiple platforms and can ...</td>\n",
       "      <td>[tkinter]</td>\n",
       "    </tr>\n",
       "    <tr>\n",
       "      <th>34</th>\n",
       "      <td>&lt;p&gt;I wrote a piece of code to convert PHP's st...</td>\n",
       "      <td>[string]</td>\n",
       "    </tr>\n",
       "    <tr>\n",
       "      <th>69</th>\n",
       "      <td>&lt;p&gt;Python has this wonderful way of handling s...</td>\n",
       "      <td>[string]</td>\n",
       "    </tr>\n",
       "    <tr>\n",
       "      <th>101</th>\n",
       "      <td>&lt;p&gt;What is the best way of creating an alphabe...</td>\n",
       "      <td>[string]</td>\n",
       "    </tr>\n",
       "    <tr>\n",
       "      <th>149</th>\n",
       "      <td>&lt;p&gt;Iâve writen a little python script that j...</td>\n",
       "      <td>[tkinter]</td>\n",
       "    </tr>\n",
       "    <tr>\n",
       "      <th>...</th>\n",
       "      <td>...</td>\n",
       "      <td>...</td>\n",
       "    </tr>\n",
       "    <tr>\n",
       "      <th>607172</th>\n",
       "      <td>&lt;p&gt;I'm trying to make a program with Python th...</td>\n",
       "      <td>[tkinter]</td>\n",
       "    </tr>\n",
       "    <tr>\n",
       "      <th>607176</th>\n",
       "      <td>&lt;p&gt;I want to make a code to search for file na...</td>\n",
       "      <td>[tkinter]</td>\n",
       "    </tr>\n",
       "    <tr>\n",
       "      <th>607204</th>\n",
       "      <td>&lt;p&gt;I have a string &lt;code&gt;'829383&amp;amp;&amp;amp;*&amp;am...</td>\n",
       "      <td>[string]</td>\n",
       "    </tr>\n",
       "    <tr>\n",
       "      <th>607208</th>\n",
       "      <td>&lt;p&gt;I am rendering a template, that I am attemp...</td>\n",
       "      <td>[flask]</td>\n",
       "    </tr>\n",
       "    <tr>\n",
       "      <th>607255</th>\n",
       "      <td>&lt;p&gt;So I'm trying to make a little battle scene...</td>\n",
       "      <td>[tkinter]</td>\n",
       "    </tr>\n",
       "  </tbody>\n",
       "</table>\n",
       "<p>31764 rows × 2 columns</p>\n",
       "</div>"
      ],
      "text/plain": [
       "                                                 Question      Class\n",
       "15      <p>Python works on multiple platforms and can ...  [tkinter]\n",
       "34      <p>I wrote a piece of code to convert PHP's st...   [string]\n",
       "69      <p>Python has this wonderful way of handling s...   [string]\n",
       "101     <p>What is the best way of creating an alphabe...   [string]\n",
       "149     <p>Iâve writen a little python script that j...  [tkinter]\n",
       "...                                                   ...        ...\n",
       "607172  <p>I'm trying to make a program with Python th...  [tkinter]\n",
       "607176  <p>I want to make a code to search for file na...  [tkinter]\n",
       "607204  <p>I have a string <code>'829383&amp;&amp;*&am...   [string]\n",
       "607208  <p>I am rendering a template, that I am attemp...    [flask]\n",
       "607255  <p>So I'm trying to make a little battle scene...  [tkinter]\n",
       "\n",
       "[31764 rows x 2 columns]"
      ]
     },
     "execution_count": 17,
     "metadata": {},
     "output_type": "execute_result"
    }
   ],
   "source": [
    "questions_and_tags_df = questions_and_tags_df.rename(columns={\"Body\":\"Question\"})\n",
    "questions_and_tags_df = questions_and_tags_df.rename(columns={\"Tags\":\"Class\"})\n",
    "questions_and_tags_df"
   ]
  },
  {
   "cell_type": "code",
   "execution_count": 18,
   "metadata": {},
   "outputs": [
    {
     "data": {
      "text/html": [
       "<div>\n",
       "<style scoped>\n",
       "    .dataframe tbody tr th:only-of-type {\n",
       "        vertical-align: middle;\n",
       "    }\n",
       "\n",
       "    .dataframe tbody tr th {\n",
       "        vertical-align: top;\n",
       "    }\n",
       "\n",
       "    .dataframe thead th {\n",
       "        text-align: right;\n",
       "    }\n",
       "</style>\n",
       "<table border=\"1\" class=\"dataframe\">\n",
       "  <thead>\n",
       "    <tr style=\"text-align: right;\">\n",
       "      <th></th>\n",
       "      <th>Question</th>\n",
       "      <th>Class</th>\n",
       "    </tr>\n",
       "  </thead>\n",
       "  <tbody>\n",
       "    <tr>\n",
       "      <th>15</th>\n",
       "      <td>&lt;p&gt;Python works on multiple platforms and can ...</td>\n",
       "      <td>[tkinter]</td>\n",
       "    </tr>\n",
       "    <tr>\n",
       "      <th>34</th>\n",
       "      <td>&lt;p&gt;I wrote a piece of code to convert PHP's st...</td>\n",
       "      <td>[string]</td>\n",
       "    </tr>\n",
       "    <tr>\n",
       "      <th>69</th>\n",
       "      <td>&lt;p&gt;Python has this wonderful way of handling s...</td>\n",
       "      <td>[string]</td>\n",
       "    </tr>\n",
       "    <tr>\n",
       "      <th>101</th>\n",
       "      <td>&lt;p&gt;What is the best way of creating an alphabe...</td>\n",
       "      <td>[string]</td>\n",
       "    </tr>\n",
       "    <tr>\n",
       "      <th>149</th>\n",
       "      <td>&lt;p&gt;Iâve writen a little python script that j...</td>\n",
       "      <td>[tkinter]</td>\n",
       "    </tr>\n",
       "    <tr>\n",
       "      <th>...</th>\n",
       "      <td>...</td>\n",
       "      <td>...</td>\n",
       "    </tr>\n",
       "    <tr>\n",
       "      <th>473000</th>\n",
       "      <td>&lt;p&gt;I'm writing a custom Python class that simp...</td>\n",
       "      <td>[tkinter]</td>\n",
       "    </tr>\n",
       "    <tr>\n",
       "      <th>473008</th>\n",
       "      <td>&lt;p&gt;I was finishing up a simple little user log...</td>\n",
       "      <td>[flask]</td>\n",
       "    </tr>\n",
       "    <tr>\n",
       "      <th>473009</th>\n",
       "      <td>&lt;p&gt;I am creating a Flask Application that conn...</td>\n",
       "      <td>[flask]</td>\n",
       "    </tr>\n",
       "    <tr>\n",
       "      <th>473010</th>\n",
       "      <td>&lt;p&gt;Just as it sounds, I have a basic functiona...</td>\n",
       "      <td>[flask]</td>\n",
       "    </tr>\n",
       "    <tr>\n",
       "      <th>473021</th>\n",
       "      <td>&lt;p&gt;I'm changing up the way I send JSON request...</td>\n",
       "      <td>[flask]</td>\n",
       "    </tr>\n",
       "  </tbody>\n",
       "</table>\n",
       "<p>25000 rows × 2 columns</p>\n",
       "</div>"
      ],
      "text/plain": [
       "                                                 Question      Class\n",
       "15      <p>Python works on multiple platforms and can ...  [tkinter]\n",
       "34      <p>I wrote a piece of code to convert PHP's st...   [string]\n",
       "69      <p>Python has this wonderful way of handling s...   [string]\n",
       "101     <p>What is the best way of creating an alphabe...   [string]\n",
       "149     <p>Iâve writen a little python script that j...  [tkinter]\n",
       "...                                                   ...        ...\n",
       "473000  <p>I'm writing a custom Python class that simp...  [tkinter]\n",
       "473008  <p>I was finishing up a simple little user log...    [flask]\n",
       "473009  <p>I am creating a Flask Application that conn...    [flask]\n",
       "473010  <p>Just as it sounds, I have a basic functiona...    [flask]\n",
       "473021  <p>I'm changing up the way I send JSON request...    [flask]\n",
       "\n",
       "[25000 rows x 2 columns]"
      ]
     },
     "execution_count": 18,
     "metadata": {},
     "output_type": "execute_result"
    }
   ],
   "source": [
    "# select first 10000 rows\n",
    "questions_and_tags_df = questions_and_tags_df[:25000]\n",
    "questions_and_tags_df"
   ]
  },
  {
   "cell_type": "code",
   "execution_count": 19,
   "metadata": {},
   "outputs": [
    {
     "name": "stderr",
     "output_type": "stream",
     "text": [
      "C:\\Users\\jonin\\AppData\\Local\\Temp\\ipykernel_73712\\3172280837.py:21: SettingWithCopyWarning: \n",
      "A value is trying to be set on a copy of a slice from a DataFrame.\n",
      "Try using .loc[row_indexer,col_indexer] = value instead\n",
      "\n",
      "See the caveats in the documentation: https://pandas.pydata.org/pandas-docs/stable/user_guide/indexing.html#returning-a-view-versus-a-copy\n",
      "  questions_and_tags_df['processed_text'] = questions_and_tags_df['Question'].apply(preprocess_text)\n"
     ]
    }
   ],
   "source": [
    "\n",
    "import re\n",
    "from nltk.corpus import stopwords\n",
    "from nltk.stem import WordNetLemmatizer\n",
    "\n",
    "# Initialize lemmatizer and stopwords\n",
    "lemmatizer = WordNetLemmatizer()\n",
    "stop_words = set(stopwords.words(\"english\"))\n",
    "\n",
    "def preprocess_text(text):\n",
    "    # Remove leading <p> tags\n",
    "    text = re.sub(r'^<p>', '', text)\n",
    "    # Lowercase the text\n",
    "    text = text.lower()\n",
    "    # Remove punctuation\n",
    "    text = re.sub(r'[^\\w\\s]', '', text)\n",
    "    # Tokenize, remove stopwords, then lemmatize words\n",
    "    text = \" \".join(lemmatizer.lemmatize(word) for word in text.split() if word not in stop_words)\n",
    "    return text\n",
    "\n",
    "# Apply preprocessing to the 'text' column\n",
    "questions_and_tags_df['processed_text'] = questions_and_tags_df['Question'].apply(preprocess_text)"
   ]
  },
  {
   "cell_type": "code",
   "execution_count": 20,
   "metadata": {},
   "outputs": [
    {
     "data": {
      "text/html": [
       "<div>\n",
       "<style scoped>\n",
       "    .dataframe tbody tr th:only-of-type {\n",
       "        vertical-align: middle;\n",
       "    }\n",
       "\n",
       "    .dataframe tbody tr th {\n",
       "        vertical-align: top;\n",
       "    }\n",
       "\n",
       "    .dataframe thead th {\n",
       "        text-align: right;\n",
       "    }\n",
       "</style>\n",
       "<table border=\"1\" class=\"dataframe\">\n",
       "  <thead>\n",
       "    <tr style=\"text-align: right;\">\n",
       "      <th></th>\n",
       "      <th>Question</th>\n",
       "      <th>Class</th>\n",
       "      <th>processed_text</th>\n",
       "    </tr>\n",
       "  </thead>\n",
       "  <tbody>\n",
       "    <tr>\n",
       "      <th>15</th>\n",
       "      <td>&lt;p&gt;Python works on multiple platforms and can ...</td>\n",
       "      <td>[tkinter]</td>\n",
       "      <td>python work multiple platform used desktop web...</td>\n",
       "    </tr>\n",
       "    <tr>\n",
       "      <th>34</th>\n",
       "      <td>&lt;p&gt;I wrote a piece of code to convert PHP's st...</td>\n",
       "      <td>[string]</td>\n",
       "      <td>wrote piece code convert phps striplashes vali...</td>\n",
       "    </tr>\n",
       "    <tr>\n",
       "      <th>69</th>\n",
       "      <td>&lt;p&gt;Python has this wonderful way of handling s...</td>\n",
       "      <td>[string]</td>\n",
       "      <td>python wonderful way handling string substitut...</td>\n",
       "    </tr>\n",
       "    <tr>\n",
       "      <th>101</th>\n",
       "      <td>&lt;p&gt;What is the best way of creating an alphabe...</td>\n",
       "      <td>[string]</td>\n",
       "      <td>best way creating alphabetically sorted list p...</td>\n",
       "    </tr>\n",
       "    <tr>\n",
       "      <th>149</th>\n",
       "      <td>&lt;p&gt;Iâve writen a little python script that j...</td>\n",
       "      <td>[tkinter]</td>\n",
       "      <td>iâve writen little python script pop message b...</td>\n",
       "    </tr>\n",
       "    <tr>\n",
       "      <th>...</th>\n",
       "      <td>...</td>\n",
       "      <td>...</td>\n",
       "      <td>...</td>\n",
       "    </tr>\n",
       "    <tr>\n",
       "      <th>473000</th>\n",
       "      <td>&lt;p&gt;I'm writing a custom Python class that simp...</td>\n",
       "      <td>[tkinter]</td>\n",
       "      <td>im writing custom python class simplifies inte...</td>\n",
       "    </tr>\n",
       "    <tr>\n",
       "      <th>473008</th>\n",
       "      <td>&lt;p&gt;I was finishing up a simple little user log...</td>\n",
       "      <td>[flask]</td>\n",
       "      <td>finishing simple little user login emflaskem e...</td>\n",
       "    </tr>\n",
       "    <tr>\n",
       "      <th>473009</th>\n",
       "      <td>&lt;p&gt;I am creating a Flask Application that conn...</td>\n",
       "      <td>[flask]</td>\n",
       "      <td>creating flask application connects locallyhos...</td>\n",
       "    </tr>\n",
       "    <tr>\n",
       "      <th>473010</th>\n",
       "      <td>&lt;p&gt;Just as it sounds, I have a basic functiona...</td>\n",
       "      <td>[flask]</td>\n",
       "      <td>sound basic functional test suite two test im ...</td>\n",
       "    </tr>\n",
       "    <tr>\n",
       "      <th>473021</th>\n",
       "      <td>&lt;p&gt;I'm changing up the way I send JSON request...</td>\n",
       "      <td>[flask]</td>\n",
       "      <td>im changing way send json request flask server...</td>\n",
       "    </tr>\n",
       "  </tbody>\n",
       "</table>\n",
       "<p>25000 rows × 3 columns</p>\n",
       "</div>"
      ],
      "text/plain": [
       "                                                 Question      Class  \\\n",
       "15      <p>Python works on multiple platforms and can ...  [tkinter]   \n",
       "34      <p>I wrote a piece of code to convert PHP's st...   [string]   \n",
       "69      <p>Python has this wonderful way of handling s...   [string]   \n",
       "101     <p>What is the best way of creating an alphabe...   [string]   \n",
       "149     <p>Iâve writen a little python script that j...  [tkinter]   \n",
       "...                                                   ...        ...   \n",
       "473000  <p>I'm writing a custom Python class that simp...  [tkinter]   \n",
       "473008  <p>I was finishing up a simple little user log...    [flask]   \n",
       "473009  <p>I am creating a Flask Application that conn...    [flask]   \n",
       "473010  <p>Just as it sounds, I have a basic functiona...    [flask]   \n",
       "473021  <p>I'm changing up the way I send JSON request...    [flask]   \n",
       "\n",
       "                                           processed_text  \n",
       "15      python work multiple platform used desktop web...  \n",
       "34      wrote piece code convert phps striplashes vali...  \n",
       "69      python wonderful way handling string substitut...  \n",
       "101     best way creating alphabetically sorted list p...  \n",
       "149     iâve writen little python script pop message b...  \n",
       "...                                                   ...  \n",
       "473000  im writing custom python class simplifies inte...  \n",
       "473008  finishing simple little user login emflaskem e...  \n",
       "473009  creating flask application connects locallyhos...  \n",
       "473010  sound basic functional test suite two test im ...  \n",
       "473021  im changing way send json request flask server...  \n",
       "\n",
       "[25000 rows x 3 columns]"
      ]
     },
     "execution_count": 20,
     "metadata": {},
     "output_type": "execute_result"
    }
   ],
   "source": [
    "questions_and_tags_df"
   ]
  },
  {
   "cell_type": "code",
   "execution_count": 21,
   "metadata": {},
   "outputs": [
    {
     "name": "stderr",
     "output_type": "stream",
     "text": [
      "C:\\Users\\jonin\\AppData\\Local\\Temp\\ipykernel_73712\\394700114.py:20: SettingWithCopyWarning: \n",
      "A value is trying to be set on a copy of a slice from a DataFrame.\n",
      "Try using .loc[row_indexer,col_indexer] = value instead\n",
      "\n",
      "See the caveats in the documentation: https://pandas.pydata.org/pandas-docs/stable/user_guide/indexing.html#returning-a-view-versus-a-copy\n",
      "  questions_and_tags_df['encoded_text'] = tokenized_texts.apply(\n",
      "C:\\Users\\jonin\\AppData\\Local\\Temp\\ipykernel_73712\\394700114.py:25: SettingWithCopyWarning: \n",
      "A value is trying to be set on a copy of a slice from a DataFrame.\n",
      "Try using .loc[row_indexer,col_indexer] = value instead\n",
      "\n",
      "See the caveats in the documentation: https://pandas.pydata.org/pandas-docs/stable/user_guide/indexing.html#returning-a-view-versus-a-copy\n",
      "  questions_and_tags_df['padded_text'] = questions_and_tags_df['encoded_text'].apply(\n"
     ]
    }
   ],
   "source": [
    "from collections import Counter\n",
    "from itertools import chain\n",
    "from torch.nn.utils.rnn import pad_sequence\n",
    "import torch\n",
    "\n",
    "# Set threshold for minimum word frequency\n",
    "min_freq = 5  # or a suitable value based on your data\n",
    "max_length = 50  # Maximum sequence length\n",
    "\n",
    "# Step 1: Tokenize and Build Vocabulary with a Frequency Filter\n",
    "tokenized_texts = questions_and_tags_df['processed_text'].apply(lambda x: x.split())\n",
    "word_counts = Counter(chain(*tokenized_texts))\n",
    "\n",
    "# Build vocabulary with words meeting the min frequency requirement\n",
    "vocab = {word: idx + 2 for idx, (word, count) in enumerate(word_counts.items()) if count >= min_freq}  # Start at 2\n",
    "vocab['<PAD>'] = 0\n",
    "vocab['<UNK>'] = 1  # Unknown token for rare words\n",
    "\n",
    "# Step 2: Encode Texts with Unknown Token Handling\n",
    "questions_and_tags_df['encoded_text'] = tokenized_texts.apply(\n",
    "    lambda x: [vocab.get(word, vocab['<UNK>']) for word in x]  # Use <UNK> for words not in vocab\n",
    ")\n",
    "\n",
    "# Step 3: Pad or Truncate Sequences\n",
    "questions_and_tags_df['padded_text'] = questions_and_tags_df['encoded_text'].apply(\n",
    "    lambda x: x[:max_length] + [vocab['<PAD>']] * (max_length - len(x)) if len(x) < max_length else x[:max_length]\n",
    ")\n",
    "\n",
    "# Convert to tensor\n",
    "x = torch.tensor(questions_and_tags_df['padded_text'].tolist())\n"
   ]
  },
  {
   "cell_type": "code",
   "execution_count": 22,
   "metadata": {},
   "outputs": [
    {
     "name": "stdout",
     "output_type": "stream",
     "text": [
      "Found 66801 invalid indices, setting them to '<UNK>' token.\n"
     ]
    },
    {
     "data": {
      "text/plain": [
       "29120"
      ]
     },
     "execution_count": 22,
     "metadata": {},
     "output_type": "execute_result"
    }
   ],
   "source": [
    "# find max value in x\n",
    "max_value = x.max().item()\n",
    "max_value\n",
    "\n",
    "invalid_indices = x >= len(vocab)\n",
    "if invalid_indices.any():\n",
    "    print(f\"Found {invalid_indices.sum().item()} invalid indices, setting them to '<UNK>' token.\")\n",
    "    x[invalid_indices] = vocab['<UNK>']\n",
    "\n",
    "max_value = x.max().item()\n",
    "max_value\n"
   ]
  },
  {
   "cell_type": "code",
   "execution_count": 23,
   "metadata": {},
   "outputs": [
    {
     "data": {
      "text/plain": [
       "29128"
      ]
     },
     "execution_count": 23,
     "metadata": {},
     "output_type": "execute_result"
    }
   ],
   "source": [
    "len(vocab)"
   ]
  },
  {
   "cell_type": "code",
   "execution_count": 24,
   "metadata": {},
   "outputs": [],
   "source": [
    "\n",
    "\n",
    "\n",
    "y = questions_and_tags_df['Class']"
   ]
  },
  {
   "cell_type": "code",
   "execution_count": 25,
   "metadata": {},
   "outputs": [
    {
     "data": {
      "text/plain": [
       "0.98476"
      ]
     },
     "execution_count": 25,
     "metadata": {},
     "output_type": "execute_result"
    }
   ],
   "source": [
    "\n",
    "y = y.apply(lambda x: x[0])\n",
    "y = y.apply(lambda x: top_100_tags.index(x))\n",
    "y = y.to_numpy()\n",
    "\n",
    "np.mean(y)"
   ]
  },
  {
   "cell_type": "code",
   "execution_count": 26,
   "metadata": {},
   "outputs": [
    {
     "name": "stderr",
     "output_type": "stream",
     "text": [
      "C:\\Users\\jonin\\AppData\\Local\\Temp\\ipykernel_73712\\1370979797.py:1: UserWarning: To copy construct from a tensor, it is recommended to use sourceTensor.clone().detach() or sourceTensor.clone().detach().requires_grad_(True), rather than torch.tensor(sourceTensor).\n",
      "  x = torch.tensor(x)\n"
     ]
    }
   ],
   "source": [
    "x = torch.tensor(x)\n",
    "y = torch.tensor(y)\n"
   ]
  },
  {
   "cell_type": "code",
   "execution_count": 27,
   "metadata": {},
   "outputs": [
    {
     "data": {
      "text/plain": [
       "(torch.Size([25000, 50]), torch.Size([25000]))"
      ]
     },
     "execution_count": 27,
     "metadata": {},
     "output_type": "execute_result"
    }
   ],
   "source": [
    "x.shape, y.shape"
   ]
  },
  {
   "cell_type": "code",
   "execution_count": 28,
   "metadata": {},
   "outputs": [
    {
     "data": {
      "text/plain": [
       "(torch.Size([20000, 50]),\n",
       " torch.Size([5000, 50]),\n",
       " torch.Size([20000]),\n",
       " torch.Size([5000]))"
      ]
     },
     "execution_count": 28,
     "metadata": {},
     "output_type": "execute_result"
    }
   ],
   "source": [
    "# Split the data into training and testing sets\n",
    "from sklearn.model_selection import train_test_split\n",
    "\n",
    "x_train, x_test, y_train, y_test = train_test_split(x, y, test_size=0.2, random_state=RANDOM_SEED)\n",
    "\n",
    "x_train.shape, x_test.shape, y_train.shape, y_test.shape"
   ]
  },
  {
   "cell_type": "code",
   "execution_count": 29,
   "metadata": {},
   "outputs": [],
   "source": [
    "train_dataset = torch.utils.data.TensorDataset(x_train, y_train)\n",
    "test_dataset = torch.utils.data.TensorDataset(x_test, y_test)\n",
    "\n",
    "train_loader = torch.utils.data.DataLoader(train_dataset, batch_size=32, shuffle=True)\n",
    "test_loader = torch.utils.data.DataLoader(test_dataset, batch_size=32, shuffle=False)\n"
   ]
  },
  {
   "cell_type": "markdown",
   "metadata": {},
   "source": [
    "### 4.2.3 Head"
   ]
  },
  {
   "cell_type": "markdown",
   "metadata": {},
   "source": [
    "## 4.3 Data Visualization"
   ]
  },
  {
   "cell_type": "markdown",
   "metadata": {},
   "source": [
    "## 4.4 Data Cleaning\n",
    "<!--\n",
    "- Handle missing values, outliers, and inconsistencies.\n",
    "- Remove or impute missing data.\n",
    "-->"
   ]
  },
  {
   "cell_type": "markdown",
   "metadata": {},
   "source": [
    "### 4.4.1 NULL, NaN, Missing values"
   ]
  },
  {
   "cell_type": "markdown",
   "metadata": {},
   "source": [
    "## 4.5 Feature Engineering\n",
    "<!--\n",
    "- Create new features from existing data.\n",
    "- Normalize or standardize features.\n",
    "- Encode categorical variables.\n",
    "-->"
   ]
  },
  {
   "cell_type": "markdown",
   "metadata": {},
   "source": [
    "### 4.5.1 Normalize"
   ]
  },
  {
   "cell_type": "markdown",
   "metadata": {},
   "source": [
    "#### 4.5.1.1 Feature Selection / Data Separation"
   ]
  },
  {
   "cell_type": "markdown",
   "metadata": {},
   "source": [
    "<details>\n",
    "<br>\n",
    "<details>\n",
    "<summary>What does it?</summary>\n",
    "<br>\n",
    "This line removes the `` column from the DataFrame `df` and assigns the remaining columns to `X`.\n",
    "</details>\n",
    "<br>\n",
    "<details>\n",
    "<summary>Why do we do it?</summary>\n",
    "<br>\n",
    "We do this to separate the input features (which are stored in `X`) from the target variable (which will be stored in `y`). This separation is essential in supervised learning tasks where the goal is to predict the target variable based on the input features.\n",
    "</details>\n",
    "</details>"
   ]
  },
  {
   "cell_type": "markdown",
   "metadata": {},
   "source": [
    "#### 4.5.1.3 Feature Scaling / Standardization / Z-score Normalization"
   ]
  },
  {
   "cell_type": "markdown",
   "metadata": {},
   "source": [
    "<details>\n",
    "<br>\n",
    "<details>\n",
    "<summary>What does it?</summary>\n",
    "<br>\n",
    "This line standardizes the features in `X` by subtracting the mean of each feature and dividing by the standard deviation of that feature. This transforms the data so that each feature has a mean of 0 and a standard deviation of 1.\n",
    "</details>\n",
    "<br>\n",
    "<details>\n",
    "<summary>Why do we do it?</summary>\n",
    "<br>\n",
    "Standardization is crucial when using machine learning algorithms that rely on distance calculations (like K-Nearest Neighbors, SVM, or Neural Networks). Without standardization, features with larger scales could dominate the distance calculation, leading to biased model behavior. By standardizing, all features contribute equally to the model, regardless of their original scale.\n",
    "</details>\n",
    "</details>"
   ]
  },
  {
   "cell_type": "markdown",
   "metadata": {},
   "source": [
    "## 4.6 Data Splitting\n",
    "<!--\n",
    "- Split data into training, validation, and test sets.\n",
    "-->"
   ]
  },
  {
   "cell_type": "code",
   "execution_count": 30,
   "metadata": {},
   "outputs": [],
   "source": [
    "# Sklearn train_test_split\n",
    "# X_train, X_test, y_train, y_test = train_test_split(X, y, test_size=(1-SPLITRATIO), random_state=RANDOM_SEED)"
   ]
  },
  {
   "cell_type": "markdown",
   "metadata": {},
   "source": [
    "---"
   ]
  },
  {
   "cell_type": "markdown",
   "metadata": {},
   "source": [
    "# 5. Model Development"
   ]
  },
  {
   "cell_type": "markdown",
   "metadata": {},
   "source": [
    "## 5.1 Model Selection\n",
    "<!--\n",
    "- Choose the model(s) to be trained (e.g., linear regression, decision trees, neural networks).\n",
    "-->"
   ]
  },
  {
   "cell_type": "code",
   "execution_count": 31,
   "metadata": {},
   "outputs": [],
   "source": [
    "import torch\n",
    "import torch.nn as nn\n",
    "import torch.nn.functional as F\n",
    "\n",
    "class ClassificationModel(nn.Module):\n",
    "    def __init__(self, num_tags, vocab_size, embedding_dim=100):\n",
    "        super(ClassificationModel, self).__init__()\n",
    "        \n",
    "        # Embedding layer with randomly initialized embeddings\n",
    "        self.embedding = nn.Embedding(vocab_size, embedding_dim, padding_idx=0)  # Set padding_idx to 0 to ignore padding token\n",
    "        \n",
    "        # LSTM layer\n",
    "        self.lstm = nn.LSTM(input_size=embedding_dim, hidden_size=512, num_layers=1, batch_first=True, bidirectional=True)\n",
    "        \n",
    "        # Fully connected layers\n",
    "        self.fc1 = nn.Linear(512 * 2, 512)\n",
    "        self.fc2 = nn.Linear(512, num_tags)\n",
    "    \n",
    "    def forward(self, input):\n",
    "        # Pass input through embedding layer\n",
    "        x = self.embedding(input)  # Shape: [batch_size, sequence_length, embedding_dim]\n",
    "        \n",
    "        # LSTM layer\n",
    "        output, _ = self.lstm(x)  # output shape: [batch_size, sequence_length, hidden_size * 2]\n",
    "        \n",
    "        # Extract the output at the last time step\n",
    "        x = self.fc1(output[:, -1, :])  # Shape: [batch_size, 512]\n",
    "        \n",
    "        # Apply ReLU activation\n",
    "        x = F.relu(x)\n",
    "        \n",
    "        # Pass through the final layer to get class scores\n",
    "        x = self.fc2(x)\n",
    "        \n",
    "        # Apply sigmoid for multi-label classification; for single-label, use softmax\n",
    "        x = torch.sigmoid(x)\n",
    "        \n",
    "        return x\n"
   ]
  },
  {
   "cell_type": "markdown",
   "metadata": {},
   "source": [
    "## 5.2 Model Training\n",
    "<!--\n",
    "- Train the selected model(s) using the training data.\n",
    "-->"
   ]
  },
  {
   "cell_type": "code",
   "execution_count": 35,
   "metadata": {},
   "outputs": [
    {
     "data": {
      "text/plain": [
       "ClassificationModel(\n",
       "  (embedding): Embedding(29128, 100, padding_idx=0)\n",
       "  (lstm): LSTM(100, 512, batch_first=True, bidirectional=True)\n",
       "  (fc1): Linear(in_features=1024, out_features=512, bias=True)\n",
       "  (fc2): Linear(in_features=512, out_features=3, bias=True)\n",
       ")"
      ]
     },
     "execution_count": 35,
     "metadata": {},
     "output_type": "execute_result"
    }
   ],
   "source": [
    "# Define the loss function and optimizer\n",
    "import torch.optim as optim\n",
    "vocab_size = len(vocab)  # Size of the vocabulary\n",
    "embedding_dim = 100      # Dimension of the embedding vectors\n",
    "num_tags = len(top_100_tags)  # Number of tags\n",
    "\n",
    "model = ClassificationModel(num_tags, vocab_size, embedding_dim)\n",
    "\n",
    "\n",
    "\n",
    "\n",
    "criterion = nn.CrossEntropyLoss()\n",
    "optimizer = optim.Adam(model.parameters(), lr=0.001)\n",
    "\n",
    "model"
   ]
  },
  {
   "cell_type": "code",
   "execution_count": 36,
   "metadata": {},
   "outputs": [
    {
     "data": {
      "text/plain": [
       "29128"
      ]
     },
     "execution_count": 36,
     "metadata": {},
     "output_type": "execute_result"
    }
   ],
   "source": [
    "vocab_size"
   ]
  },
  {
   "cell_type": "code",
   "execution_count": 37,
   "metadata": {},
   "outputs": [
    {
     "name": "stdout",
     "output_type": "stream",
     "text": [
      "Epoch 1, Loss: 1.0636905636787415\n",
      "Epoch 2, Loss: 0.9163144303321838\n",
      "Epoch 3, Loss: 0.7771083378791809\n",
      "Epoch 4, Loss: 0.6473542965888978\n",
      "Epoch 5, Loss: 0.6069113124847412\n",
      "Epoch 6, Loss: 0.5985156487464904\n",
      "Epoch 7, Loss: 0.5895508230209351\n",
      "Epoch 8, Loss: 0.583424378490448\n",
      "Epoch 9, Loss: 0.5785200416564942\n",
      "Epoch 10, Loss: 0.5792918829917908\n",
      "Finished Training\n"
     ]
    }
   ],
   "source": [
    "# Train the model\n",
    "num_epochs = 10\n",
    "\n",
    "for epoch in range(num_epochs):\n",
    "    running_loss = 0.0\n",
    "    for i, data in enumerate(train_loader, 0):\n",
    "        inputs, labels = data\n",
    "        optimizer.zero_grad()\n",
    "        outputs = model(inputs)\n",
    "        loss = criterion(outputs, labels)\n",
    "        loss.backward()\n",
    "        optimizer.step()\n",
    "        running_loss += loss.item()\n",
    "    \n",
    "    print(f\"Epoch {epoch + 1}, Loss: {running_loss / len(train_loader)}\")\n",
    "           \n",
    "    \n",
    "print(\"Finished Training\")\n"
   ]
  },
  {
   "cell_type": "code",
   "execution_count": 38,
   "metadata": {},
   "outputs": [
    {
     "name": "stdout",
     "output_type": "stream",
     "text": [
      "              precision    recall  f1-score   support\n",
      "\n",
      "           0       0.97      0.94      0.96      1690\n",
      "           1       0.92      0.96      0.94      1786\n",
      "           2       0.96      0.94      0.95      1524\n",
      "\n",
      "    accuracy                           0.95      5000\n",
      "   macro avg       0.95      0.95      0.95      5000\n",
      "weighted avg       0.95      0.95      0.95      5000\n",
      "\n"
     ]
    }
   ],
   "source": [
    "# Evaluate the model\n",
    "from sklearn.metrics import accuracy_score, f1_score, precision_score, recall_score, classification_report\n",
    "\n",
    "model.eval()\n",
    "\n",
    "y_pred = []\n",
    "y_true = []\n",
    "\n",
    "with torch.no_grad():\n",
    "    for data in test_loader:\n",
    "        inputs, labels = data\n",
    "        outputs = model(inputs)\n",
    "        _, predicted = torch.max(outputs, 1)\n",
    "        y_pred.extend(predicted.tolist())\n",
    "        y_true.extend(labels.tolist())\n",
    "\n",
    "accuracy = accuracy_score(y_true, y_pred)\n",
    "precision = precision_score(y_true, y_pred, average='macro')\n",
    "recall = recall_score(y_true, y_pred, average='macro')\n",
    "f1 = f1_score(y_true, y_pred, average='macro')\n",
    "\n",
    "print(classification_report(y_true, y_pred))"
   ]
  },
  {
   "cell_type": "markdown",
   "metadata": {},
   "source": [
    "## 5.3 Model Evaluation\n",
    "<!--\n",
    "- Evaluate model performance on validation data.\n",
    "- Use appropriate metrics (e.g., accuracy, precision, recall, RMSE).\n",
    "-->"
   ]
  },
  {
   "cell_type": "markdown",
   "metadata": {},
   "source": [
    "## 5.4 Hyperparameter Tuning\n",
    "<!--\n",
    "- Fine-tune the model using techniques like Grid Search or Random Search.\n",
    "- Evaluate the impact of different hyperparameters.\n",
    "-->"
   ]
  },
  {
   "cell_type": "markdown",
   "metadata": {},
   "source": [
    "## 5.5 Model Testing\n",
    "<!--\n",
    "- Evaluate the final model on the test dataset.\n",
    "- Ensure that the model generalizes well to unseen data.\n",
    "-->"
   ]
  },
  {
   "cell_type": "markdown",
   "metadata": {},
   "source": [
    "## 5.6 Model Interpretation (Optional)\n",
    "<!--\n",
    "- Interpret the model results (e.g., feature importance, SHAP values).\n",
    "- Discuss the strengths and limitations of the model.\n",
    "-->"
   ]
  },
  {
   "cell_type": "markdown",
   "metadata": {},
   "source": [
    "---"
   ]
  },
  {
   "cell_type": "markdown",
   "metadata": {},
   "source": [
    "# 6. Predictions\n"
   ]
  },
  {
   "cell_type": "markdown",
   "metadata": {},
   "source": [
    "## 6.1 Make Predictions\n",
    "<!--\n",
    "- Use the trained model to make predictions on new/unseen data.\n",
    "-->"
   ]
  },
  {
   "cell_type": "markdown",
   "metadata": {},
   "source": [
    "## 6.2 Save Model and Results\n",
    "<!--\n",
    "- Save the trained model to disk for future use.\n",
    "- Export prediction results for further analysis.\n",
    "-->"
   ]
  },
  {
   "cell_type": "markdown",
   "metadata": {},
   "source": [
    "---"
   ]
  },
  {
   "cell_type": "markdown",
   "metadata": {},
   "source": [
    "# 7. Documentation and Reporting"
   ]
  },
  {
   "cell_type": "markdown",
   "metadata": {},
   "source": [
    "## 7.1 Summary of Findings\n",
    "<!--\n",
    "- Summarize the results and findings of the analysis.\n",
    "-->"
   ]
  },
  {
   "cell_type": "markdown",
   "metadata": {},
   "source": [
    "## 7.2 Next Steps\n",
    "<!--\n",
    "- Suggest further improvements, alternative models, or future work.\n",
    "-->"
   ]
  },
  {
   "cell_type": "markdown",
   "metadata": {},
   "source": [
    "## 7.3 References\n",
    "<!--\n",
    "- Cite any resources, papers, or documentation used.\n",
    "-->"
   ]
  }
 ],
 "metadata": {
  "kernelspec": {
   "display_name": "pytorch",
   "language": "python",
   "name": "python3"
  },
  "language_info": {
   "codemirror_mode": {
    "name": "ipython",
    "version": 3
   },
   "file_extension": ".py",
   "mimetype": "text/x-python",
   "name": "python",
   "nbconvert_exporter": "python",
   "pygments_lexer": "ipython3",
   "version": "3.10.13"
  }
 },
 "nbformat": 4,
 "nbformat_minor": 2
}
