{
 "cells": [
  {
   "cell_type": "markdown",
   "metadata": {},
   "source": [
    "<!-- Notebook title -->\n",
    "# Vanilla KNN"
   ]
  },
  {
   "cell_type": "markdown",
   "metadata": {},
   "source": [
    "# 1. Notebook Description"
   ]
  },
  {
   "cell_type": "markdown",
   "metadata": {},
   "source": [
    "### 1.1 Task Description\n",
    "<!-- \n",
    "- A brief description of the problem you're solving with machine learning.\n",
    "- Define the objective (e.g., classification, regression, clustering, etc.).\n",
    "-->"
   ]
  },
  {
   "cell_type": "markdown",
   "metadata": {},
   "source": [
    "#### Implement and Evaluate the K-Nearest Neighbors (KNN) Algorithm from Scratch\n",
    "\n",
    "In this task, you will implement the K-Nearest Neighbors (KNN) algorithm using only Python, without the use of any machine learning libraries like scikit-learn. You will then evaluate the performance of your implementation using various metrics.\n",
    "\n",
    "##### Download the Dataset\n",
    "\n",
    "Use the Pima Indian dataset, which can be found [here](https://www.kaggle.com/datasets/uciml/pima-indians-diabetes-database).\n",
    "\n",
    "##### Implement the KNN Classifier\n",
    "\n",
    "- Implement the K-Nearest Neighbors (KNN) algorithm from scratch. Your implementation should include:\n",
    "  - Calculation of distances between instances.\n",
    "  - Selecting K neighbors to identify the nearest neighbors.\n",
    "  - Voting mechanism to predict the class of a data point based on its neighbors.\n",
    "\n",
    "##### Predict the Classes\n",
    "\n",
    "- Use your KNN implementation to predict the two classes in the Pima Indian dataset (diabetic or non-diabetic).\n",
    "\n",
    "##### Hyperparameter Tuning\n",
    "\n",
    "- Experiment with different values of the hyperparameter `K` (number of neighbors) to find the best fit for the model.\n",
    "- Discuss how the choice of `K` affects the model’s performance.\n",
    "\n",
    "##### Evaluate the Algorithm\n",
    "\n",
    "- Evaluate the performance of your KNN implementation using the following metrics:\n",
    "  - **Accuracy**: The ratio of correctly predicted instances to the total instances.\n",
    "  - **F1 Score**: The harmonic mean of precision and recall.\n",
    "  - **Precision**: The ratio of correctly predicted positive observations to all predicted positive observations.\n",
    "  - **Recall**: The ratio of correctly predicted positive observations to all observations in that actual class.\n",
    "  - **Mean Squared Error (MSE)**: The average of the squares of the errors between the predicted and actual values.\n",
    "  - **Confusion Matrix**: A table that describes the performance of the classification model by showing the true positives, true negatives, false positives, and false negatives.\n",
    "\n",
    "- Plot accuracy and loss graphs (plot an accuracy and loss graph).\n",
    "\n",
    "##### Additional Instructions\n",
    "\n",
    "- Choose the network architecture with care.\n",
    "- Train and validate all algorithms.\n",
    "- Make the necessary assumptions."
   ]
  },
  {
   "cell_type": "markdown",
   "metadata": {},
   "source": [
    "### 1.2 Useful Resources\n",
    "<!--\n",
    "- Links to relevant papers, articles, or documentation.\n",
    "- Description of the datasets (if external).\n",
    "-->"
   ]
  },
  {
   "cell_type": "markdown",
   "metadata": {},
   "source": [
    "### 1.2.1 Data"
   ]
  },
  {
   "cell_type": "markdown",
   "metadata": {},
   "source": [
    "#### 1.2.1.1 Common"
   ]
  },
  {
   "cell_type": "markdown",
   "metadata": {},
   "source": [
    "* [Datasets Kaggle](https://www.kaggle.com/datasets)  \n",
    "  &nbsp;&nbsp;&nbsp;&nbsp;A vast repository of datasets across various domains provided by Kaggle, a platform for data science competitions.\n",
    "  \n",
    "* [Toy datasets from Sklearn](https://scikit-learn.org/stable/datasets/toy_dataset.html)  \n",
    "  &nbsp;&nbsp;&nbsp;&nbsp;A collection of small datasets that come with the Scikit-learn library, useful for quick prototyping and testing algorithms.\n",
    "  \n",
    "* [UCI Machine Learning Repository](https://archive.ics.uci.edu/ml/index.php)  \n",
    "  &nbsp;&nbsp;&nbsp;&nbsp;A widely-used repository for machine learning datasets, with a variety of real-world datasets available for research and experimentation.\n",
    "  \n",
    "* [Google Dataset Search](https://datasetsearch.research.google.com/)  \n",
    "  &nbsp;&nbsp;&nbsp;&nbsp;A tool from Google that helps to find datasets stored across the web, with a focus on publicly available data.\n",
    "  \n",
    "* [AWS Public Datasets](https://registry.opendata.aws/)  \n",
    "  &nbsp;&nbsp;&nbsp;&nbsp;A registry of publicly available datasets that can be analyzed on the cloud using Amazon Web Services (AWS).\n",
    "  \n",
    "* [Microsoft Azure Open Datasets](https://azure.microsoft.com/en-us/services/open-datasets/)  \n",
    "  &nbsp;&nbsp;&nbsp;&nbsp;A collection of curated datasets from various domains, made available by Microsoft Azure for use in machine learning and analytics.\n",
    "  \n",
    "* [Awesome Public Datasets](https://github.com/awesomedata/awesome-public-datasets)  \n",
    "  &nbsp;&nbsp;&nbsp;&nbsp;A GitHub repository that lists a wide variety of datasets across different domains, curated by the community.\n",
    "  \n",
    "* [Data.gov](https://www.data.gov/)  \n",
    "  &nbsp;&nbsp;&nbsp;&nbsp;A portal to the US government's open data, offering access to a wide range of datasets from various federal agencies.\n",
    "  \n",
    "* [Google BigQuery Public Datasets](https://cloud.google.com/bigquery/public-data)  \n",
    "  &nbsp;&nbsp;&nbsp;&nbsp;Public datasets hosted by Google BigQuery, allowing for quick and powerful querying of large datasets in the cloud.\n",
    "  \n",
    "* [Papers with Code](https://paperswithcode.com/datasets)  \n",
    "  &nbsp;&nbsp;&nbsp;&nbsp;A platform that links research papers with the corresponding code and datasets, helping researchers reproduce results and explore new data.\n",
    "  \n",
    "* [Zenodo](https://zenodo.org/)  \n",
    "  &nbsp;&nbsp;&nbsp;&nbsp;An open-access repository that allows researchers to share datasets, software, and other research outputs, often linked to academic publications.\n",
    "  \n",
    "* [The World Bank Open Data](https://data.worldbank.org/)  \n",
    "  &nbsp;&nbsp;&nbsp;&nbsp;A comprehensive source of global development data, with datasets covering various economic and social indicators.\n",
    "  \n",
    "* [OpenML](https://www.openml.org/)  \n",
    "  &nbsp;&nbsp;&nbsp;&nbsp;An online platform for sharing datasets, machine learning experiments, and results, fostering collaboration in the ML community.\n",
    "  \n",
    "* [Stanford Large Network Dataset Collection (SNAP)](https://snap.stanford.edu/data/)  \n",
    "  &nbsp;&nbsp;&nbsp;&nbsp;A collection of large-scale network datasets from Stanford University, useful for network analysis and graph-based machine learning.\n",
    "  \n",
    "* [KDnuggets Datasets](https://www.kdnuggets.com/datasets/index.html)  \n",
    "  &nbsp;&nbsp;&nbsp;&nbsp;A curated list of datasets for data mining and data science, compiled by the KDnuggets community.\n"
   ]
  },
  {
   "cell_type": "markdown",
   "metadata": {},
   "source": [
    "#### 1.2.1.2 Project"
   ]
  },
  {
   "cell_type": "markdown",
   "metadata": {},
   "source": []
  },
  {
   "cell_type": "markdown",
   "metadata": {},
   "source": [
    "### 1.2.2 Learning"
   ]
  },
  {
   "cell_type": "markdown",
   "metadata": {},
   "source": [
    "* [K-Nearest Neighbors on Kaggle](https://www.kaggle.com/code/mmdatainfo/k-nearest-neighbors)\n",
    "\n",
    "* [Complete Guide to K-Nearest-Neighbors](https://kevinzakka.github.io/2016/07/13/k-nearest-neighbor)"
   ]
  },
  {
   "cell_type": "markdown",
   "metadata": {},
   "source": [
    "### 1.2.3 Documentation"
   ]
  },
  {
   "cell_type": "markdown",
   "metadata": {},
   "source": [
    "---"
   ]
  },
  {
   "cell_type": "markdown",
   "metadata": {},
   "source": [
    "# 2. Setup"
   ]
  },
  {
   "cell_type": "markdown",
   "metadata": {},
   "source": [
    "## 2.1 Imports\n",
    "<!--\n",
    "- Import necessary libraries (e.g., `numpy`, `pandas`, `matplotlib`, `scikit-learn`, etc.).\n",
    "-->"
   ]
  },
  {
   "cell_type": "code",
   "execution_count": 1,
   "metadata": {},
   "outputs": [
    {
     "name": "stdout",
     "output_type": "stream",
     "text": [
      "['C:\\\\Users\\\\jonin\\\\Documents\\\\ikt450', 'c:\\\\Users\\\\jonin\\\\.conda\\\\envs\\\\pytorch_24\\\\python312.zip', 'c:\\\\Users\\\\jonin\\\\.conda\\\\envs\\\\pytorch_24\\\\DLLs', 'c:\\\\Users\\\\jonin\\\\.conda\\\\envs\\\\pytorch_24\\\\Lib', 'c:\\\\Users\\\\jonin\\\\.conda\\\\envs\\\\pytorch_24', '', 'c:\\\\Users\\\\jonin\\\\.conda\\\\envs\\\\pytorch_24\\\\Lib\\\\site-packages', 'c:\\\\Users\\\\jonin\\\\.conda\\\\envs\\\\pytorch_24\\\\Lib\\\\site-packages\\\\win32', 'c:\\\\Users\\\\jonin\\\\.conda\\\\envs\\\\pytorch_24\\\\Lib\\\\site-packages\\\\win32\\\\lib', 'c:\\\\Users\\\\jonin\\\\.conda\\\\envs\\\\pytorch_24\\\\Lib\\\\site-packages\\\\Pythonwin', 'c:\\\\Users\\\\jonin\\\\.conda\\\\envs\\\\pytorch_24\\\\Lib\\\\site-packages\\\\setuptools\\\\_vendor']\n"
     ]
    }
   ],
   "source": [
    "# print python path\n",
    "\n",
    "import sys\n",
    "print(sys.path)"
   ]
  },
  {
   "cell_type": "code",
   "execution_count": 2,
   "metadata": {},
   "outputs": [],
   "source": [
    "\n",
    "\n",
    "from ikt450.src.common_imports import *\n",
    "from ikt450.src.config import get_paths\n",
    "from ikt450.src.common_func import load_dataset, save_dataframe, ensure_dir_exists"
   ]
  },
  {
   "cell_type": "markdown",
   "metadata": {},
   "source": [
    "## 2.2 Global Variables\n",
    "<!--\n",
    "- Define global constants, paths, and configuration settings used throughout the notebook.\n",
    "-->"
   ]
  },
  {
   "cell_type": "markdown",
   "metadata": {},
   "source": [
    "### 2.2.1 Paths"
   ]
  },
  {
   "cell_type": "code",
   "execution_count": 3,
   "metadata": {},
   "outputs": [],
   "source": [
    "paths = get_paths()"
   ]
  },
  {
   "cell_type": "markdown",
   "metadata": {},
   "source": [
    "### 2.2.2 Seed"
   ]
  },
  {
   "cell_type": "code",
   "execution_count": 4,
   "metadata": {},
   "outputs": [],
   "source": [
    "RANDOM_SEED = 7"
   ]
  },
  {
   "cell_type": "markdown",
   "metadata": {},
   "source": [
    "### 2.2.3 Split ratio"
   ]
  },
  {
   "cell_type": "code",
   "execution_count": 5,
   "metadata": {},
   "outputs": [],
   "source": [
    "SPLITRATIO = 0.8"
   ]
  },
  {
   "cell_type": "markdown",
   "metadata": {},
   "source": [
    "### 2.2.4 Results"
   ]
  },
  {
   "cell_type": "code",
   "execution_count": 6,
   "metadata": {},
   "outputs": [],
   "source": [
    "results = []"
   ]
  },
  {
   "cell_type": "markdown",
   "metadata": {},
   "source": [
    "## 2.3 Function Definitions\n",
    "<!--\n",
    "- Define helper functions that will be used multiple times in the notebook.\n",
    "- Consider organizing these into separate sections (e.g., data processing functions, model evaluation functions).\n",
    "-->"
   ]
  },
  {
   "cell_type": "markdown",
   "metadata": {},
   "source": [
    "### 2.3.1 Distance Calculation"
   ]
  },
  {
   "cell_type": "markdown",
   "metadata": {},
   "source": [
    "#### 2.3.1.1 Euclidian Distance"
   ]
  },
  {
   "cell_type": "code",
   "execution_count": 7,
   "metadata": {},
   "outputs": [],
   "source": [
    "def euclidean_distance(x1, x2):\n",
    "    return np.sqrt(np.sum((x1 - x2) ** 2))"
   ]
  },
  {
   "cell_type": "code",
   "execution_count": 8,
   "metadata": {},
   "outputs": [],
   "source": [
    "def distance(one,two):\n",
    "    return np.linalg.norm(one-two)"
   ]
  },
  {
   "cell_type": "markdown",
   "metadata": {},
   "source": [
    "### 2.3.2 K-Nearest Neighbors"
   ]
  },
  {
   "cell_type": "code",
   "execution_count": 9,
   "metadata": {},
   "outputs": [],
   "source": [
    "def knn(X_train, y_train, X_test, k):\n",
    "    y_pred = []\n",
    "    for x_test in X_test:\n",
    "        # Calculate distances between x_test and all training samples\n",
    "        distances = [euclidean_distance(x_test, x_train) for x_train in X_train]\n",
    "        # Get the indices of k-nearest neighbors\n",
    "        k_indices = np.argsort(distances)[:k]\n",
    "        # Get the labels of the k-nearest neighbors\n",
    "        k_nearest_labels = [y_train[i] for i in k_indices]\n",
    "        # Determine the most common class label\n",
    "        most_common = Counter(k_nearest_labels).most_common(1)\n",
    "        y_pred.append(most_common[0][0])\n",
    "    return np.array(y_pred)"
   ]
  },
  {
   "cell_type": "markdown",
   "metadata": {},
   "source": [
    "---"
   ]
  },
  {
   "cell_type": "markdown",
   "metadata": {},
   "source": [
    "# 3. System Setup \n",
    "<!-- (Optional but recommended) -->"
   ]
  },
  {
   "cell_type": "markdown",
   "metadata": {},
   "source": [
    "## 3.1 Styling\n",
    "<!--\n",
    "- Set up any visual styles (e.g., for plots).\n",
    "- Configure notebook display settings (e.g., `matplotlib` defaults, pandas display options).\n",
    "-->"
   ]
  },
  {
   "cell_type": "markdown",
   "metadata": {},
   "source": [
    "## 3.2 Environment Configuration\n",
    "<!--\n",
    "- Check system dependencies, versions, and ensure reproducibility (e.g., set random seeds).\n",
    "-->"
   ]
  },
  {
   "cell_type": "markdown",
   "metadata": {},
   "source": [
    "### 3.2.1 Seed"
   ]
  },
  {
   "cell_type": "code",
   "execution_count": 10,
   "metadata": {},
   "outputs": [],
   "source": [
    "np.random.seed(RANDOM_SEED)"
   ]
  },
  {
   "cell_type": "markdown",
   "metadata": {},
   "source": [
    "---"
   ]
  },
  {
   "cell_type": "markdown",
   "metadata": {},
   "source": [
    "# 4. Data Processing"
   ]
  },
  {
   "cell_type": "markdown",
   "metadata": {},
   "source": [
    "## 4.1 Data loading\n",
    "<!--\n",
    "- Load datasets from files or other sources.\n",
    "-->"
   ]
  },
  {
   "cell_type": "code",
   "execution_count": 11,
   "metadata": {},
   "outputs": [
    {
     "name": "stdout",
     "output_type": "stream",
     "text": [
      " Volume in drive C is Windows\n",
      " Volume Serial Number is FA0F-7C2E\n",
      "\n",
      " Directory of C:\\Users\\jonin\\Documents\\ikt450\\ikt450\\common\\datasets\n",
      "\n",
      "28.08.2024  02:09    <DIR>          .\n",
      "28.08.2024  02:09    <DIR>          ..\n",
      "23.08.2024  18:45            23�278 pima-indians-diabetes.data.csv\n",
      "               1 File(s)         23�278 bytes\n",
      "               2 Dir(s)  269�632�303�104 bytes free\n"
     ]
    }
   ],
   "source": [
    "%ls {paths['PATH_COMMON_DATASETS']}"
   ]
  },
  {
   "cell_type": "code",
   "execution_count": 12,
   "metadata": {},
   "outputs": [],
   "source": [
    "df = pd.read_csv(f\"{paths['PATH_COMMON_DATASETS']}/pima-indians-diabetes.data.csv\", delimiter=\",\")"
   ]
  },
  {
   "cell_type": "markdown",
   "metadata": {},
   "source": [
    "## 4.2 Data inspection\n",
    "<!--\n",
    "- Preview the data (e.g., `head`, `describe`).\n",
    "-->"
   ]
  },
  {
   "cell_type": "markdown",
   "metadata": {},
   "source": [
    "### 4.2.1 Info"
   ]
  },
  {
   "cell_type": "code",
   "execution_count": 13,
   "metadata": {},
   "outputs": [
    {
     "name": "stdout",
     "output_type": "stream",
     "text": [
      "<class 'pandas.core.frame.DataFrame'>\n",
      "RangeIndex: 767 entries, 0 to 766\n",
      "Data columns (total 9 columns):\n",
      " #   Column  Non-Null Count  Dtype  \n",
      "---  ------  --------------  -----  \n",
      " 0   6       767 non-null    int64  \n",
      " 1   148     767 non-null    int64  \n",
      " 2   72      767 non-null    int64  \n",
      " 3   35      767 non-null    int64  \n",
      " 4   0       767 non-null    int64  \n",
      " 5   33.6    767 non-null    float64\n",
      " 6   0.627   767 non-null    float64\n",
      " 7   50      767 non-null    int64  \n",
      " 8   1       767 non-null    int64  \n",
      "dtypes: float64(2), int64(7)\n",
      "memory usage: 54.1 KB\n"
     ]
    }
   ],
   "source": [
    "df.info()"
   ]
  },
  {
   "cell_type": "markdown",
   "metadata": {},
   "source": [
    "### 4.2.2 Describe"
   ]
  },
  {
   "cell_type": "code",
   "execution_count": 14,
   "metadata": {},
   "outputs": [
    {
     "data": {
      "text/html": [
       "<div>\n",
       "<style scoped>\n",
       "    .dataframe tbody tr th:only-of-type {\n",
       "        vertical-align: middle;\n",
       "    }\n",
       "\n",
       "    .dataframe tbody tr th {\n",
       "        vertical-align: top;\n",
       "    }\n",
       "\n",
       "    .dataframe thead th {\n",
       "        text-align: right;\n",
       "    }\n",
       "</style>\n",
       "<table border=\"1\" class=\"dataframe\">\n",
       "  <thead>\n",
       "    <tr style=\"text-align: right;\">\n",
       "      <th></th>\n",
       "      <th>6</th>\n",
       "      <th>148</th>\n",
       "      <th>72</th>\n",
       "      <th>35</th>\n",
       "      <th>0</th>\n",
       "      <th>33.6</th>\n",
       "      <th>0.627</th>\n",
       "      <th>50</th>\n",
       "      <th>1</th>\n",
       "    </tr>\n",
       "  </thead>\n",
       "  <tbody>\n",
       "    <tr>\n",
       "      <th>count</th>\n",
       "      <td>767.000000</td>\n",
       "      <td>767.000000</td>\n",
       "      <td>767.000000</td>\n",
       "      <td>767.000000</td>\n",
       "      <td>767.000000</td>\n",
       "      <td>767.000000</td>\n",
       "      <td>767.000000</td>\n",
       "      <td>767.000000</td>\n",
       "      <td>767.000000</td>\n",
       "    </tr>\n",
       "    <tr>\n",
       "      <th>mean</th>\n",
       "      <td>3.842243</td>\n",
       "      <td>120.859192</td>\n",
       "      <td>69.101695</td>\n",
       "      <td>20.517601</td>\n",
       "      <td>79.903520</td>\n",
       "      <td>31.990482</td>\n",
       "      <td>0.471674</td>\n",
       "      <td>33.219035</td>\n",
       "      <td>0.348110</td>\n",
       "    </tr>\n",
       "    <tr>\n",
       "      <th>std</th>\n",
       "      <td>3.370877</td>\n",
       "      <td>31.978468</td>\n",
       "      <td>19.368155</td>\n",
       "      <td>15.954059</td>\n",
       "      <td>115.283105</td>\n",
       "      <td>7.889091</td>\n",
       "      <td>0.331497</td>\n",
       "      <td>11.752296</td>\n",
       "      <td>0.476682</td>\n",
       "    </tr>\n",
       "    <tr>\n",
       "      <th>min</th>\n",
       "      <td>0.000000</td>\n",
       "      <td>0.000000</td>\n",
       "      <td>0.000000</td>\n",
       "      <td>0.000000</td>\n",
       "      <td>0.000000</td>\n",
       "      <td>0.000000</td>\n",
       "      <td>0.078000</td>\n",
       "      <td>21.000000</td>\n",
       "      <td>0.000000</td>\n",
       "    </tr>\n",
       "    <tr>\n",
       "      <th>25%</th>\n",
       "      <td>1.000000</td>\n",
       "      <td>99.000000</td>\n",
       "      <td>62.000000</td>\n",
       "      <td>0.000000</td>\n",
       "      <td>0.000000</td>\n",
       "      <td>27.300000</td>\n",
       "      <td>0.243500</td>\n",
       "      <td>24.000000</td>\n",
       "      <td>0.000000</td>\n",
       "    </tr>\n",
       "    <tr>\n",
       "      <th>50%</th>\n",
       "      <td>3.000000</td>\n",
       "      <td>117.000000</td>\n",
       "      <td>72.000000</td>\n",
       "      <td>23.000000</td>\n",
       "      <td>32.000000</td>\n",
       "      <td>32.000000</td>\n",
       "      <td>0.371000</td>\n",
       "      <td>29.000000</td>\n",
       "      <td>0.000000</td>\n",
       "    </tr>\n",
       "    <tr>\n",
       "      <th>75%</th>\n",
       "      <td>6.000000</td>\n",
       "      <td>140.000000</td>\n",
       "      <td>80.000000</td>\n",
       "      <td>32.000000</td>\n",
       "      <td>127.500000</td>\n",
       "      <td>36.600000</td>\n",
       "      <td>0.625000</td>\n",
       "      <td>41.000000</td>\n",
       "      <td>1.000000</td>\n",
       "    </tr>\n",
       "    <tr>\n",
       "      <th>max</th>\n",
       "      <td>17.000000</td>\n",
       "      <td>199.000000</td>\n",
       "      <td>122.000000</td>\n",
       "      <td>99.000000</td>\n",
       "      <td>846.000000</td>\n",
       "      <td>67.100000</td>\n",
       "      <td>2.420000</td>\n",
       "      <td>81.000000</td>\n",
       "      <td>1.000000</td>\n",
       "    </tr>\n",
       "  </tbody>\n",
       "</table>\n",
       "</div>"
      ],
      "text/plain": [
       "                6         148          72          35           0        33.6  \\\n",
       "count  767.000000  767.000000  767.000000  767.000000  767.000000  767.000000   \n",
       "mean     3.842243  120.859192   69.101695   20.517601   79.903520   31.990482   \n",
       "std      3.370877   31.978468   19.368155   15.954059  115.283105    7.889091   \n",
       "min      0.000000    0.000000    0.000000    0.000000    0.000000    0.000000   \n",
       "25%      1.000000   99.000000   62.000000    0.000000    0.000000   27.300000   \n",
       "50%      3.000000  117.000000   72.000000   23.000000   32.000000   32.000000   \n",
       "75%      6.000000  140.000000   80.000000   32.000000  127.500000   36.600000   \n",
       "max     17.000000  199.000000  122.000000   99.000000  846.000000   67.100000   \n",
       "\n",
       "            0.627          50           1  \n",
       "count  767.000000  767.000000  767.000000  \n",
       "mean     0.471674   33.219035    0.348110  \n",
       "std      0.331497   11.752296    0.476682  \n",
       "min      0.078000   21.000000    0.000000  \n",
       "25%      0.243500   24.000000    0.000000  \n",
       "50%      0.371000   29.000000    0.000000  \n",
       "75%      0.625000   41.000000    1.000000  \n",
       "max      2.420000   81.000000    1.000000  "
      ]
     },
     "execution_count": 14,
     "metadata": {},
     "output_type": "execute_result"
    }
   ],
   "source": [
    "df.describe()"
   ]
  },
  {
   "cell_type": "markdown",
   "metadata": {},
   "source": [
    "### 4.2.3 Head"
   ]
  },
  {
   "cell_type": "code",
   "execution_count": 15,
   "metadata": {},
   "outputs": [
    {
     "data": {
      "text/html": [
       "<div>\n",
       "<style scoped>\n",
       "    .dataframe tbody tr th:only-of-type {\n",
       "        vertical-align: middle;\n",
       "    }\n",
       "\n",
       "    .dataframe tbody tr th {\n",
       "        vertical-align: top;\n",
       "    }\n",
       "\n",
       "    .dataframe thead th {\n",
       "        text-align: right;\n",
       "    }\n",
       "</style>\n",
       "<table border=\"1\" class=\"dataframe\">\n",
       "  <thead>\n",
       "    <tr style=\"text-align: right;\">\n",
       "      <th></th>\n",
       "      <th>6</th>\n",
       "      <th>148</th>\n",
       "      <th>72</th>\n",
       "      <th>35</th>\n",
       "      <th>0</th>\n",
       "      <th>33.6</th>\n",
       "      <th>0.627</th>\n",
       "      <th>50</th>\n",
       "      <th>1</th>\n",
       "    </tr>\n",
       "  </thead>\n",
       "  <tbody>\n",
       "    <tr>\n",
       "      <th>0</th>\n",
       "      <td>1</td>\n",
       "      <td>85</td>\n",
       "      <td>66</td>\n",
       "      <td>29</td>\n",
       "      <td>0</td>\n",
       "      <td>26.6</td>\n",
       "      <td>0.351</td>\n",
       "      <td>31</td>\n",
       "      <td>0</td>\n",
       "    </tr>\n",
       "    <tr>\n",
       "      <th>1</th>\n",
       "      <td>8</td>\n",
       "      <td>183</td>\n",
       "      <td>64</td>\n",
       "      <td>0</td>\n",
       "      <td>0</td>\n",
       "      <td>23.3</td>\n",
       "      <td>0.672</td>\n",
       "      <td>32</td>\n",
       "      <td>1</td>\n",
       "    </tr>\n",
       "    <tr>\n",
       "      <th>2</th>\n",
       "      <td>1</td>\n",
       "      <td>89</td>\n",
       "      <td>66</td>\n",
       "      <td>23</td>\n",
       "      <td>94</td>\n",
       "      <td>28.1</td>\n",
       "      <td>0.167</td>\n",
       "      <td>21</td>\n",
       "      <td>0</td>\n",
       "    </tr>\n",
       "    <tr>\n",
       "      <th>3</th>\n",
       "      <td>0</td>\n",
       "      <td>137</td>\n",
       "      <td>40</td>\n",
       "      <td>35</td>\n",
       "      <td>168</td>\n",
       "      <td>43.1</td>\n",
       "      <td>2.288</td>\n",
       "      <td>33</td>\n",
       "      <td>1</td>\n",
       "    </tr>\n",
       "    <tr>\n",
       "      <th>4</th>\n",
       "      <td>5</td>\n",
       "      <td>116</td>\n",
       "      <td>74</td>\n",
       "      <td>0</td>\n",
       "      <td>0</td>\n",
       "      <td>25.6</td>\n",
       "      <td>0.201</td>\n",
       "      <td>30</td>\n",
       "      <td>0</td>\n",
       "    </tr>\n",
       "  </tbody>\n",
       "</table>\n",
       "</div>"
      ],
      "text/plain": [
       "   6  148  72  35    0  33.6  0.627  50  1\n",
       "0  1   85  66  29    0  26.6  0.351  31  0\n",
       "1  8  183  64   0    0  23.3  0.672  32  1\n",
       "2  1   89  66  23   94  28.1  0.167  21  0\n",
       "3  0  137  40  35  168  43.1  2.288  33  1\n",
       "4  5  116  74   0    0  25.6  0.201  30  0"
      ]
     },
     "execution_count": 15,
     "metadata": {},
     "output_type": "execute_result"
    }
   ],
   "source": [
    "df.head()"
   ]
  },
  {
   "cell_type": "markdown",
   "metadata": {},
   "source": [
    "## 4.3 Data Cleaning\n",
    "<!--\n",
    "- Handle missing values, outliers, and inconsistencies.\n",
    "- Remove or impute missing data.\n",
    "-->"
   ]
  },
  {
   "cell_type": "markdown",
   "metadata": {},
   "source": [
    "### 4.3.1 NULL, NaN, Missing values"
   ]
  },
  {
   "cell_type": "code",
   "execution_count": 16,
   "metadata": {},
   "outputs": [
    {
     "data": {
      "text/plain": [
       "6        0\n",
       "148      0\n",
       "72       0\n",
       "35       0\n",
       "0        0\n",
       "33.6     0\n",
       "0.627    0\n",
       "50       0\n",
       "1        0\n",
       "dtype: int64"
      ]
     },
     "execution_count": 16,
     "metadata": {},
     "output_type": "execute_result"
    }
   ],
   "source": [
    "df.isnull().sum()"
   ]
  },
  {
   "cell_type": "code",
   "execution_count": 17,
   "metadata": {},
   "outputs": [
    {
     "data": {
      "text/plain": [
       "6        0\n",
       "148      0\n",
       "72       0\n",
       "35       0\n",
       "0        0\n",
       "33.6     0\n",
       "0.627    0\n",
       "50       0\n",
       "1        0\n",
       "dtype: int64"
      ]
     },
     "execution_count": 17,
     "metadata": {},
     "output_type": "execute_result"
    }
   ],
   "source": [
    "df.isna().sum()"
   ]
  },
  {
   "cell_type": "code",
   "execution_count": 18,
   "metadata": {},
   "outputs": [
    {
     "data": {
      "text/plain": [
       "0"
      ]
     },
     "execution_count": 18,
     "metadata": {},
     "output_type": "execute_result"
    }
   ],
   "source": [
    "df.duplicated().sum()"
   ]
  },
  {
   "cell_type": "code",
   "execution_count": 19,
   "metadata": {},
   "outputs": [],
   "source": [
    "#df.corr()"
   ]
  },
  {
   "cell_type": "markdown",
   "metadata": {},
   "source": [
    "## 4.4 Feature Engineering\n",
    "<!--\n",
    "- Create new features from existing data.\n",
    "- Normalize or standardize features.\n",
    "- Encode categorical variables.\n",
    "-->"
   ]
  },
  {
   "cell_type": "markdown",
   "metadata": {},
   "source": [
    "## 4.6 Data Splitting\n",
    "<!--\n",
    "- Split data into training, validation, and test sets.\n",
    "-->"
   ]
  },
  {
   "cell_type": "code",
   "execution_count": 20,
   "metadata": {},
   "outputs": [],
   "source": [
    "dataset = df.to_numpy()"
   ]
  },
  {
   "cell_type": "code",
   "execution_count": 21,
   "metadata": {},
   "outputs": [],
   "source": [
    "np.random.shuffle(dataset)"
   ]
  },
  {
   "cell_type": "code",
   "execution_count": 22,
   "metadata": {},
   "outputs": [],
   "source": [
    "# Split the dataset into training and validation sets\n",
    "X_train = dataset[:int(len(dataset)*SPLITRATIO), 0:8]\n",
    "X_val = dataset[int(len(dataset)*SPLITRATIO):, 0:8]\n",
    "Y_train = dataset[:int(len(dataset)*SPLITRATIO), 8]\n",
    "Y_val = dataset[int(len(dataset)*SPLITRATIO):, 8]"
   ]
  },
  {
   "cell_type": "code",
   "execution_count": 24,
   "metadata": {},
   "outputs": [],
   "source": [
    "# Standardization step\n",
    "X_train = (X_train - X_train.mean(axis=0)) / X_train.std(axis=0)\n",
    "X_val = (X_val - X_train.mean(axis=0)) / X_train.std(axis=0)"
   ]
  },
  {
   "cell_type": "code",
   "execution_count": 25,
   "metadata": {},
   "outputs": [
    {
     "name": "stdout",
     "output_type": "stream",
     "text": [
      "[[-0.24631261 -0.95650096  0.44425747 ...  1.33331983  0.24548584\n",
      "  -1.04894158]\n",
      " [-1.13448691  1.84381151  1.06015606 ...  1.5050809   0.62560632\n",
      "  -0.87872287]\n",
      " [-0.54237071 -0.26428889  0.29028282 ...  0.47451447 -0.98466787\n",
      "  -1.04894158]\n",
      " ...\n",
      " [ 2.12215218  0.55377992  0.23895794 ...  0.52358907  0.23949969\n",
      "   1.41922977]\n",
      " [-0.83842881 -0.453074    0.3416077  ...  0.69535014 -0.83800721\n",
      "  -0.6233948 ]\n",
      " [ 1.82609408 -0.89357259 -0.37694066 ... -0.72781302 -0.92779945\n",
      "  -0.19784802]]\n",
      "[0. 1. 0. 1. 1. 0. 0. 1. 0. 0. 1. 0. 0. 1. 0. 0. 0. 0. 0. 0. 0. 0. 0. 1.\n",
      " 0. 1. 0. 1. 0. 0. 0. 0. 0. 0. 1. 1. 1. 0. 1. 0. 0. 1. 0. 0. 0. 0. 0. 1.\n",
      " 0. 1. 0. 1. 1. 0. 0. 0. 0. 0. 0. 0. 1. 1. 1. 0. 1. 1. 0. 1. 1. 0. 0. 0.\n",
      " 0. 1. 0. 0. 1. 0. 0. 1. 0. 1. 0. 0. 0. 0. 0. 0. 1. 0. 0. 0. 1. 0. 0. 0.\n",
      " 1. 0. 1. 0. 1. 1. 1. 0. 0. 1. 0. 0. 0. 1. 0. 0. 1. 1. 0. 0. 0. 0. 0. 0.\n",
      " 0. 1. 0. 0. 0. 0. 0. 0. 0. 0. 0. 0. 0. 1. 1. 0. 1. 1. 0. 0. 0. 0. 1. 1.\n",
      " 0. 0. 0. 0. 1. 1. 0. 1. 0. 0. 0. 0. 0. 1. 0. 0. 0. 0. 0. 1. 1. 0. 0. 0.\n",
      " 0. 1. 0. 1. 0. 0. 1. 0. 0. 0. 1. 0. 0. 1. 0. 0. 1. 0. 0. 0. 0. 1. 0. 1.\n",
      " 0. 1. 0. 0. 0. 0. 0. 1. 1. 1. 0. 0. 0. 0. 0. 0. 0. 0. 0. 1. 0. 1. 0. 0.\n",
      " 0. 0. 1. 1. 1. 0. 1. 0. 1. 0. 1. 0. 0. 1. 1. 0. 1. 1. 1. 1. 1. 0. 0. 0.\n",
      " 1. 0. 0. 0. 0. 1. 0. 1. 1. 0. 0. 0. 0. 1. 0. 1. 0. 0. 0. 0. 1. 0. 0. 0.\n",
      " 0. 1. 0. 0. 1. 0. 0. 0. 0. 0. 0. 0. 1. 1. 1. 0. 1. 0. 1. 1. 1. 0. 0. 0.\n",
      " 0. 0. 1. 0. 1. 0. 0. 0. 1. 0. 0. 0. 0. 0. 1. 0. 0. 1. 0. 0. 1. 0. 0. 1.\n",
      " 0. 0. 0. 0. 0. 0. 0. 0. 0. 0. 0. 1. 1. 0. 0. 0. 1. 0. 0. 0. 0. 0. 1. 0.\n",
      " 0. 0. 0. 0. 1. 1. 0. 1. 1. 1. 0. 1. 0. 1. 1. 1. 1. 0. 1. 1. 1. 0. 1. 0.\n",
      " 0. 0. 0. 1. 1. 0. 1. 0. 0. 1. 0. 1. 0. 0. 0. 0. 1. 0. 0. 0. 0. 1. 0. 1.\n",
      " 0. 0. 0. 1. 0. 1. 0. 1. 0. 0. 0. 0. 1. 1. 0. 0. 0. 0. 0. 0. 1. 1. 1. 1.\n",
      " 0. 1. 0. 0. 0. 0. 0. 0. 0. 0. 0. 0. 0. 0. 0. 1. 0. 0. 1. 0. 0. 0. 0. 0.\n",
      " 1. 0. 1. 0. 0. 0. 1. 0. 1. 1. 1. 1. 0. 1. 0. 1. 0. 1. 1. 0. 0. 1. 0. 0.\n",
      " 0. 0. 0. 0. 0. 1. 1. 0. 0. 0. 0. 0. 1. 0. 0. 1. 1. 0. 1. 0. 1. 1. 1. 0.\n",
      " 0. 0. 1. 0. 0. 1. 0. 0. 1. 1. 1. 1. 0. 1. 1. 0. 1. 1. 0. 1. 1. 0. 1. 1.\n",
      " 1. 0. 0. 0. 0. 0. 0. 1. 1. 1. 1. 0. 0. 1. 0. 0. 0. 0. 1. 0. 1. 0. 0. 1.\n",
      " 0. 0. 1. 0. 0. 0. 1. 0. 1. 0. 1. 0. 0. 0. 0. 1. 1. 0. 0. 1. 1. 0. 1. 1.\n",
      " 0. 0. 0. 1. 0. 0. 0. 0. 1. 0. 0. 1. 1. 0. 1. 0. 0. 0. 0. 0. 0. 1. 0. 0.\n",
      " 1. 1. 0. 0. 0. 0. 0. 0. 1. 0. 1. 0. 1. 0. 0. 0. 0. 1. 1. 0. 0. 1. 1. 1.\n",
      " 0. 1. 0. 1. 1. 0. 0. 0. 0. 1. 1. 0. 0.]\n"
     ]
    }
   ],
   "source": [
    "print(X_train)\n",
    "print(Y_train)"
   ]
  },
  {
   "cell_type": "markdown",
   "metadata": {},
   "source": [
    "---"
   ]
  },
  {
   "cell_type": "markdown",
   "metadata": {},
   "source": [
    "# 5. Model Development"
   ]
  },
  {
   "cell_type": "markdown",
   "metadata": {},
   "source": [
    "## 5.1 Model Selection\n",
    "<!--\n",
    "- Choose the model(s) to be trained (e.g., linear regression, decision trees, neural networks).\n",
    "-->"
   ]
  },
  {
   "cell_type": "code",
   "execution_count": 26,
   "metadata": {},
   "outputs": [],
   "source": [
    "from ikt450.common.classes.knn import KNN\n",
    "knn = KNN(k=3)"
   ]
  },
  {
   "cell_type": "markdown",
   "metadata": {},
   "source": [
    "## 5.2 Model Training\n",
    "<!--\n",
    "- Train the selected model(s) using the training data.\n",
    "-->"
   ]
  },
  {
   "cell_type": "code",
   "execution_count": 27,
   "metadata": {},
   "outputs": [],
   "source": [
    "knn.fit(X_train, Y_train)"
   ]
  },
  {
   "cell_type": "markdown",
   "metadata": {},
   "source": [
    "## 5.3 Model Evaluation\n",
    "<!--\n",
    "- Evaluate model performance on validation data.\n",
    "- Use appropriate metrics (e.g., accuracy, precision, recall, RMSE).\n",
    "-->"
   ]
  },
  {
   "cell_type": "code",
   "execution_count": 28,
   "metadata": {},
   "outputs": [],
   "source": [
    "tmp = knn.evaluate(X_val, Y_val)\n",
    "\n",
    "accuracy = tmp['accuracy']\n",
    "precision = tmp['precision']\n",
    "recall = tmp['recall']\n",
    "f1_score = tmp['f1']\n",
    "mse = tmp['mse']\n",
    "rmse = tmp['rmse']\n",
    "mae = tmp['mae']\n",
    "del tmp"
   ]
  },
  {
   "cell_type": "code",
   "execution_count": 29,
   "metadata": {},
   "outputs": [],
   "source": [
    "results.append({\n",
    "    'approach': 'Custom KNN',\n",
    "    'accuracy': accuracy,\n",
    "    'precision': precision,\n",
    "    'recall': recall,\n",
    "    'f1_score': f1_score,\n",
    "    'mse': mse,\n",
    "    'rmse': rmse,\n",
    "    'mae': mae\n",
    "})"
   ]
  },
  {
   "cell_type": "code",
   "execution_count": 30,
   "metadata": {},
   "outputs": [
    {
     "name": "stdout",
     "output_type": "stream",
     "text": [
      "Accuracy: 0.6233766233766234\n",
      "Precision: 0.33962264150943394\n",
      "Recall: 0.36\n",
      "F1 Score: 0.34951456310679613\n",
      "Mean Squared Error: 0.43506493506493504\n",
      "Root Mean Squared Error: 0.659594523222362\n",
      "Mean Absolute Error: 0.43506493506493504\n"
     ]
    }
   ],
   "source": [
    "from sklearn.model_selection import train_test_split\n",
    "from sklearn.neighbors import KNeighborsClassifier\n",
    "from sklearn.metrics import accuracy_score, precision_score, recall_score, f1_score, confusion_matrix\n",
    "\n",
    "\n",
    "# Load dataset using Pandas\n",
    "df = pd.read_csv(f\"{paths['PATH_COMMON_DATASETS']}/pima-indians-diabetes.data.csv\", delimiter=\",\")\n",
    "\n",
    "# Convert the DataFrame to a NumPy array\n",
    "dataset = df.to_numpy()\n",
    "\n",
    "# Shuffle the dataset\n",
    "np.random.shuffle(dataset)\n",
    "\n",
    "# Split the dataset into input (X) and output (Y) variables\n",
    "X = dataset[:, 0:8]\n",
    "y = dataset[:, 8]\n",
    "\n",
    "# Split the dataset into training and validation sets\n",
    "X_train, X_val, y_train, y_val = train_test_split(X, y, test_size=0.2, random_state=7)\n",
    "\n",
    "# standarization (if required)\n",
    "X_train = (X_train - X_train.mean(axis=0)) / X_train.std(axis=0)\n",
    "X_val = (X_val - X_train.mean(axis=0)) / X_train.std(axis=0)\n",
    "\n",
    "# Create an instance of the KNeighborsClassifier\n",
    "knn = KNeighborsClassifier(n_neighbors=3)\n",
    "\n",
    "# Fit the model with training data\n",
    "knn.fit(X_train, Y_train)\n",
    "\n",
    "# Predict the class labels for the validation set\n",
    "y_pred = knn.predict(X_val)\n",
    "\n",
    "# Evaluate the model\n",
    "accuracy = accuracy_score(Y_val, y_pred)\n",
    "precision = precision_score(y_val, y_pred)\n",
    "recall = recall_score(y_val, y_pred)\n",
    "f1 = f1_score(y_val, y_pred)\n",
    "\n",
    "print(\"Accuracy:\", accuracy)\n",
    "print(\"Precision:\", precision)\n",
    "print(\"Recall:\", recall)\n",
    "print(\"F1 Score:\", f1)\n",
    "\n",
    "# Error metrics\n",
    "mse = np.mean((y_val - y_pred) ** 2)\n",
    "rmse = np.sqrt(mse)\n",
    "mae = np.mean(np.abs(y_val - y_pred))\n",
    "print(\"Mean Squared Error:\", mse)\n",
    "print(\"Root Mean Squared Error:\", rmse)\n",
    "print(\"Mean Absolute Error:\", mae)"
   ]
  },
  {
   "cell_type": "code",
   "execution_count": 31,
   "metadata": {},
   "outputs": [],
   "source": [
    "results.append({\n",
    "    'approach': 'Sklearn KNN',\n",
    "    'accuracy': accuracy,\n",
    "    'precision': precision,\n",
    "    'recall': recall,\n",
    "    'f1_score': f1,\n",
    "    'mse': mse,\n",
    "    'rmse': rmse,\n",
    "    'mae': mae\n",
    "})"
   ]
  },
  {
   "cell_type": "code",
   "execution_count": 32,
   "metadata": {},
   "outputs": [
    {
     "name": "stdout",
     "output_type": "stream",
     "text": [
      "Training set class distribution: [400 214]\n",
      "Validation set class distribution: [100  53]\n",
      "Accuracy: 0.3464052287581699\n",
      "Precision: 0.3464052287581699\n",
      "Recall: 1.0\n",
      "F1 Score: 0.5145631067961165\n",
      "Mean Squared Error: 0.6535947712418301\n",
      "Root Mean Squared Error: 0.8084520834544433\n",
      "Mean Absolute Error: 0.6535947712418301\n"
     ]
    }
   ],
   "source": [
    "import numpy as np\n",
    "import pandas as pd\n",
    "\n",
    "def stratified_train_test_split(X, y, test_size=0.2, random_state=None):\n",
    "    \"\"\"\n",
    "    Custom function to split data into training and testing sets with stratification.\n",
    "    \n",
    "    Parameters:\n",
    "    - X: Features.\n",
    "    - y: Labels.\n",
    "    - test_size: Proportion of the data to use as test data.\n",
    "    - random_state: Seed for the random number generator.\n",
    "    \n",
    "    Returns:\n",
    "    - X_train, X_test, y_train, y_test: The split datasets.\n",
    "    \"\"\"\n",
    "    \n",
    "    if random_state is not None:\n",
    "        np.random.seed(random_state)\n",
    "    \n",
    "    # Get unique classes and their corresponding indices\n",
    "    unique_classes, y_indices = np.unique(y, return_inverse=True)\n",
    "    \n",
    "    # List to hold training and test indices\n",
    "    train_indices = []\n",
    "    test_indices = []\n",
    "    \n",
    "    # Split the data for each class\n",
    "    for class_index in range(len(unique_classes)):\n",
    "        class_indices = np.where(y_indices == class_index)[0]\n",
    "        np.random.shuffle(class_indices)  # Shuffle the class indices\n",
    "        n_test = int(np.floor(test_size * len(class_indices)))  # Determine number of test samples\n",
    "        test_indices.extend(class_indices[:n_test])\n",
    "        train_indices.extend(class_indices[n_test:])\n",
    "    \n",
    "    # Convert lists to arrays\n",
    "    train_indices = np.array(train_indices)\n",
    "    test_indices = np.array(test_indices)\n",
    "    \n",
    "    # Split the data\n",
    "    X_train, X_test = X[train_indices], X[test_indices]\n",
    "    y_train, y_test = y[train_indices], y[test_indices]\n",
    "    \n",
    "    return X_train, X_test, y_train, y_test\n",
    "\n",
    "# Load dataset using Pandas\n",
    "df = pd.read_csv(f\"{paths['PATH_COMMON_DATASETS']}/pima-indians-diabetes.data.csv\", delimiter=\",\")\n",
    "\n",
    "# Convert the DataFrame to a NumPy array\n",
    "dataset = df.to_numpy()\n",
    "\n",
    "# Shuffle the entire dataset\n",
    "np.random.shuffle(dataset)\n",
    "\n",
    "# Split the dataset into input (X) and output (y) variables\n",
    "X = dataset[:, 0:8]\n",
    "y = dataset[:, 8]\n",
    "\n",
    "# Perform stratified train-test split\n",
    "X_train, X_val, y_train, y_val = stratified_train_test_split(X, y, test_size=0.2, random_state=7)\n",
    "\n",
    "# standarization (if required)\n",
    "X_train = (X_train - X_train.mean(axis=0)) / X_train.std(axis=0)\n",
    "X_val = (X_val - X_train.mean(axis=0)) / X_train.std(axis=0)\n",
    "\n",
    "# Check the distribution of classes in training and validation sets\n",
    "print(\"Training set class distribution:\", np.bincount(y_train.astype(int)))\n",
    "print(\"Validation set class distribution:\", np.bincount(y_val.astype(int)))\n",
    "\n",
    "# Use the custom KNN class (assuming you've implemented it as before)\n",
    "from ikt450.common.classes.knn import KNN\n",
    "knn = KNN(k=3)\n",
    "knn.fit(X_train, y_train)\n",
    "\n",
    "\n",
    "tmp = knn.evaluate(X_val, y_val)\n",
    "\n",
    "accuracy = tmp['accuracy']\n",
    "precision = tmp['precision']\n",
    "recall = tmp['recall']\n",
    "f1_score = tmp['f1']\n",
    "mse = tmp['mse']\n",
    "rmse = tmp['rmse']\n",
    "mae = tmp['mae']\n",
    "del tmp\n",
    "\n",
    "print(\"Accuracy:\", accuracy)\n",
    "print(\"Precision:\", precision)\n",
    "print(\"Recall:\", recall)\n",
    "print(\"F1 Score:\", f1_score)\n",
    "\n",
    "y_pred = knn.predict(X_val)\n",
    "# Error metrics\n",
    "mse = np.mean((y_val - y_pred) ** 2)\n",
    "rmse = np.sqrt(mse)\n",
    "mae = np.mean(np.abs(y_val - y_pred))\n",
    "print(\"Mean Squared Error:\", mse)\n",
    "print(\"Root Mean Squared Error:\", rmse)\n",
    "print(\"Mean Absolute Error:\", mae)\n",
    "\n"
   ]
  },
  {
   "cell_type": "code",
   "execution_count": 33,
   "metadata": {},
   "outputs": [],
   "source": [
    "results.append({\n",
    "    'approach': 'Custom stratified KNN',\n",
    "    'accuracy': accuracy,\n",
    "    'precision': precision,\n",
    "    'recall': recall,\n",
    "    'f1_score': f1_score,\n",
    "    'mse': mse,\n",
    "    'rmse': rmse,\n",
    "    'mae': mae\n",
    "})"
   ]
  },
  {
   "cell_type": "code",
   "execution_count": 34,
   "metadata": {},
   "outputs": [
    {
     "name": "stdout",
     "output_type": "stream",
     "text": [
      "Results for Custom KNN:\n",
      "Accuracy: 0.5064935064935064\n",
      "Precision: 0.345679012345679\n",
      "Recall: 0.5490196078431373\n",
      "F1 Score: 0.42424242424242425\n",
      "Mean Squared Error: 0.4935064935064935\n",
      "Root Mean Squared Error: 0.7025001733142089\n",
      "Mean Absolute Error: 0.4935064935064935\n",
      "----------------------------------------\n",
      "Results for Sklearn KNN:\n",
      "Accuracy: 0.6233766233766234\n",
      "Precision: 0.33962264150943394\n",
      "Recall: 0.36\n",
      "F1 Score: 0.34951456310679613\n",
      "Mean Squared Error: 0.43506493506493504\n",
      "Root Mean Squared Error: 0.659594523222362\n",
      "Mean Absolute Error: 0.43506493506493504\n",
      "----------------------------------------\n",
      "Results for Custom stratified KNN:\n",
      "Accuracy: 0.3464052287581699\n",
      "Precision: 0.3464052287581699\n",
      "Recall: 1.0\n",
      "F1 Score: 0.5145631067961165\n",
      "Mean Squared Error: 0.6535947712418301\n",
      "Root Mean Squared Error: 0.8084520834544433\n",
      "Mean Absolute Error: 0.6535947712418301\n",
      "----------------------------------------\n"
     ]
    }
   ],
   "source": [
    "for result in results:\n",
    "    print(f\"Results for {result['approach']}:\")\n",
    "    print(f\"Accuracy: {result['accuracy']}\")\n",
    "    print(f\"Precision: {result['precision']}\")\n",
    "    print(f\"Recall: {result['recall']}\")\n",
    "    print(f\"F1 Score: {result['f1_score']}\")\n",
    "    print(f\"Mean Squared Error: {result['mse']}\")\n",
    "    print(f\"Root Mean Squared Error: {result['rmse']}\")\n",
    "    print(f\"Mean Absolute Error: {result['mae']}\")\n",
    "    print(\"-\" * 40)"
   ]
  },
  {
   "cell_type": "code",
   "execution_count": 35,
   "metadata": {},
   "outputs": [
    {
     "data": {
      "text/plain": [
       "array([1, 1, 1, 1, 1, 1, 1, 1, 1, 1, 1, 1, 1, 1, 1, 1, 1, 1, 1, 1, 1, 1,\n",
       "       1, 1, 1, 1, 1, 1, 1, 1, 1, 1, 1, 1, 1, 1, 1, 1, 1, 1, 1, 1, 1, 1,\n",
       "       1, 1, 1, 1, 1, 1, 1, 1, 1, 1, 1, 1, 1, 1, 1, 1, 1, 1, 1, 1, 1, 1,\n",
       "       1, 1, 1, 1, 1, 1, 1, 1, 1, 1, 1, 1, 1, 1, 1, 1, 1, 1, 1, 1, 1, 1,\n",
       "       1, 1, 1, 1, 1, 1, 1, 1, 1, 1, 1, 1, 1, 1, 1, 1, 1, 1, 1, 1, 1, 1,\n",
       "       1, 1, 1, 1, 1, 1, 1, 1, 1, 1, 1, 1, 1, 1, 1, 1, 1, 1, 1, 1, 1, 1,\n",
       "       1, 1, 1, 1, 1, 1, 1, 1, 1, 1, 1, 1, 1, 1, 1, 1, 1, 1, 1, 1, 1],\n",
       "      dtype=int64)"
      ]
     },
     "execution_count": 35,
     "metadata": {},
     "output_type": "execute_result"
    }
   ],
   "source": [
    "# Predict the class labels for the validation set\n",
    "y_pred = knn.predict(X_val)\n",
    "y_pred"
   ]
  },
  {
   "cell_type": "code",
   "execution_count": 36,
   "metadata": {},
   "outputs": [
    {
     "name": "stdout",
     "output_type": "stream",
     "text": [
      "Mean Squared Error: 0.6535947712418301\n",
      "Root Mean Squared Error: 0.8084520834544433\n",
      "Mean Absolute Error: 0.6535947712418301\n"
     ]
    }
   ],
   "source": [
    "# Error metrics\n",
    "mse = np.mean((y_val - y_pred) ** 2)\n",
    "rmse = np.sqrt(mse)\n",
    "mae = np.mean(np.abs(y_val - y_pred))\n",
    "print(\"Mean Squared Error:\", mse)\n",
    "print(\"Root Mean Squared Error:\", rmse)\n",
    "print(\"Mean Absolute Error:\", mae)\n"
   ]
  },
  {
   "cell_type": "markdown",
   "metadata": {},
   "source": [
    "## 5.4 Hyperparameter Tuning\n",
    "<!--\n",
    "- Fine-tune the model using techniques like Grid Search or Random Search.\n",
    "- Evaluate the impact of different hyperparameters.\n",
    "-->"
   ]
  },
  {
   "cell_type": "markdown",
   "metadata": {},
   "source": [
    "To determine best K, we need to test each K with a number of diffrent datasett shuffles"
   ]
  },
  {
   "cell_type": "code",
   "execution_count": 37,
   "metadata": {},
   "outputs": [],
   "source": [
    "dataset = df.to_numpy()"
   ]
  },
  {
   "cell_type": "code",
   "execution_count": 38,
   "metadata": {},
   "outputs": [
    {
     "name": "stdout",
     "output_type": "stream",
     "text": [
      "Running for k = 1\n",
      "Running for k = 3\n",
      "Running for k = 5\n",
      "Running for k = 7\n",
      "Running for k = 9\n",
      "Running for k = 11\n",
      "Running for k = 13\n",
      "Running for k = 15\n",
      "Running for k = 17\n",
      "Running for k = 19\n",
      "Running for k = 21\n",
      "Running for k = 23\n",
      "Running for k = 25\n",
      "Running for k = 27\n",
      "Running for k = 29\n",
      "Running for k = 31\n",
      "Running for k = 33\n",
      "Running for k = 35\n",
      "Running for k = 37\n",
      "Running for k = 39\n",
      "Running for k = 41\n",
      "Running for k = 43\n",
      "Running for k = 45\n",
      "Running for k = 47\n",
      "Running for k = 49\n",
      "Running for k = 51\n",
      "Running for k = 53\n",
      "Running for k = 55\n",
      "Running for k = 57\n",
      "Running for k = 59\n",
      "Running for k = 61\n",
      "Running for k = 63\n",
      "Running for k = 65\n",
      "Running for k = 67\n",
      "Running for k = 69\n",
      "Running for k = 71\n",
      "Running for k = 73\n",
      "Running for k = 75\n",
      "Running for k = 77\n",
      "Running for k = 79\n",
      "Running for k = 81\n",
      "Running for k = 83\n",
      "Running for k = 85\n",
      "Running for k = 87\n",
      "Running for k = 89\n",
      "Running for k = 91\n",
      "Running for k = 93\n",
      "Running for k = 95\n",
      "Running for k = 97\n",
      "Running for k = 99\n",
      "Running for k = 101\n",
      "Running for k = 103\n",
      "Running for k = 105\n",
      "Running for k = 107\n",
      "Running for k = 109\n",
      "Running for k = 111\n",
      "Running for k = 113\n",
      "Running for k = 115\n",
      "Running for k = 117\n",
      "Running for k = 119\n",
      "Running for k = 121\n",
      "Running for k = 123\n",
      "Running for k = 125\n",
      "Running for k = 127\n",
      "Running for k = 129\n",
      "Running for k = 131\n",
      "Running for k = 133\n",
      "Running for k = 135\n",
      "Running for k = 137\n",
      "Running for k = 139\n",
      "Running for k = 141\n",
      "Running for k = 143\n",
      "Running for k = 145\n",
      "Running for k = 147\n",
      "Running for k = 149\n",
      "Running for k = 151\n"
     ]
    }
   ],
   "source": [
    "results_find_k = []\n",
    "\n",
    "dataset[:, 0:8] = (dataset[:, 0:8] - dataset[:, 0:8].mean(axis=0)) / dataset[:, 0:8].std(axis=0)\n",
    "\n",
    "for i in range(1,152,2):\n",
    "    print(f\"Running for k = {i}\")\n",
    "    knn = KNN(k=i)\n",
    "\n",
    "\n",
    "    for j in range(500):            \n",
    "            np.random.shuffle(dataset)\n",
    "            \n",
    "            X_train = dataset[:int(len(dataset)*SPLITRATIO), 0:8]\n",
    "            X_val = dataset[int(len(dataset)*SPLITRATIO):, 0:8]\n",
    "            Y_train = dataset[:int(len(dataset)*SPLITRATIO), 8]\n",
    "            Y_val = dataset[int(len(dataset)*SPLITRATIO):, 8]\n",
    "            \n",
    "         \n",
    "            \n",
    "           \n",
    "            knn.fit(X_train, Y_train)\n",
    "            \n",
    "            tmp = knn.evaluate(X_val, Y_val)\n",
    "\n",
    "            accuracy = tmp['accuracy']\n",
    "            precision = tmp['precision']\n",
    "            recall = tmp['recall']\n",
    "            f1_score = tmp['f1']\n",
    "            mse = tmp['mse']\n",
    "            rmse = tmp['rmse']\n",
    "            mae = tmp['mae']\n",
    "            del tmp\n",
    "            \n",
    "            results_find_k.append({\n",
    "                'approach': 'Custom KNN',\n",
    "                'k': i,\n",
    "                'accuracy': accuracy,\n",
    "                'precision': precision,\n",
    "                'recall': recall,\n",
    "                'f1_score': f1_score,\n",
    "                'mse': mse,\n",
    "                'rmse': rmse,\n",
    "                'mae': mae\n",
    "              \n",
    "            })"
   ]
  },
  {
   "cell_type": "code",
   "execution_count": 39,
   "metadata": {},
   "outputs": [],
   "source": [
    "results_find_k_df = pd.DataFrame(results_find_k)\n",
    "# pickle the results\n"
   ]
  },
  {
   "cell_type": "code",
   "execution_count": 40,
   "metadata": {},
   "outputs": [],
   "source": [
    "results_find_k_df\n",
    "# remove approach column\n",
    "results_find_k_df = results_find_k_df.drop(columns=['approach'])\n",
    "# find the mean of each k\n",
    "results_find_k_df = results_find_k_df.groupby('k').mean()"
   ]
  },
  {
   "cell_type": "code",
   "execution_count": 41,
   "metadata": {},
   "outputs": [
    {
     "data": {
      "text/html": [
       "<div>\n",
       "<style scoped>\n",
       "    .dataframe tbody tr th:only-of-type {\n",
       "        vertical-align: middle;\n",
       "    }\n",
       "\n",
       "    .dataframe tbody tr th {\n",
       "        vertical-align: top;\n",
       "    }\n",
       "\n",
       "    .dataframe thead th {\n",
       "        text-align: right;\n",
       "    }\n",
       "</style>\n",
       "<table border=\"1\" class=\"dataframe\">\n",
       "  <thead>\n",
       "    <tr style=\"text-align: right;\">\n",
       "      <th></th>\n",
       "      <th>accuracy</th>\n",
       "      <th>precision</th>\n",
       "      <th>recall</th>\n",
       "      <th>f1_score</th>\n",
       "      <th>mse</th>\n",
       "      <th>rmse</th>\n",
       "      <th>mae</th>\n",
       "    </tr>\n",
       "    <tr>\n",
       "      <th>k</th>\n",
       "      <th></th>\n",
       "      <th></th>\n",
       "      <th></th>\n",
       "      <th></th>\n",
       "      <th></th>\n",
       "      <th></th>\n",
       "      <th></th>\n",
       "    </tr>\n",
       "  </thead>\n",
       "  <tbody>\n",
       "    <tr>\n",
       "      <th>1</th>\n",
       "      <td>0.701675</td>\n",
       "      <td>0.576407</td>\n",
       "      <td>0.529760</td>\n",
       "      <td>0.549573</td>\n",
       "      <td>0.298325</td>\n",
       "      <td>0.545236</td>\n",
       "      <td>0.298325</td>\n",
       "    </tr>\n",
       "    <tr>\n",
       "      <th>3</th>\n",
       "      <td>0.733416</td>\n",
       "      <td>0.632733</td>\n",
       "      <td>0.556969</td>\n",
       "      <td>0.589393</td>\n",
       "      <td>0.266584</td>\n",
       "      <td>0.515389</td>\n",
       "      <td>0.266584</td>\n",
       "    </tr>\n",
       "    <tr>\n",
       "      <th>5</th>\n",
       "      <td>0.734961</td>\n",
       "      <td>0.642642</td>\n",
       "      <td>0.541124</td>\n",
       "      <td>0.584659</td>\n",
       "      <td>0.265039</td>\n",
       "      <td>0.513911</td>\n",
       "      <td>0.265039</td>\n",
       "    </tr>\n",
       "    <tr>\n",
       "      <th>7</th>\n",
       "      <td>0.736208</td>\n",
       "      <td>0.645224</td>\n",
       "      <td>0.540139</td>\n",
       "      <td>0.585234</td>\n",
       "      <td>0.263792</td>\n",
       "      <td>0.512633</td>\n",
       "      <td>0.263792</td>\n",
       "    </tr>\n",
       "    <tr>\n",
       "      <th>9</th>\n",
       "      <td>0.738078</td>\n",
       "      <td>0.654014</td>\n",
       "      <td>0.529934</td>\n",
       "      <td>0.582280</td>\n",
       "      <td>0.261922</td>\n",
       "      <td>0.510844</td>\n",
       "      <td>0.261922</td>\n",
       "    </tr>\n",
       "    <tr>\n",
       "      <th>...</th>\n",
       "      <td>...</td>\n",
       "      <td>...</td>\n",
       "      <td>...</td>\n",
       "      <td>...</td>\n",
       "      <td>...</td>\n",
       "      <td>...</td>\n",
       "      <td>...</td>\n",
       "    </tr>\n",
       "    <tr>\n",
       "      <th>143</th>\n",
       "      <td>0.710948</td>\n",
       "      <td>0.805920</td>\n",
       "      <td>0.228182</td>\n",
       "      <td>0.351395</td>\n",
       "      <td>0.289052</td>\n",
       "      <td>0.536407</td>\n",
       "      <td>0.289052</td>\n",
       "    </tr>\n",
       "    <tr>\n",
       "      <th>145</th>\n",
       "      <td>0.711390</td>\n",
       "      <td>0.803875</td>\n",
       "      <td>0.227241</td>\n",
       "      <td>0.350002</td>\n",
       "      <td>0.288610</td>\n",
       "      <td>0.536107</td>\n",
       "      <td>0.288610</td>\n",
       "    </tr>\n",
       "    <tr>\n",
       "      <th>147</th>\n",
       "      <td>0.709273</td>\n",
       "      <td>0.811686</td>\n",
       "      <td>0.221693</td>\n",
       "      <td>0.343916</td>\n",
       "      <td>0.290727</td>\n",
       "      <td>0.537995</td>\n",
       "      <td>0.290727</td>\n",
       "    </tr>\n",
       "    <tr>\n",
       "      <th>149</th>\n",
       "      <td>0.707338</td>\n",
       "      <td>0.813077</td>\n",
       "      <td>0.217686</td>\n",
       "      <td>0.338878</td>\n",
       "      <td>0.292662</td>\n",
       "      <td>0.539686</td>\n",
       "      <td>0.292662</td>\n",
       "    </tr>\n",
       "    <tr>\n",
       "      <th>151</th>\n",
       "      <td>0.707896</td>\n",
       "      <td>0.810428</td>\n",
       "      <td>0.214983</td>\n",
       "      <td>0.335567</td>\n",
       "      <td>0.292104</td>\n",
       "      <td>0.539231</td>\n",
       "      <td>0.292104</td>\n",
       "    </tr>\n",
       "  </tbody>\n",
       "</table>\n",
       "<p>76 rows × 7 columns</p>\n",
       "</div>"
      ],
      "text/plain": [
       "     accuracy  precision    recall  f1_score       mse      rmse       mae\n",
       "k                                                                         \n",
       "1    0.701675   0.576407  0.529760  0.549573  0.298325  0.545236  0.298325\n",
       "3    0.733416   0.632733  0.556969  0.589393  0.266584  0.515389  0.266584\n",
       "5    0.734961   0.642642  0.541124  0.584659  0.265039  0.513911  0.265039\n",
       "7    0.736208   0.645224  0.540139  0.585234  0.263792  0.512633  0.263792\n",
       "9    0.738078   0.654014  0.529934  0.582280  0.261922  0.510844  0.261922\n",
       "..        ...        ...       ...       ...       ...       ...       ...\n",
       "143  0.710948   0.805920  0.228182  0.351395  0.289052  0.536407  0.289052\n",
       "145  0.711390   0.803875  0.227241  0.350002  0.288610  0.536107  0.288610\n",
       "147  0.709273   0.811686  0.221693  0.343916  0.290727  0.537995  0.290727\n",
       "149  0.707338   0.813077  0.217686  0.338878  0.292662  0.539686  0.292662\n",
       "151  0.707896   0.810428  0.214983  0.335567  0.292104  0.539231  0.292104\n",
       "\n",
       "[76 rows x 7 columns]"
      ]
     },
     "execution_count": 41,
     "metadata": {},
     "output_type": "execute_result"
    }
   ],
   "source": [
    "results_find_k_df"
   ]
  },
  {
   "cell_type": "code",
   "execution_count": 42,
   "metadata": {},
   "outputs": [
    {
     "data": {
      "image/png": "[encoded data removed]",
      "text/plain": [
       "<Figure size 1200x600 with 1 Axes>"
      ]
     },
     "metadata": {},
     "output_type": "display_data"
    }
   ],
   "source": [
    "# plot the results\n",
    "plt.figure(figsize=(12,6))\n",
    "plt.plot(results_find_k_df.index, results_find_k_df['accuracy'], label='Accuracy')\n",
    "#plt.plot(results_find_k_df.index, results_find_k_df['precision'], label='Precision')\n",
    "#plt.plot(results_find_k_df.index, results_find_k_df['recall'], label='Recall')\n",
    "#plt.plot(results_find_k_df.index, results_find_k_df['f1_score'], label='F1 Score')\n",
    "plt.plot(results_find_k_df.index, results_find_k_df['mse'], label='MSE')\n",
    "#plt.plot(results_find_k_df.index, results_find_k_df['rmse'], label='RMSE')\n",
    "#plt.plot(results_find_k_df.index, results_find_k_df['mae'], label='MAE')\n",
    "plt.xlabel('k')\n",
    "plt.ylabel('Score')\n",
    "plt.title('Performance Metrics vs. k')\n",
    "plt.legend()\n",
    "plt.grid(True)\n",
    "plt.show()"
   ]
  },
  {
   "cell_type": "code",
   "execution_count": 43,
   "metadata": {},
   "outputs": [
    {
     "data": {
      "image/png": "[encoded data removed]",
      "text/plain": [
       "<Figure size 1200x600 with 1 Axes>"
      ]
     },
     "metadata": {},
     "output_type": "display_data"
    }
   ],
   "source": [
    "# plot the results\n",
    "plt.figure(figsize=(12,6))\n",
    "plt.plot(results_find_k_df.index, results_find_k_df['accuracy'], label='Accuracy')\n",
    "plt.plot(results_find_k_df.index, results_find_k_df['precision'], label='Precision')\n",
    "plt.plot(results_find_k_df.index, results_find_k_df['recall'], label='Recall')\n",
    "plt.plot(results_find_k_df.index, results_find_k_df['f1_score'], label='F1 Score')\n",
    "plt.plot(results_find_k_df.index, results_find_k_df['mse'], label='MSE')\n",
    "plt.plot(results_find_k_df.index, results_find_k_df['rmse'], label='RMSE')\n",
    "plt.plot(results_find_k_df.index, results_find_k_df['mae'], label='MAE')\n",
    "plt.xlabel('k')\n",
    "plt.ylabel('Score')\n",
    "plt.title('Performance Metrics vs. k')\n",
    "plt.legend()\n",
    "plt.grid(True)\n",
    "plt.show()"
   ]
  },
  {
   "cell_type": "code",
   "execution_count": 41,
   "metadata": {},
   "outputs": [
    {
     "data": {
      "image/png": "[encoded data removed]",
      "text/plain": [
       "<Figure size 800x600 with 1 Axes>"
      ]
     },
     "metadata": {},
     "output_type": "display_data"
    }
   ],
   "source": [
    "# with k = 19 create a konfusion matrix\n",
    "knn = KNN(k=19)\n",
    "\n",
    "np.random.shuffle(dataset)\n",
    "\n",
    "X_train = dataset[:int(len(dataset)*SPLITRATIO), 0:8]\n",
    "X_val = dataset[int(len(dataset)*SPLITRATIO):, 0:8]\n",
    "Y_train = dataset[:int(len(dataset)*SPLITRATIO), 8]\n",
    "Y_val = dataset[int(len(dataset)*SPLITRATIO):, 8]\n",
    "\n",
    "knn.fit(X_train, Y_train)\n",
    "\n",
    "y_pred = knn.predict(X_val)\n",
    "\n",
    "# Create a confusion matrix with only nympy\n",
    "\n",
    "def confusion_matrix_1(y_true, y_pred):\n",
    "    classes = np.unique(y_true)\n",
    "    n_classes = len(classes)\n",
    "    matrix = np.zeros((n_classes, n_classes))\n",
    "    \n",
    "    for i in range(n_classes):\n",
    "        for j in range(n_classes):\n",
    "            matrix[i, j] = np.sum((y_true == classes[i]) & (y_pred == classes[j]))\n",
    "    \n",
    "    return matrix\n",
    "\n",
    "confusion_matrix_1(Y_val, y_pred)\n",
    "\n",
    "# plot the confusion matrix\n",
    "import seaborn as sns\n",
    "\n",
    "cm = confusion_matrix_1(Y_val, y_pred)\n",
    "\n",
    "plt.figure(figsize=(8, 6))\n",
    "c = sns.heatmap(cm, annot=True, fmt='g', cmap='Blues', xticklabels=np.unique(Y_val), yticklabels=np.unique(Y_val))\n",
    "# remove the gradient bar\n",
    "c.collections[0].colorbar.remove()\n",
    "plt.xlabel('Predicted labels')\n",
    "plt.ylabel('True labels')\n",
    "plt.title('Confusion Matrix')\n",
    "plt.show()"
   ]
  },
  {
   "cell_type": "markdown",
   "metadata": {},
   "source": [
    "## 5.5 Model Testing\n",
    "<!--\n",
    "- Evaluate the final model on the test dataset.\n",
    "- Ensure that the model generalizes well to unseen data.\n",
    "-->"
   ]
  },
  {
   "cell_type": "markdown",
   "metadata": {},
   "source": [
    "## 5.6 Model Interpretation (Optional)\n",
    "<!--\n",
    "- Interpret the model results (e.g., feature importance, SHAP values).\n",
    "- Discuss the strengths and limitations of the model.\n",
    "-->"
   ]
  },
  {
   "cell_type": "markdown",
   "metadata": {},
   "source": [
    "---"
   ]
  },
  {
   "cell_type": "markdown",
   "metadata": {},
   "source": [
    "# 6. Predictions\n"
   ]
  },
  {
   "cell_type": "markdown",
   "metadata": {},
   "source": [
    "## 6.1 Make Predictions\n",
    "<!--\n",
    "- Use the trained model to make predictions on new/unseen data.\n",
    "-->"
   ]
  },
  {
   "cell_type": "markdown",
   "metadata": {},
   "source": [
    "## 6.2 Save Model and Results\n",
    "<!--\n",
    "- Save the trained model to disk for future use.\n",
    "- Export prediction results for further analysis.\n",
    "-->"
   ]
  },
  {
   "cell_type": "markdown",
   "metadata": {},
   "source": [
    "---"
   ]
  },
  {
   "cell_type": "markdown",
   "metadata": {},
   "source": [
    "# 7. Documentation and Reporting"
   ]
  },
  {
   "cell_type": "markdown",
   "metadata": {},
   "source": [
    "## 7.1 Summary of Findings\n",
    "<!--\n",
    "- Summarize the results and findings of the analysis.\n",
    "-->"
   ]
  },
  {
   "cell_type": "markdown",
   "metadata": {},
   "source": [
    "## 7.2 Next Steps\n",
    "<!--\n",
    "- Suggest further improvements, alternative models, or future work.\n",
    "-->"
   ]
  },
  {
   "cell_type": "markdown",
   "metadata": {},
   "source": [
    "## 7.3 References\n",
    "<!--\n",
    "- Cite any resources, papers, or documentation used.\n",
    "-->"
   ]
  }
 ],
 "metadata": {
  "kernelspec": {
   "display_name": "env",
   "language": "python",
   "name": "python3"
  },
  "language_info": {
   "codemirror_mode": {
    "name": "ipython",
    "version": 3
   },
   "file_extension": ".py",
   "mimetype": "text/x-python",
   "name": "python",
   "nbconvert_exporter": "python",
   "pygments_lexer": "ipython3",
   "version": "3.12.4"
  }
 },
 "nbformat": 4,
 "nbformat_minor": 2
}
